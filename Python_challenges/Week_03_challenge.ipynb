{
 "cells": [
  {
   "cell_type": "markdown",
   "id": "713b12d7",
   "metadata": {},
   "source": [
    "# Week_03 Challenge "
   ]
  },
  {
   "cell_type": "markdown",
   "id": "df265029",
   "metadata": {},
   "source": [
    "### Q1 . Write a program to accept an integer n greater than 10. Then print all the odd numbers from 1 to n."
   ]
  },
  {
   "cell_type": "code",
   "execution_count": 13,
   "id": "950cbdf7",
   "metadata": {},
   "outputs": [
    {
     "name": "stdout",
     "output_type": "stream",
     "text": [
      "Enter any number greater than 10 : 22\n",
      "The number 1 is odd number \n",
      "The number 3 is odd number \n",
      "The number 5 is odd number \n",
      "The number 7 is odd number \n",
      "The number 9 is odd number \n",
      "The number 11 is odd number \n",
      "The number 13 is odd number \n",
      "The number 15 is odd number \n",
      "The number 17 is odd number \n",
      "The number 19 is odd number \n",
      "The number 21 is odd number \n"
     ]
    }
   ],
   "source": [
    "n = int(input('Enter any number greater than 10 : '))\n",
    "\n",
    "if n > 10 : \n",
    "    for i in range(1,n +1 ): \n",
    "        if i % 2 != 0 :\n",
    "            print('The number',i,'is odd number ')\n",
    "            \n",
    "else : \n",
    "    print('invalid input(enter no. greater than 10)')\n",
    "    \n",
    " "
   ]
  },
  {
   "cell_type": "markdown",
   "id": "07df1faf",
   "metadata": {},
   "source": [
    "# ---------------------------------------------------------------------------------------------------------------"
   ]
  },
  {
   "cell_type": "markdown",
   "id": "bad2645f",
   "metadata": {},
   "source": [
    "### Q2.  Write a program to accept an integer n greater than 10. Then print all the prime numbers from 1 to n."
   ]
  },
  {
   "cell_type": "code",
   "execution_count": 3,
   "id": "aa1bebea",
   "metadata": {},
   "outputs": [
    {
     "name": "stdout",
     "output_type": "stream",
     "text": [
      "Enter a value of integer greater than 10 : 20\n",
      "2 is a Prime Number \n",
      "3 is a Prime Number \n",
      "5 is a Prime Number \n",
      "7 is a Prime Number \n",
      "11 is a Prime Number \n",
      "13 is a Prime Number \n",
      "17 is a Prime Number \n",
      "19 is a Prime Number \n"
     ]
    }
   ],
   "source": [
    "n = int(input('Enter a value of integer greater than 10 : '))\n",
    "\n",
    "if n > 10 : \n",
    "    \n",
    "    for i in range(2, n): \n",
    "        for j in range(2,i): \n",
    "            if i % j == 0 : \n",
    "                break\n",
    "        else: \n",
    "            print(i, 'is a Prime Number ')\n",
    "              \n",
    "              \n",
    "       \n",
    "    "
   ]
  },
  {
   "cell_type": "markdown",
   "id": "1f8d4826",
   "metadata": {},
   "source": [
    "# ---------------------------------------------------------------------------------------------------------------"
   ]
  },
  {
   "cell_type": "markdown",
   "id": "f78b7083",
   "metadata": {},
   "source": [
    "### Q3. In this exercise you will create a program that computes the average of a collection of values entered by the user. The user will enter 0 as a sentinel value to indicate that no further values will be provided. Your program should display an appropriate error message if the first value entered by the user is 0"
   ]
  },
  {
   "cell_type": "code",
   "execution_count": 10,
   "id": "ca883969",
   "metadata": {},
   "outputs": [
    {
     "name": "stdout",
     "output_type": "stream",
     "text": [
      "Enter the value of n numbers : 5\n",
      "Enter the new number : 0\n",
      "Error ! , please enter value greater than 0\n",
      "Average of entered 5 numbers is  0.0\n"
     ]
    }
   ],
   "source": [
    "# Average of numbers \n",
    "\n",
    "\n",
    "n = int(input('Enter the value of n numbers : '))\n",
    "\n",
    "sum = 0 \n",
    "\n",
    "for i in range(0,n):\n",
    "    num = int(input('Enter the new number : '))\n",
    "    if num > 0 :\n",
    "        sum += num \n",
    "    else : \n",
    "        print('Error ! , please enter value greater than 0')\n",
    "        break\n",
    "Average = sum/n \n",
    "print('Average of entered',n,'numbers is ',Average)"
   ]
  },
  {
   "cell_type": "markdown",
   "id": "3b79127b",
   "metadata": {},
   "source": [
    "# --------------------------------------------------------------------------------------------------------------"
   ]
  },
  {
   "cell_type": "markdown",
   "id": "30a4d75c",
   "metadata": {},
   "source": [
    "### Q4. Write a program that takes a number as input and prints its multiplication table."
   ]
  },
  {
   "cell_type": "code",
   "execution_count": 59,
   "id": "1abc1a70",
   "metadata": {},
   "outputs": [
    {
     "name": "stdout",
     "output_type": "stream",
     "text": [
      "Enter the number : 6\n",
      "╒═══╤═══╕\n",
      "│ 1 │ 6 │\n",
      "╘═══╧═══╛\n",
      "╒═══╤════╕\n",
      "│ 2 │ 12 │\n",
      "╘═══╧════╛\n",
      "╒═══╤════╕\n",
      "│ 3 │ 18 │\n",
      "╘═══╧════╛\n",
      "╒═══╤════╕\n",
      "│ 4 │ 24 │\n",
      "╘═══╧════╛\n",
      "╒═══╤════╕\n",
      "│ 5 │ 30 │\n",
      "╘═══╧════╛\n",
      "╒═══╤════╕\n",
      "│ 6 │ 36 │\n",
      "╘═══╧════╛\n",
      "╒═══╤════╕\n",
      "│ 7 │ 42 │\n",
      "╘═══╧════╛\n",
      "╒═══╤════╕\n",
      "│ 8 │ 48 │\n",
      "╘═══╧════╛\n",
      "╒═══╤════╕\n",
      "│ 9 │ 54 │\n",
      "╘═══╧════╛\n",
      "╒════╤════╕\n",
      "│ 10 │ 60 │\n",
      "╘════╧════╛\n"
     ]
    }
   ],
   "source": [
    "# Getting input from user \n",
    "n = int(input('Enter the number : '))\n",
    "\n",
    "# For loop logic \n",
    "for i in range(1,11):\n",
    "    num = n * i \n",
    "    data = [[i,num]]\n",
    "    print(tabulate(data,tablefmt = 'fancy_grid'))\n",
    " \n"
   ]
  },
  {
   "cell_type": "markdown",
   "id": "0ad4e899",
   "metadata": {},
   "source": [
    "# --------------------------------------------------------------------------------------------------------------"
   ]
  },
  {
   "cell_type": "markdown",
   "id": "5f85c993",
   "metadata": {},
   "source": [
    "### Q5. Write a program that displays a temperature conversion table for degrees Celsius and degrees Fahrenheit. The table should include rows for all temperatures between 0 and 100 degrees Celsius that are multiples of 10 degrees Celsius. Include appropriate headings on your columns."
   ]
  },
  {
   "cell_type": "code",
   "execution_count": 63,
   "id": "070301fb",
   "metadata": {},
   "outputs": [
    {
     "name": "stdout",
     "output_type": "stream",
     "text": [
      "╒══════════════════╤══════════════════════╕\n",
      "│   Degree Celsius │   Degree Fahreinheit │\n",
      "╞══════════════════╪══════════════════════╡\n",
      "│                0 │                   32 │\n",
      "╘══════════════════╧══════════════════════╛\n",
      "╒══════════════════╤══════════════════════╕\n",
      "│   Degree Celsius │   Degree Fahreinheit │\n",
      "╞══════════════════╪══════════════════════╡\n",
      "│               10 │                   50 │\n",
      "╘══════════════════╧══════════════════════╛\n",
      "╒══════════════════╤══════════════════════╕\n",
      "│   Degree Celsius │   Degree Fahreinheit │\n",
      "╞══════════════════╪══════════════════════╡\n",
      "│               20 │                   68 │\n",
      "╘══════════════════╧══════════════════════╛\n",
      "╒══════════════════╤══════════════════════╕\n",
      "│   Degree Celsius │   Degree Fahreinheit │\n",
      "╞══════════════════╪══════════════════════╡\n",
      "│               30 │                   86 │\n",
      "╘══════════════════╧══════════════════════╛\n",
      "╒══════════════════╤══════════════════════╕\n",
      "│   Degree Celsius │   Degree Fahreinheit │\n",
      "╞══════════════════╪══════════════════════╡\n",
      "│               40 │                  104 │\n",
      "╘══════════════════╧══════════════════════╛\n",
      "╒══════════════════╤══════════════════════╕\n",
      "│   Degree Celsius │   Degree Fahreinheit │\n",
      "╞══════════════════╪══════════════════════╡\n",
      "│               50 │                  122 │\n",
      "╘══════════════════╧══════════════════════╛\n",
      "╒══════════════════╤══════════════════════╕\n",
      "│   Degree Celsius │   Degree Fahreinheit │\n",
      "╞══════════════════╪══════════════════════╡\n",
      "│               60 │                  140 │\n",
      "╘══════════════════╧══════════════════════╛\n",
      "╒══════════════════╤══════════════════════╕\n",
      "│   Degree Celsius │   Degree Fahreinheit │\n",
      "╞══════════════════╪══════════════════════╡\n",
      "│               70 │                  158 │\n",
      "╘══════════════════╧══════════════════════╛\n",
      "╒══════════════════╤══════════════════════╕\n",
      "│   Degree Celsius │   Degree Fahreinheit │\n",
      "╞══════════════════╪══════════════════════╡\n",
      "│               80 │                  176 │\n",
      "╘══════════════════╧══════════════════════╛\n",
      "╒══════════════════╤══════════════════════╕\n",
      "│   Degree Celsius │   Degree Fahreinheit │\n",
      "╞══════════════════╪══════════════════════╡\n",
      "│               90 │                  194 │\n",
      "╘══════════════════╧══════════════════════╛\n",
      "╒══════════════════╤══════════════════════╕\n",
      "│   Degree Celsius │   Degree Fahreinheit │\n",
      "╞══════════════════╪══════════════════════╡\n",
      "│              100 │                  212 │\n",
      "╘══════════════════╧══════════════════════╛\n"
     ]
    }
   ],
   "source": [
    "# importing tabulate function \n",
    "\n",
    "from tabulate import tabulate\n",
    "\n",
    "# Setting C to be 0 \n",
    "C = 0\n",
    "\n",
    "# heading of table\n",
    "head = [\"Degree Celsius\", \"Degree Fahreinheit\"]  \n",
    "\n",
    "# While loop logic \n",
    "while C < 110 : \n",
    "    F = 1.8 * C + 32 \n",
    "    \n",
    "    mydata = [[C,F]]\n",
    "    C += 10\n",
    "    \n",
    "    print(tabulate(mydata, headers=head, tablefmt=\"fancy_grid\"))\n",
    "    \n",
    "\n",
    "\n",
    "\n"
   ]
  },
  {
   "cell_type": "markdown",
   "id": "51e517e1",
   "metadata": {},
   "source": [
    "### Q6. A string is a palindrome if it is identical forward and backward. For example “anna”, “civic”, “level” and “madam” are all examples of palindrome words. Write a program that reads a string from the user and uses a loop to determine whether or not it is a palindrome. Display the result, including a meaningful output message6. A string is a palindrome if it is identical forward and backward. For example “anna”, “civic”, “level” and “madam” are all examples of palindrome words. Write a program that reads a string from the user and uses a loop to determine whether or not it is a palindrome. Display the result, including a meaningful output message"
   ]
  },
  {
   "cell_type": "code",
   "execution_count": 68,
   "id": "e711823d",
   "metadata": {},
   "outputs": [
    {
     "name": "stdout",
     "output_type": "stream",
     "text": [
      "Enter the wor here : vinayak\n",
      "The string  vinayak is not palindrome\n"
     ]
    }
   ],
   "source": [
    "\n",
    "# getting input from user  \n",
    "string = input('Enter the word here : ')\n",
    "\n",
    "# reversing the string \n",
    "rev = string[::-1]\n",
    "\n",
    "# For loopn logic \n",
    "\n",
    "for i in range(len(string)):\n",
    "    if string[i]!= rev[i]:\n",
    "        print('The string ',string,'is not palindrome')\n",
    "        break\n",
    "    else: \n",
    "        print('The string',string,'is a Palindrome')\n",
    "        break\n",
    "      \n",
    "\n",
    "    \n",
    "    \n",
    "  "
   ]
  },
  {
   "cell_type": "markdown",
   "id": "512973d7",
   "metadata": {},
   "source": [
    "# ---------------------------------------------------------------------------------------------------------------"
   ]
  },
  {
   "cell_type": "markdown",
   "id": "8ffa5f9a",
   "metadata": {},
   "source": [
    "### Q7. The greatest common divisor (GCD) of two positive integers, n and m, is the largest number, d, which divides evenly into both n and m. The following algorithm is used to find GCD of n and m \n",
    "\n",
    "\n",
    "    1.Initialize d to the smaller of m and n.\n",
    "    2.While d does not evenly divide m or d does not evenly divide n do\n",
    "    3.Decrease the value of d by 1\n",
    "    4.Report d as the greatest common divisor of n and m\n",
    "### Write a program that reads two positive integers from the user and uses this algorithm to determine and report their greatest common divisor."
   ]
  },
  {
   "cell_type": "code",
   "execution_count": 84,
   "id": "4e4ab021",
   "metadata": {},
   "outputs": [
    {
     "name": "stdout",
     "output_type": "stream",
     "text": [
      "Enter the first positive inetger : 24\n",
      "Enter the second positive integer : 20\n",
      "The Number  4 is GCD of numbers  24 and 20\n"
     ]
    }
   ],
   "source": [
    "# getting numbers from user \n",
    "\n",
    "m = int(input('Enter the first positive inetger : '))\n",
    "n = int(input('Enter the second positive integer : '))\n",
    "\n",
    "# taking value of d as min of m and n \n",
    "d = min(m,n)\n",
    "\n",
    "# while loop logic\n",
    "while d < m or d < n : \n",
    "    if m % d == 0 and n % d ==0 :\n",
    "        print('The Number ',d,'is GCD of numbers ',m,'and',n)\n",
    "        break\n",
    "    d += -1\n",
    "\n",
    "\n",
    "    \n",
    "\n"
   ]
  },
  {
   "cell_type": "markdown",
   "id": "70b2fac0",
   "metadata": {},
   "source": [
    "# ---------------------------------------------------------------------------------------------------------------"
   ]
  },
  {
   "cell_type": "markdown",
   "id": "a63ef685",
   "metadata": {},
   "source": [
    "### Q8. The prime factorization of an integer, n, can be determined using the following steps:\n",
    "\n",
    "         1.Initialize factor to two\n",
    "         2.While factor is less than or equal to n do\n",
    "         3.If n is evenly divisible by factor then\n",
    "         4. Conclude that factor is a factor of n\n",
    "         5.Divide n by factor using integer division\n",
    "         else: \n",
    "         6.Increase factor by one\n",
    "         \n",
    "### Write a program that reads an integer from the user. If the value entered by the user is less than 2 then your program should display an appropriate error message. Otherwise your program should display the prime numbers that can be multiplied together to compute n, with one factor appearing on each line."
   ]
  },
  {
   "cell_type": "code",
   "execution_count": 101,
   "id": "f95f68aa",
   "metadata": {},
   "outputs": [
    {
     "name": "stdout",
     "output_type": "stream",
     "text": [
      "Enter the value of n : 100\n",
      "factor is 2\n",
      "factor is 2\n",
      "factor is 5\n",
      "factor is 5\n"
     ]
    }
   ],
   "source": [
    "# Prime Factorization method \n",
    "\n",
    "factor = 2 \n",
    "\n",
    "# Getting input from user \n",
    "n = int(input('Enter the value of n : '))\n",
    "\n",
    "# while loop logic\n",
    "while factor <= n : \n",
    "    \n",
    "    if n % factor == 0 :\n",
    "        n /= factor\n",
    "        print('factor is',factor)\n",
    "         \n",
    "    else : \n",
    "        factor += 1"
   ]
  },
  {
   "cell_type": "markdown",
   "id": "9ee23880",
   "metadata": {},
   "source": [
    "# --------------------------------------------------------------------------------------------------------------"
   ]
  },
  {
   "cell_type": "markdown",
   "id": "0611d63d",
   "metadata": {},
   "source": [
    "### Q9. Write a program that converts a binary (base 2) number to decimal (base 10). Your program should begin by reading the binary number from the user as a string. Then it should compute the equivalent decimal number by processing each digit in the binary number. Finally, your program should display the equivalent decimal number with an appropriate message."
   ]
  },
  {
   "cell_type": "code",
   "execution_count": 145,
   "id": "64b29e3e",
   "metadata": {},
   "outputs": [
    {
     "name": "stdout",
     "output_type": "stream",
     "text": [
      "Enter binary number : 1111\n",
      "Decimal Number is :  15\n"
     ]
    }
   ],
   "source": [
    "\n",
    "\n",
    "\n",
    "\n",
    "# entering binary number as a string \n",
    "str1 = input('Enter binary number : ')\n",
    "\n",
    "# define series \n",
    "series = [1,2,4,8,16,32,64,128,256,512,1024] \n",
    "\n",
    "# Decreasing elements in series \n",
    "series = series[0:len(str1)]\n",
    "\n",
    "# reverse series\n",
    "series = series[::-1] \n",
    "\n",
    "# for loop logic \n",
    "sum = 0\n",
    "for i in range(len(str1)): \n",
    "    if str1[i] != '0' :\n",
    "        sum += series[i]\n",
    "        \n",
    "print('Decimal Number is : ',sum)\n",
    "        "
   ]
  },
  {
   "cell_type": "markdown",
   "id": "54aa3e0c",
   "metadata": {},
   "source": [
    "# ---------------------------------------------------------------------------------------------------------------"
   ]
  },
  {
   "cell_type": "markdown",
   "id": "7dd30013",
   "metadata": {},
   "source": [
    "### Q10. Demonstrate the formatting capabilities of format function on integers, floats and strings."
   ]
  },
  {
   "cell_type": "code",
   "execution_count": 165,
   "id": "114dc4e9",
   "metadata": {},
   "outputs": [
    {
     "name": "stdout",
     "output_type": "stream",
     "text": [
      "name = Vinayak Mane , weight = 55 , height = 172.242\n",
      "weight = 55 ,height = 172.242 ,name = Vinayak Mane \n",
      "your_weight =55 ,your_name = Vinayak Mane  ,your_height = 172.242 \n",
      "name = Vinayak Mane  , weight =         55 , height =    172.242\n",
      "height =      172.2\n",
      "my_name = Vinayak Mane  my_weight =55 my_height = 172.242\n"
     ]
    }
   ],
   "source": [
    "# Formatting capabilities of format function : \n",
    "\n",
    "# lets have a data which contains integers , floating numbers and string\n",
    "\n",
    "name,weight,height = 'Vinayak Mane ' , 55 , 172.2420 \n",
    "\n",
    "# lets print this \n",
    "print('name = {}, weight = {} , height = {}'.format(name,weight,height) )\n",
    "\n",
    "# we can print in any order \n",
    "\n",
    "print('weight = {2} ,height = {1} ,name = {0}'.format(name,height,weight))\n",
    "\n",
    "# we can change name also along with sequence \n",
    "print('your_weight ={1} ,your_name = {2} ,your_height = {0} '.format(height,weight,name))\n",
    "\n",
    "# we can leave blank spaces after each elemnt \n",
    "print('name = {0:10} , weight = {1:10} , height = {2:10}'.format(name,weight,height))\n",
    "\n",
    "\n",
    "# WE can reduce decimal places \n",
    "print('height = {0:10.1f}'.format(height))\n",
    "\n",
    "# Also we can use format function like this : \n",
    "\n",
    "print(f'my_name = {name}', f'my_weight ={weight}' ,f'my_height = {height}')"
   ]
  },
  {
   "cell_type": "code",
   "execution_count": null,
   "id": "dbeb9fab",
   "metadata": {},
   "outputs": [],
   "source": []
  },
  {
   "cell_type": "code",
   "execution_count": null,
   "id": "71551106",
   "metadata": {},
   "outputs": [],
   "source": []
  },
  {
   "cell_type": "code",
   "execution_count": null,
   "id": "d77c4d1c",
   "metadata": {},
   "outputs": [],
   "source": []
  },
  {
   "cell_type": "code",
   "execution_count": null,
   "id": "3018fbf6",
   "metadata": {},
   "outputs": [],
   "source": []
  },
  {
   "cell_type": "code",
   "execution_count": null,
   "id": "9e22ff01",
   "metadata": {},
   "outputs": [],
   "source": []
  }
 ],
 "metadata": {
  "kernelspec": {
   "display_name": "Python 3 (ipykernel)",
   "language": "python",
   "name": "python3"
  },
  "language_info": {
   "codemirror_mode": {
    "name": "ipython",
    "version": 3
   },
   "file_extension": ".py",
   "mimetype": "text/x-python",
   "name": "python",
   "nbconvert_exporter": "python",
   "pygments_lexer": "ipython3",
   "version": "3.9.12"
  }
 },
 "nbformat": 4,
 "nbformat_minor": 5
}
