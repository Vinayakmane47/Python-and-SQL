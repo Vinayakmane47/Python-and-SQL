{
 "cells": [
  {
   "cell_type": "markdown",
   "id": "9dfbf3df",
   "metadata": {},
   "source": [
    "# Week_02 challenge"
   ]
  },
  {
   "cell_type": "markdown",
   "id": "f0ba1338",
   "metadata": {},
   "source": [
    "### Q1. Demonstrate how to create simple and multi-line strings, and check whether a string can change after its creation."
   ]
  },
  {
   "cell_type": "code",
   "execution_count": 12,
   "id": "ff39714d",
   "metadata": {},
   "outputs": [
    {
     "name": "stdout",
     "output_type": "stream",
     "text": [
      "single line string :  Myself Vinayak Mane \n",
      "Multiline string :  Myself Vinayak Mane \n",
      "        Student of Skill lync \n",
      "        enrolled in Data science masters program\n"
     ]
    }
   ],
   "source": [
    "# Single Line string \n",
    "str1 = 'Myself Vinayak Mane '\n",
    "print('single line string : ' ,str1)\n",
    "\n",
    "# Multi line string \n",
    "str2 = '''Myself Vinayak Mane \n",
    "        Student of Skill lync \n",
    "        enrolled in Data science masters program'''\n",
    "print('Multiline string : ' ,str2 )\n",
    "\n"
   ]
  },
  {
   "cell_type": "markdown",
   "id": "81a62405",
   "metadata": {},
   "source": [
    "# ---------------------------------------------------------------------------------------------------------------"
   ]
  },
  {
   "cell_type": "markdown",
   "id": "48fe17ef",
   "metadata": {},
   "source": [
    "### Q2 . For a given string ‘Hello World!’, extract the following:\n",
    "       \n",
    "       1.HW \n",
    "       2.O O\n",
    "       3.llorld\n",
    "       4.!dlroW olleH\n",
    "       5.World!\n",
    "       6.Hello\n",
    "     "
   ]
  },
  {
   "cell_type": "code",
   "execution_count": 34,
   "id": "7947d647",
   "metadata": {},
   "outputs": [
    {
     "name": "stdout",
     "output_type": "stream",
     "text": [
      "1st : H W\n",
      "2nd :  o o\n",
      "3rd :  llo rld\n",
      "4th :  !dlroW olleH\n",
      "5th :  World!\n",
      "6th :  Hello\n"
     ]
    }
   ],
   "source": [
    "str1 = 'Hello World!'\n",
    "\n",
    "# 1.HW \n",
    "print('1st :',str1[0],str1[6])\n",
    "\n",
    "# 2 .o o  \n",
    "print('2nd : ',str1[4],str1[7])\n",
    "\n",
    "# 3.llorld \n",
    "print('3rd : ',str1[2:5],str1[8:11])\n",
    "\n",
    "# 4.!dlroW olleH\n",
    "\n",
    "str4 = str1[::-1]\n",
    "print('4th : ',str4 )\n",
    "\n",
    "# 5. World!\n",
    "print('5th : ', str1[6:12])\n",
    "\n",
    "# 6. Hello\n",
    "\n",
    "print('6th : ', str1[0:5])\n"
   ]
  },
  {
   "cell_type": "markdown",
   "id": "e2123f23",
   "metadata": {},
   "source": [
    "# ---------------------------------------------------------------------------------------------------------------"
   ]
  },
  {
   "cell_type": "markdown",
   "id": "5bdbb249",
   "metadata": {},
   "source": [
    "### Q 3. For the following strings, determine which contain only alphabets, only digits, alphanumeric, which are in lowercase, and which are in uppercase. Also check whether str3 begins or ends with the word “Now”.\n",
    "\n",
    "\n",
    "\n"
   ]
  },
  {
   "cell_type": "code",
   "execution_count": 62,
   "id": "41f15075",
   "metadata": {},
   "outputs": [
    {
     "name": "stdout",
     "output_type": "stream",
     "text": [
      "str1 contains only alphabets :  True\n",
      "str2 is alphanumeric :  False\n",
      "str2 have only alphabets :  False\n",
      "str3 is alphanumeric :  False\n",
      "str3 have only alphabets :  False\n",
      "str4 have only numbers :  True\n",
      "str5 is alphanumeric :  False\n",
      "str3 begins with word 'Now' :  True\n",
      "str3 ends with word 'Now' :  False\n"
     ]
    }
   ],
   "source": [
    "str1 = 'Welcome'\n",
    "str2 = 'Hello World!'\n",
    "str3 = 'Now is the best time ever!'\n",
    "str4 = '500017'\n",
    "str5 = 'IPhone 6'\n",
    "\n",
    "# For str1 \n",
    "print(\"str1 contains only alphabets : \" ,str1.isalpha())\n",
    "\n",
    "# For str2 \n",
    "print('str2 is alphanumeric : ',str2.isalnum())\n",
    "print('str2 have only alphabets : ',str2.isalpha())\n",
    "# str2 have one special character (!)\n",
    "\n",
    "# For str3 \n",
    "print('str3 is alphanumeric : ',str3.isalnum())\n",
    "print('str3 have only alphabets : ',str3.isalpha())\n",
    "# str3 have one special character (!)\n",
    "\n",
    "# For str4 \n",
    "print('str4 have only numbers : ' , str4.isnumeric())\n",
    "# str4 have only numbers \n",
    "\n",
    "# For str5 \n",
    "\n",
    "print('str5 is alphanumeric : ',str5.isalnum())\n",
    "\n",
    "# No string here is in uppercase and lowercase, but all strings except str4 have alphabet which are in upper case.\n",
    "\n",
    "# Checking for str3 whther it  starts or ends with word 'Now' or not \n",
    "\n",
    "print(\"str3 begins with word 'Now' : \", str3.startswith('Now'))\n",
    "print(\"str3 ends with word 'Now' : \", str3.endswith('Now'))"
   ]
  },
  {
   "cell_type": "markdown",
   "id": "549e8556",
   "metadata": {},
   "source": [
    "# ---------------------------------------------------------------------------------------------------------------"
   ]
  },
  {
   "cell_type": "markdown",
   "id": "97cc9c96",
   "metadata": {},
   "source": [
    "### Q 4. Accept a sentence from the user. Convert the case of the input into title case."
   ]
  },
  {
   "cell_type": "code",
   "execution_count": 64,
   "id": "4d86613d",
   "metadata": {},
   "outputs": [
    {
     "name": "stdout",
     "output_type": "stream",
     "text": [
      "your name having all letters in small : vinayak mane\n",
      "Your Name as title :  Vinayak Mane\n"
     ]
    }
   ],
   "source": [
    "str1 = input('your name having all letters in small : ')\n",
    "print('Your Name as title : ',str1.title())"
   ]
  },
  {
   "cell_type": "markdown",
   "id": "3f7f713c",
   "metadata": {},
   "source": [
    "# --------------------------------------------------------------------------------------------------------------"
   ]
  },
  {
   "cell_type": "markdown",
   "id": "ba8750d9",
   "metadata": {},
   "source": [
    "### Q 5. Write a program that reads an integer from the user. Then your program should display a message indicating whether the integer is even or odd."
   ]
  },
  {
   "cell_type": "code",
   "execution_count": 69,
   "id": "99b7f8ec",
   "metadata": {},
   "outputs": [
    {
     "name": "stdout",
     "output_type": "stream",
     "text": [
      "Enter integer value here : 7845\n",
      "7845 is an odd number\n"
     ]
    }
   ],
   "source": [
    "\n",
    "\n",
    "num = int(input('Enter integer value here : '))\n",
    "\n",
    "if num % 2 == 0 :\n",
    "    print(num,'is an even number')\n",
    "else: \n",
    "    print(num,'is an odd number')"
   ]
  },
  {
   "cell_type": "markdown",
   "id": "5476e7d1",
   "metadata": {},
   "source": [
    "# --------------------------------------------------------------------------------------------------------------"
   ]
  },
  {
   "cell_type": "markdown",
   "id": "250b5fce",
   "metadata": {},
   "source": [
    "### Q6. Create a program that reads a letter of the alphabet from the user. If the user enters a, e, i, o or u then your program should display a message indicating that the entered letter is a vowel. Otherwise, the program should display a message that the entered letter is a consonant"
   ]
  },
  {
   "cell_type": "code",
   "execution_count": 75,
   "id": "12a890b1",
   "metadata": {},
   "outputs": [
    {
     "name": "stdout",
     "output_type": "stream",
     "text": [
      "Enter alphabets here : i\n",
      "i is Vowel\n"
     ]
    }
   ],
   "source": [
    "alpha = input('Enter alphabets here : ')\n",
    "\n",
    "if alpha == 'a' or alpha == 'e' or alpha == 'i' or alpha == 'o' or alpha == 'u' :\n",
    "    print(alpha, 'is Vowel')\n",
    "else: \n",
    "    print(alpha,'is consonent')"
   ]
  },
  {
   "cell_type": "markdown",
   "id": "a6de1e05",
   "metadata": {},
   "source": [
    "# --------------------------------------------------------------------------------------------------------------"
   ]
  },
  {
   "cell_type": "markdown",
   "id": "255ad9fc",
   "metadata": {},
   "source": [
    "### Q 7. The length of a month varies from 28 to 31 days. Create a program that reads the name of a month from the user as a string. Then your program should display the number of days in that month. Display “28 or 29 days” for February so that leap years is addressed."
   ]
  },
  {
   "cell_type": "code",
   "execution_count": 90,
   "id": "4f6d9b98",
   "metadata": {},
   "outputs": [
    {
     "name": "stdout",
     "output_type": "stream",
     "text": [
      "Enter name of month : September\n",
      "September has 30 days \n"
     ]
    }
   ],
   "source": [
    "month = input('Enter name of month : ')\n",
    "\n",
    "if month == 'January' or month == 'March' or month == 'May' or month == 'July' or month == 'August' or \\\n",
    "   month == 'october' or month == 'December' : \n",
    "    print(month,'has 31 days ')\n",
    "elif  month == 'April' or month == 'June' or month == 'September' or month == 'November': \n",
    "    print(month,'has 30 days ')\n",
    "else : \n",
    "    print(month, 'has 28 or 29 days ')"
   ]
  },
  {
   "cell_type": "markdown",
   "id": "15e357e4",
   "metadata": {},
   "source": [
    "# ---------------------------------------------------------------------------------------------------------------"
   ]
  },
  {
   "cell_type": "markdown",
   "id": "4563e960",
   "metadata": {},
   "source": [
    "### Q 8. A triangle can be classified based on the lengths of its sides as equilateral, isosceles or scalene. All 3 sides of an equilateral triangle have the same length. An isosceles triangle has two sides that are the same length, and a third side that is a different length. If all of the sides have different lengths then the triangle is scalene. Write a program that reads the lengths of 3 sides of a triangle from the user. Display a message indicating the type of the triangle."
   ]
  },
  {
   "cell_type": "code",
   "execution_count": 102,
   "id": "997d47df",
   "metadata": {},
   "outputs": [
    {
     "name": "stdout",
     "output_type": "stream",
     "text": [
      "Enter no. of equal sides of triangle : 3\n",
      "triangle having  3 sides equal  is equilateral triangle \n"
     ]
    }
   ],
   "source": [
    "sides = int(input('Enter no. of equal sides of triangle : '))\n",
    "\n",
    "if sides == 3 : \n",
    "    print('triangle having ',sides,'sides equal  is equilateral triangle ')\n",
    "elif sides == 2 : \n",
    "    print('triangle having ',sides,'sides equal is isosceles triangle ')\n",
    "elif sides == 1 : \n",
    "    print('triangle having only',sides,' side equal is scalene triangle ')\n",
    "else : \n",
    "    print('invalid input from user ')"
   ]
  },
  {
   "cell_type": "markdown",
   "id": "af069fbd",
   "metadata": {},
   "source": [
    "# --------------------------------------------------------------------------------------------------------------"
   ]
  },
  {
   "cell_type": "markdown",
   "id": "d8a0c7fc",
   "metadata": {},
   "source": [
    "### Q 9. The rules for determining whether or not a year is a leap year follow:\n",
    "      \n",
    "      1.Any year that is divisible by 400 is a leap year.\n",
    "      2.Of the remaining years, any year that is divisible by 100 is not a leap year\n",
    "      3.Of the remaining years, any year that is divisible by 4 is a leap year.\n",
    "      4.All other years are not leap years.\n",
    "### Write a program that reads a year from the user and displays a message indicating whether or not it is a leap year."
   ]
  },
  {
   "cell_type": "code",
   "execution_count": 1,
   "id": "ca471f5b",
   "metadata": {},
   "outputs": [
    {
     "name": "stdout",
     "output_type": "stream",
     "text": [
      "Enter the year : 1700\n",
      "1700 is a Leap year \n"
     ]
    }
   ],
   "source": [
    "year = int(input('Enter the year : '))\n",
    "\n",
    "if year % 400 == 0  or year % 4 == 0 : \n",
    "    print(year, 'is a Leap year ')\n",
    "elif year % 100 == 0 : \n",
    "    print(year,'is not a Leap year ')\n",
    "else : \n",
    "    print(year ,'is not a Leap year ')"
   ]
  },
  {
   "cell_type": "markdown",
   "id": "c18575d7",
   "metadata": {},
   "source": [
    "# ---------------------------------------------------------------------------------------------------------------"
   ]
  },
  {
   "cell_type": "markdown",
   "id": "a6232dab",
   "metadata": {},
   "source": [
    "### Q 10. Write a program that computes the real roots of a quadratic function. Your program should begin by prompting the user for the values of a, b and c. Then it should display a message indicating the number of real roots, along with the values of the real roots (if any)."
   ]
  },
  {
   "cell_type": "code",
   "execution_count": 118,
   "id": "b2bec298",
   "metadata": {},
   "outputs": [
    {
     "name": "stdout",
     "output_type": "stream",
     "text": [
      "Enter value of a : 1\n",
      "Enter value of b : 5\n",
      "Enter value of c : 6\n",
      "Root 1 of equation :  (-3+0j)\n",
      "Root 2 of equation :  (-2+0j)\n"
     ]
    }
   ],
   "source": [
    "import cmath\n",
    "\n",
    "a = int(input('Enter value of a : '))\n",
    "b = int(input('Enter value of b : '))\n",
    "c = int(input('Enter value of c : '))\n",
    "\n",
    "d = (b**2) - (4*a*c) \n",
    "\n",
    "root1 = (-b - cmath.sqrt(d))/(2*a)\n",
    "root2 = (-b + cmath.sqrt(d))/(2*a)\n",
    "\n",
    "print('Root 1 of equation : ',root1)\n",
    "print('Root 2 of equation : ',root2) \n",
    "\n",
    "\n"
   ]
  },
  {
   "cell_type": "code",
   "execution_count": null,
   "id": "1a5d1685",
   "metadata": {},
   "outputs": [],
   "source": []
  },
  {
   "cell_type": "code",
   "execution_count": null,
   "id": "5c14097a",
   "metadata": {},
   "outputs": [],
   "source": []
  },
  {
   "cell_type": "code",
   "execution_count": null,
   "id": "41e2cf51",
   "metadata": {},
   "outputs": [],
   "source": []
  }
 ],
 "metadata": {
  "kernelspec": {
   "display_name": "Python 3 (ipykernel)",
   "language": "python",
   "name": "python3"
  },
  "language_info": {
   "codemirror_mode": {
    "name": "ipython",
    "version": 3
   },
   "file_extension": ".py",
   "mimetype": "text/x-python",
   "name": "python",
   "nbconvert_exporter": "python",
   "pygments_lexer": "ipython3",
   "version": "3.9.12"
  }
 },
 "nbformat": 4,
 "nbformat_minor": 5
}
