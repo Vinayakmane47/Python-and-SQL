{
 "cells": [
  {
   "cell_type": "markdown",
   "id": "f649cdec",
   "metadata": {},
   "source": [
    "# Week 10 Challenge : "
   ]
  },
  {
   "cell_type": "markdown",
   "id": "09921473",
   "metadata": {},
   "source": [
    "### Q1.Create two numpy arrays. The first array, called arr1 should be of one dimension and consist of six elements of float type. The second array, called arr2 should be of two dimensions and each sub-array should consist of 5 elements of string type. Display these two numpy arrays."
   ]
  },
  {
   "cell_type": "code",
   "execution_count": 69,
   "id": "6816e4c8",
   "metadata": {},
   "outputs": [
    {
     "name": "stdout",
     "output_type": "stream",
     "text": [
      "one dimensional array :  [0. 1. 2. 3. 4. 5.]\n",
      "Two dimensional array :  [['rahul' 'ganesh' 'ramesh' 'mehul' 'harry' 'hitesh']\n",
      " ['hemant' 'harry' 'joy' 'karan' 'lokesh' 'kurama']]\n"
     ]
    }
   ],
   "source": [
    "import numpy as np\n",
    "arr1 = np.arange(6, dtype= float)\n",
    "print('one dimensional array : ', arr1)\n",
    "\n",
    "arr2 = np.array([['rahul','ganesh','ramesh','mehul','harry','hitesh'],\n",
    "                 ['hemant','harry','joy','karan','lokesh','kurama'] ], dtype = str)\n",
    "print('Two dimensional array : ', arr2)"
   ]
  },
  {
   "cell_type": "markdown",
   "id": "0c722148",
   "metadata": {},
   "source": [
    "# --------------------------------------------------------------------------------------------------------------"
   ]
  },
  {
   "cell_type": "markdown",
   "id": "742a9196",
   "metadata": {},
   "source": [
    "### Q2. For the arrays arr1 and arr2 created in Q.No.1, display the following properties: data type and dimensions. Reshape arr1 into a two dimensional array of 2 rows and three columns, and display the reshaped array. Similarly, reshape arr2 into a single dimensional array and display the reshaped array."
   ]
  },
  {
   "cell_type": "code",
   "execution_count": 26,
   "id": "53e8642f",
   "metadata": {},
   "outputs": [
    {
     "name": "stdout",
     "output_type": "stream",
     "text": [
      "Data type of arr1 :  float64\n",
      "Data type of arr2 :  <U6\n",
      "Dimensions of arr1 :  (6,)\n",
      "Dimensions of arr2 :  (2, 6)\n",
      "------------------------------------------------------------------------------------------------------------------------\n",
      "Reshaped array arr1  :  [[0. 1. 2.]\n",
      " [3. 4. 5.]]\n",
      "Dimension of reshaped array arr1 :  (2, 3)\n",
      "------------------------------------------------------------------------------------------------------------------------\n",
      "Reshaped array arr2 :  ['rahul' 'ganesh' 'ramesh' 'mehul' 'harry' 'hitesh' 'hemant' 'harry' 'joy'\n",
      " 'karan' 'lokesh' 'kurama']\n",
      "Dimension of reshaped array arr2 :  (12,)\n"
     ]
    }
   ],
   "source": [
    "print('Data type of arr1 : ', arr1.dtype)\n",
    "print('Data type of arr2 : ', arr2.dtype)\n",
    "print('Dimensions of arr1 : ',arr1.shape)\n",
    "print('Dimensions of arr2 : ',arr2.shape)\n",
    "\n",
    "print('-'*120)\n",
    "# 1-D array into 2-D array \n",
    "a1 = arr1.reshape(2,3)\n",
    "print('Reshaped array arr1  : ',a1)\n",
    "print('Dimension of reshaped array arr1 : ', a1.shape)\n",
    "print('-'*120)\n",
    "\n",
    "# 2- D Array into 1- D Array \n",
    "a2 = arr2.reshape(12,)\n",
    "print('Reshaped array arr2 : ',a2)\n",
    "print('Dimension of reshaped array arr2 : ', a2.shape)"
   ]
  },
  {
   "cell_type": "markdown",
   "id": "e2ec1fed",
   "metadata": {},
   "source": [
    "# --------------------------------------------------------------------------------------------------------------"
   ]
  },
  {
   "cell_type": "markdown",
   "id": "b261f3ee",
   "metadata": {},
   "source": [
    "### Q3.Create a two dimensional array called arr3, of 3 rows and 4 columns which is initialized to zeroes. Create another single dimensional array called arr4, with 6 elements and which is initialized to ones. The type of arr4 is int"
   ]
  },
  {
   "cell_type": "code",
   "execution_count": 68,
   "id": "cfe4923f",
   "metadata": {},
   "outputs": [
    {
     "name": "stdout",
     "output_type": "stream",
     "text": [
      "[[0. 0. 0. 0.]\n",
      " [0. 0. 0. 0.]\n",
      " [0. 0. 0. 0.]]\n",
      "------------------------------------------------------------------------------------------------------------------------\n",
      "[1 1 1 1 1 1]\n"
     ]
    }
   ],
   "source": [
    "# creating an array with zeros .\n",
    "arr3 = np.zeros((3,4))\n",
    "print( arr3)\n",
    "print('-'*120)\n",
    "\n",
    "# creating an array with ones \n",
    "arr4 = np.ones((6,) , dtype = int)\n",
    "print(arr4)\n"
   ]
  },
  {
   "cell_type": "markdown",
   "id": "5efd978b",
   "metadata": {},
   "source": [
    "# ---------------------------------------------------------------------------------------------------------------"
   ]
  },
  {
   "cell_type": "markdown",
   "id": "caedf358",
   "metadata": {},
   "source": [
    "### Q4. Create a list called list1 with the elements 10,20,30,40,50. Now, create a numpy array called arr5 from list1, using the method asarray. The data type of arr5 is float. Similarly, create another array called arr6, from list1, using the method fromiter, whose data type is int. Display arr5 and arr6."
   ]
  },
  {
   "cell_type": "code",
   "execution_count": 32,
   "id": "1d954f28",
   "metadata": {},
   "outputs": [
    {
     "name": "stdout",
     "output_type": "stream",
     "text": [
      "[10. 20. 30. 40. 50.]\n",
      "------------------------------------------------------------------------------------------------------------------------\n",
      "[10 20 30 40 50]\n"
     ]
    }
   ],
   "source": [
    "# creating an array from list \n",
    "\n",
    "list1 = [10,20,30,40,50]\n",
    "\n",
    "arr5 = np.asarray(list1 , dtype = float )\n",
    "print(arr5)\n",
    "print('-'*120)\n",
    "\n",
    "arr6 = np.asarray(list1 , dtype = int)\n",
    "print(arr6)\n"
   ]
  },
  {
   "cell_type": "markdown",
   "id": "a179741c",
   "metadata": {},
   "source": [
    "# ------------------------------------------------------------------------------------------------------------"
   ]
  },
  {
   "cell_type": "markdown",
   "id": "6f4f96e3",
   "metadata": {},
   "source": [
    "### Q5. Create a numpy array called arr7 using the method arange. The starting value of this array is 12 and ending value is 99, with a step size of 3. Use the linspace method to create another array called arr8, where the starting value is 12 and ending value is 99 and which contains 50 evenly spaced elements."
   ]
  },
  {
   "cell_type": "code",
   "execution_count": 36,
   "id": "c63dce8b",
   "metadata": {},
   "outputs": [
    {
     "name": "stdout",
     "output_type": "stream",
     "text": [
      "[12 15 18 21 24 27 30 33 36 39 42 45 48 51 54 57 60 63 66 69 72 75 78 81\n",
      " 84 87 90 93 96 99]\n",
      "------------------------------------------------------------------------------------------------------------------------\n",
      "[12.         13.7755102  15.55102041 17.32653061 19.10204082 20.87755102\n",
      " 22.65306122 24.42857143 26.20408163 27.97959184 29.75510204 31.53061224\n",
      " 33.30612245 35.08163265 36.85714286 38.63265306 40.40816327 42.18367347\n",
      " 43.95918367 45.73469388 47.51020408 49.28571429 51.06122449 52.83673469\n",
      " 54.6122449  56.3877551  58.16326531 59.93877551 61.71428571 63.48979592\n",
      " 65.26530612 67.04081633 68.81632653 70.59183673 72.36734694 74.14285714\n",
      " 75.91836735 77.69387755 79.46938776 81.24489796 83.02040816 84.79591837\n",
      " 86.57142857 88.34693878 90.12244898 91.89795918 93.67346939 95.44897959\n",
      " 97.2244898  99.        ]\n"
     ]
    }
   ],
   "source": [
    "# creating array using arange \n",
    "\n",
    "arr7 = np.arange(12,100,3)\n",
    "print(arr7)\n",
    "print('-'*120)\n",
    "\n",
    "# creating an array using linspace \n",
    "arr8 = np.linspace(12,99,50)\n",
    "print(arr8)"
   ]
  },
  {
   "cell_type": "markdown",
   "id": "5603ff56",
   "metadata": {},
   "source": [
    "# --------------------------------------------------------------------------------------------------------------"
   ]
  },
  {
   "cell_type": "markdown",
   "id": "45578939",
   "metadata": {},
   "source": [
    "### Q6.In the array arr2 defined in Q.No. 1, what is the output of the following statements: print(arr2), print(arr2[0:1]), print(arr2[1][3]), print (arr2[1])"
   ]
  },
  {
   "cell_type": "code",
   "execution_count": 37,
   "id": "18779046",
   "metadata": {},
   "outputs": [
    {
     "name": "stdout",
     "output_type": "stream",
     "text": [
      "output of arr2 : [['rahul' 'ganesh' 'ramesh' 'mehul' 'harry' 'hitesh']\n",
      " ['hemant' 'harry' 'joy' 'karan' 'lokesh' 'kurama']]\n",
      "output of arr2[0:1] :  [['rahul' 'ganesh' 'ramesh' 'mehul' 'harry' 'hitesh']]\n",
      "ouput of arr2[1][3] :  karan\n",
      "Output of arr2[1] :  ['hemant' 'harry' 'joy' 'karan' 'lokesh' 'kurama']\n"
     ]
    }
   ],
   "source": [
    "print('output of arr2 :' ,arr2)\n",
    "print('output of arr2[0:1] : ',arr2[0:1])\n",
    "print('ouput of arr2[1][3] : ', arr2[1][3])\n",
    "print('Output of arr2[1] : ', arr2[1])"
   ]
  },
  {
   "cell_type": "markdown",
   "id": "b94d50be",
   "metadata": {},
   "source": [
    "# --------------------------------------------------------------------------------------------------------------"
   ]
  },
  {
   "cell_type": "markdown",
   "id": "2d3c0d68",
   "metadata": {},
   "source": [
    "### Q7.Create a two dimensional array called arr9 with the following elements: [101, 322, 768], [233, 124, 390], [534, 122, 216]. From arr9, create an array called arr10 which contains the elements 101, 322, 390, 122 using advanced integer indexing. Create another array called arr11 which contains elements of first and second rows, and second and third columns using slicing operations."
   ]
  },
  {
   "cell_type": "code",
   "execution_count": 48,
   "id": "aa53448e",
   "metadata": {
    "scrolled": true
   },
   "outputs": [
    {
     "name": "stdout",
     "output_type": "stream",
     "text": [
      "The array is : \n",
      "[[101 322 768]\n",
      " [233 124 390]\n",
      " [534 122 216]]\n",
      "Array arr10 :  [101 322 390 122]\n",
      "------------------------------------------------------------------------------------------------------------------------\n",
      "The array is :\n",
      "[[322 768]\n",
      " [124 390]]\n"
     ]
    }
   ],
   "source": [
    "# Advanced integer indexing \n",
    "\n",
    "arr9 = np.array([[101, 322, 768], [233, 124, 390],[534,122,216]])\n",
    "print('The array is : ')\n",
    "print(arr9)\n",
    "arr10 = arr9[[0,0,1,2],[0,1,2,1]]\n",
    "print('Array arr10 : ',arr10)\n",
    "print('-'*120)\n",
    "print('The array is :')\n",
    "arr11 = arr9[0:2,[1,2]]\n",
    "print(arr11)"
   ]
  },
  {
   "cell_type": "markdown",
   "id": "84962240",
   "metadata": {},
   "source": [
    "# -------------------------------------------------------------------------------------------------------------"
   ]
  },
  {
   "cell_type": "markdown",
   "id": "4592293a",
   "metadata": {},
   "source": [
    "### Q8.From array arr9 created in Q.No. 7, find all elements greater than 200 using boolean indexing, find all non-NaN elements, and find all non-float elements. Find the result of adding arrays arr9 and another array of 3 elements, using the concept of broadcasting."
   ]
  },
  {
   "cell_type": "code",
   "execution_count": 66,
   "id": "b22c7947",
   "metadata": {},
   "outputs": [
    {
     "name": "stdout",
     "output_type": "stream",
     "text": [
      "The elements greater than 200  in arr9 are : [322 768 233 390 534 216]\n",
      "------------------------------------------------------------------------------------------------------------------------\n",
      "Non NaN elements are :  [101 322 768 233 124 390 534 122 216]\n",
      "All numbers in arr9 are non-float numbers\n",
      "------------------------------------------------------------------------------------------------------------------------\n",
      "Result of adding arr9 and array1 : \n",
      "[[101 323 770]\n",
      " [233 125 392]\n",
      " [534 123 218]]\n"
     ]
    }
   ],
   "source": [
    "# Elements greater than 200 in arr9 : \n",
    "print('The elements greater than 200  in arr9 are :',arr9[arr9 > 200])\n",
    "print('-' * 120)\n",
    "print('Non NaN elements are : ', arr9[~np.isnan(arr9)])\n",
    "print('All numbers in arr9 are non-float numbers')\n",
    "print('-'*120)\n",
    "array1 = np.arange(3)\n",
    "\n",
    "print('Result of adding arr9 and array1 : ') \n",
    "print(arr9 + array1)"
   ]
  },
  {
   "cell_type": "markdown",
   "id": "9169c7b5",
   "metadata": {},
   "source": [
    "# -------------------------------------------------------------------------------------------------------------"
   ]
  },
  {
   "cell_type": "markdown",
   "id": "b9540945",
   "metadata": {},
   "source": [
    "### Q9.For the array arr9, find its transpose. Find the result of joining the arrays arr1 and arr4 along axis 0."
   ]
  },
  {
   "cell_type": "code",
   "execution_count": 73,
   "id": "9cdcb471",
   "metadata": {},
   "outputs": [
    {
     "name": "stdout",
     "output_type": "stream",
     "text": [
      "Transpose of arr9 is : \n",
      "[[101 233 534]\n",
      " [322 124 122]\n",
      " [768 390 216]]\n",
      "------------------------------------------------------------------------------------------------------------------------\n",
      "Results of joining arr1 and arr4 is : \n",
      "[0. 1. 2. 3. 4. 5. 1. 1. 1. 1. 1. 1.]\n"
     ]
    }
   ],
   "source": [
    "# Transpose of arr9 \n",
    "print('Transpose of arr9 is : ')\n",
    "print(arr9.T)\n",
    "print('-' *120)\n",
    "print('Results of joining arr1 and arr4 is : ')\n",
    "print(np.concatenate((arr1,arr4), axis = 0))"
   ]
  },
  {
   "cell_type": "markdown",
   "id": "9037e3e0",
   "metadata": {},
   "source": [
    "# --------------------------------------------------------------------------------------------------------------"
   ]
  },
  {
   "cell_type": "markdown",
   "id": "96c28f79",
   "metadata": {},
   "source": [
    "### Q10. Using any two 2-dimensional arrays, demonstrate the working of the methods, hstack, vstack, hsplit and vsplit."
   ]
  },
  {
   "cell_type": "code",
   "execution_count": 83,
   "id": "d10ce121",
   "metadata": {},
   "outputs": [
    {
     "name": "stdout",
     "output_type": "stream",
     "text": [
      "[[1 2 3 4 5 6 7 8]\n",
      " [4 5 6 1 2 3 7 8]\n",
      " [4 5 6 1 2 3 7 8]\n",
      " [4 5 6 1 2 3 9 2]]\n",
      "------------------------------------------------------------------------------------------------------------------------\n",
      "Result of hstack array is : \n",
      "[[1 2 3 4 5 6 7 8 1 2 3 4 5 6 7 8]\n",
      " [4 5 6 1 2 3 7 8 4 5 6 1 2 3 7 8]\n",
      " [4 5 6 1 2 3 7 8 4 5 6 1 2 3 7 8]\n",
      " [4 5 6 1 2 3 9 2 4 5 6 1 2 3 9 2]]\n",
      "------------------------------------------------------------------------------------------------------------------------\n",
      "Result of vstack array is : \n",
      "[[1 2 3 4 5 6 7 8]\n",
      " [4 5 6 1 2 3 7 8]\n",
      " [4 5 6 1 2 3 7 8]\n",
      " [4 5 6 1 2 3 9 2]\n",
      " [1 2 3 4 5 6 7 8]\n",
      " [4 5 6 1 2 3 7 8]\n",
      " [4 5 6 1 2 3 7 8]\n",
      " [4 5 6 1 2 3 9 2]]\n",
      "------------------------------------------------------------------------------------------------------------------------\n",
      "Result of hsplit array is : \n",
      "[array([[1, 2],\n",
      "       [4, 5],\n",
      "       [4, 5],\n",
      "       [4, 5]]), array([[3, 4],\n",
      "       [6, 1],\n",
      "       [6, 1],\n",
      "       [6, 1]]), array([[5, 6],\n",
      "       [2, 3],\n",
      "       [2, 3],\n",
      "       [2, 3]]), array([[7, 8],\n",
      "       [7, 8],\n",
      "       [7, 8],\n",
      "       [9, 2]])]\n",
      "------------------------------------------------------------------------------------------------------------------------\n",
      "Result of vsplit array is : \n",
      "[array([[1, 2, 3, 4, 5, 6, 7, 8]]), array([[4, 5, 6, 1, 2, 3, 7, 8]]), array([[4, 5, 6, 1, 2, 3, 7, 8]]), array([[4, 5, 6, 1, 2, 3, 9, 2]])]\n"
     ]
    }
   ],
   "source": [
    "# creating a two dimensional array \n",
    "\n",
    "myarray = np.array([[1,2,3,4,5,6,7,8],[4,5,6,1,2,3,7,8],[4,5,6,1,2,3,7,8],[4,5,6,1,2,3,9,2]])\n",
    "print(myarray)\n",
    "print('-'*120)\n",
    "\n",
    "# hstack \n",
    "myarray_h_stack = np.hstack((myarray,myarray))\n",
    "print('Result of hstack array is : ')\n",
    "print(myarray_h_stack)\n",
    "print('-'*120)\n",
    "\n",
    "# vstack \n",
    "myarray_v_stack = np.vstack((myarray,myarray))\n",
    "print('Result of vstack array is : ')\n",
    "print(myarray_v_stack)\n",
    "print('-' * 120)\n",
    "\n",
    "# hsplit \n",
    "myarray_h_split = np.hsplit(myarray,4)\n",
    "print('Result of hsplit array is : ')\n",
    "print(myarray_h_split)\n",
    "print('-'*120)\n",
    "\n",
    "# vsplit \n",
    "myarray_v_split = np.vsplit(myarray,4)\n",
    "print('Result of vsplit array is : ')\n",
    "print(myarray_v_split)\n",
    "\n"
   ]
  },
  {
   "cell_type": "code",
   "execution_count": null,
   "id": "c6035922",
   "metadata": {},
   "outputs": [],
   "source": []
  },
  {
   "cell_type": "code",
   "execution_count": null,
   "id": "2c017bc8",
   "metadata": {},
   "outputs": [],
   "source": []
  },
  {
   "cell_type": "code",
   "execution_count": null,
   "id": "04068494",
   "metadata": {},
   "outputs": [],
   "source": []
  },
  {
   "cell_type": "code",
   "execution_count": null,
   "id": "79e6a7f4",
   "metadata": {},
   "outputs": [],
   "source": []
  }
 ],
 "metadata": {
  "kernelspec": {
   "display_name": "Python 3 (ipykernel)",
   "language": "python",
   "name": "python3"
  },
  "language_info": {
   "codemirror_mode": {
    "name": "ipython",
    "version": 3
   },
   "file_extension": ".py",
   "mimetype": "text/x-python",
   "name": "python",
   "nbconvert_exporter": "python",
   "pygments_lexer": "ipython3",
   "version": "3.9.12"
  }
 },
 "nbformat": 4,
 "nbformat_minor": 5
}
