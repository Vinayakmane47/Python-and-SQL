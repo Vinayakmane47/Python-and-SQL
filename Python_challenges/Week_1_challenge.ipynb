{
 "cells": [
  {
   "cell_type": "markdown",
   "id": "191d2f7c",
   "metadata": {},
   "source": [
    "# Week_01 challenge \n"
   ]
  },
  {
   "cell_type": "markdown",
   "id": "578eaedf",
   "metadata": {},
   "source": [
    " ### Q1 : Create a program that displays your name and complete mailing address formatted in the manner that you would usually see it on the outside of an envelope"
   ]
  },
  {
   "cell_type": "code",
   "execution_count": 5,
   "id": "0e6c8230",
   "metadata": {},
   "outputs": [
    {
     "name": "stdout",
     "output_type": "stream",
     "text": [
      "My Name is Vinayak Mane \n",
      "my permanent adress is Amani village \n",
      "Taluka. Malegaon Dist. Washim\n",
      "Pincode : 444503 \n",
      "Currently i am in Aurangabad \n"
     ]
    }
   ],
   "source": [
    "str1 = '''My Name is Vinayak Mane \n",
    "my permanent adress is Amani village \n",
    "Taluka. Malegaon Dist. Washim\n",
    "Pincode : 444503 \n",
    "Currently i am in Aurangabad '''\n",
    "print(str1)"
   ]
  },
  {
   "cell_type": "markdown",
   "id": "6ee910ed",
   "metadata": {},
   "source": [
    "### Q2 :  Write a program that asks the user to enter his or her name. The program should respond with a message that says hello to the user, using his or her name"
   ]
  },
  {
   "cell_type": "code",
   "execution_count": 7,
   "id": "c00bcfdd",
   "metadata": {},
   "outputs": [
    {
     "name": "stdout",
     "output_type": "stream",
     "text": [
      "Enter your Name userVinayak\n",
      "Hello Vinayak How are you\n"
     ]
    }
   ],
   "source": [
    "string = input('Enter your Name user')\n",
    "print('Hello',string,'How are you')"
   ]
  },
  {
   "cell_type": "markdown",
   "id": "c1878126",
   "metadata": {},
   "source": [
    "### Q3 : Write a program that accepts radius (datatype : float) of a circle from the user. Calculate and display the area and circumference of the circle"
   ]
  },
  {
   "cell_type": "code",
   "execution_count": 12,
   "id": "9b0d703b",
   "metadata": {},
   "outputs": [
    {
     "name": "stdout",
     "output_type": "stream",
     "text": [
      "Give me radius of circle i will calculate Area and circumference50\n",
      "Area is =  7850.0 Circumference is =  314.0\n"
     ]
    }
   ],
   "source": [
    " radius = float(input('Give me radius of circle i will calculate Area and circumference'))\n",
    " Area = 3.14 * radius**2 \n",
    "circumference = 2 * 3.14 * radius \n",
    "print('Area is = ',Area , 'Circumference is = ',circumference)\n"
   ]
  },
  {
   "cell_type": "markdown",
   "id": "cbd5aa0f",
   "metadata": {},
   "source": [
    "### Q4 : Write a program that accepts length and breadth (both float) of a rectangle from the user. Calculate and display the area and perimeter of the rectangle\n",
    "\n"
   ]
  },
  {
   "cell_type": "code",
   "execution_count": 15,
   "id": "f0d345bb",
   "metadata": {},
   "outputs": [
    {
     "name": "stdout",
     "output_type": "stream",
     "text": [
      "Enter your Length of rectangle20\n",
      "Enter your breadth10\n",
      "Area = 200.0 and the Perimeter = 60.0\n"
     ]
    }
   ],
   "source": [
    "length = float(input('Enter your Length of rectangle'))\n",
    "breadth = float(input('Enter your breadth'))\n",
    "Area = length * breadth \n",
    "perimeter = 2 * length + 2* breadth \n",
    "print('Area =',Area,'and the','Perimeter =',perimeter)"
   ]
  },
  {
   "cell_type": "markdown",
   "id": "f822ce4c",
   "metadata": {},
   "source": [
    "### Q5 :  Write a program to accept the side (datatype : float) of a square from the user. Calculate and display the area and perimeter of the square"
   ]
  },
  {
   "cell_type": "code",
   "execution_count": 16,
   "id": "77f1655d",
   "metadata": {},
   "outputs": [
    {
     "name": "stdout",
     "output_type": "stream",
     "text": [
      "Enter your Side here 50\n",
      "Area is = 2500.0 and the Perimeter is =  200.0\n"
     ]
    }
   ],
   "source": [
    "side = float(input('Enter your Side here '))\n",
    "Area = side**2 \n",
    "Perimeter = 4*side \n",
    "print('Area is =', Area, 'and the','Perimeter is = ',Perimeter)\n"
   ]
  },
  {
   "cell_type": "markdown",
   "id": "cee27b1b",
   "metadata": {},
   "source": [
    "### Q6 : Write a program to accept the temperature (datatype : float) in Fahrenheit and convert it into Centigrade. Modify the program to accept the temperature in Centigrade and convert it into Fahrenheit"
   ]
  },
  {
   "cell_type": "code",
   "execution_count": 30,
   "id": "dae4458d",
   "metadata": {},
   "outputs": [
    {
     "name": "stdout",
     "output_type": "stream",
     "text": [
      "Enter your Temperature in fahrenheite 300\n",
      "Value of Temperature from Fahrenheit to Celsius is = 148.88888888888889 degree celcius\n",
      "Now enter value of temperature in Celcius 150\n",
      "Value of temperature in fahrenheite = 302.0 degree fahrenheite\n"
     ]
    }
   ],
   "source": [
    "# Fahrenheit to Celcius \n",
    "\n",
    "T_fahrenheit = float(input('Enter your Temperature in fahrenheite '))\n",
    "T_Celsius   = (T_fahrenheit - 32) * (5/9)\n",
    "print('Value of Temperature from Fahrenheit to Celsius is =',T_Celsius, 'degree celcius')\n",
    "\n",
    "# Celcius to Fahrenheite \n",
    "T_celcius = float(input('Now enter value of temperature in Celcius '))\n",
    "T_Fahrenheite = (9/5) * T_celcius + 32 \n",
    "print('Value of temperature in fahrenheite =',T_Fahrenheite,'degree fahrenheite')\n"
   ]
  },
  {
   "cell_type": "markdown",
   "id": "4e6923db",
   "metadata": {},
   "source": [
    "### Q7 : Write a program to accept two complex numbers. Perform addition, subtraction and multiplication of these numbers an display the results to the user"
   ]
  },
  {
   "cell_type": "code",
   "execution_count": 39,
   "id": "4b378c78",
   "metadata": {},
   "outputs": [
    {
     "name": "stdout",
     "output_type": "stream",
     "text": [
      "Addition of two numbers is = (14-7j) Subtraction of two number is =  (2-11j) and the Multiplication of two numbers is = (66-38j)\n"
     ]
    }
   ],
   "source": [
    "num1 = 8 - 9j \n",
    "num2 = 6 + 2j \n",
    "\n",
    "sum = num1 + num2 \n",
    "subtraction  = num1 - num2 \n",
    "multiplication = num1 * num2 \n",
    "print('Addition of two numbers is =',sum, 'Subtraction of two number is = ',subtraction, 'and the', 'Multiplication of two numbers is =',multiplication )"
   ]
  },
  {
   "cell_type": "markdown",
   "id": "113fabd8",
   "metadata": {},
   "source": [
    "### Q8 :  Write a program to accept the name and basic salary (datatype : float) of an employee. Calculate the dearness allowance as 40 % of basic and house rent allowance as 20 % of basic. Display the gross salary to the user. (Hint: gross salary = basic salary + dearness allowance + house rent allowance)"
   ]
  },
  {
   "cell_type": "code",
   "execution_count": 48,
   "id": "069ec16e",
   "metadata": {},
   "outputs": [
    {
     "name": "stdout",
     "output_type": "stream",
     "text": [
      "Enter your Name user hereVinayak\n",
      "Enter your basic salary here 15000\n",
      "Vinayak Your gross salary is  24000.0 Rupees\n"
     ]
    }
   ],
   "source": [
    "Name = input('Enter your Name user here')\n",
    "Basic_salary = float(input('Enter your basic salary here '))\n",
    "Dearness_Allowance = 0.4 * Basic_salary \n",
    "House_rent_Allowance = 0.2 * Basic_salary \n",
    "Gross_Salary = Basic_salary + Dearness_Allowance  + House_rent_Allowance \n",
    "print(Name,'Your gross salary is ',Gross_Salary,'Rupees' )"
   ]
  },
  {
   "cell_type": "markdown",
   "id": "d99e04d5",
   "metadata": {},
   "source": [
    "### Q9 : Write a program that reads a positive integer, n, from the user and then displays the sum of all of the integers from 1 to n. The sum of the first n positive integers can be computed using the formula: sum = (n)(n + 1)/ 2"
   ]
  },
  {
   "cell_type": "code",
   "execution_count": 51,
   "id": "b434df00",
   "metadata": {},
   "outputs": [
    {
     "name": "stdout",
     "output_type": "stream",
     "text": [
      "Enter number here 20\n",
      "Sum of numbers from 1 to n is =  210.0\n"
     ]
    }
   ],
   "source": [
    "n = int(input('Enter number here '))\n",
    "sum = ((n)*(n+1))/2\n",
    "print('Sum of numbers from 1 to n is = ', sum)"
   ]
  },
  {
   "cell_type": "markdown",
   "id": "600a5fd6",
   "metadata": {},
   "source": [
    "### Q 10 :  Create a program that reads two integers, a and b, from the user. Your program should compute and display:\n",
    "\n",
    "###### a . The sum of a and b \n",
    "###### b . The difference when b is subtracted from a\n",
    "###### c . The product of a and b\n",
    "###### d . The quotient when a is divided by b\n",
    "###### e . The remainder when a is divided by b\n",
    "###### f . The result of a^b"
   ]
  },
  {
   "cell_type": "code",
   "execution_count": 55,
   "id": "809487ec",
   "metadata": {},
   "outputs": [
    {
     "name": "stdout",
     "output_type": "stream",
     "text": [
      "Enter first Number 9\n",
      "Enter second Number 4\n",
      "Sum of two numbers is =  13\n",
      "The difference when b is subtracted from a is =  5\n",
      "The product of a and b is =  36\n",
      "The quotient when a is divided by b is =  2.25\n",
      "The remainder when a is divided by b is =  1\n",
      "The result of a^b is =  6561\n"
     ]
    }
   ],
   "source": [
    "a = int(input('Enter first Number '))\n",
    "b = int(input('Enter second Number '))\n",
    "\n",
    "# Sum of two numbers \n",
    "sum = a + b \n",
    "print('Sum of two numbers is = ',sum )\n",
    "\n",
    "# The difference when b is subtracted from a\n",
    "diff = a - b \n",
    "print('The difference when b is subtracted from a is = ', diff)\n",
    "\n",
    "# The product of a and b\n",
    "prod = a * b \n",
    "print('The product of a and b is = ', prod )\n",
    "\n",
    "# The quotient when a is divided by b \n",
    "quot = a/b \n",
    "print('The quotient when a is divided by b is = ',quot )\n",
    "\n",
    "# The remainder when a is divided by b \n",
    "remain = a % b \n",
    "print('The remainder when a is divided by b is = ',remain )\n",
    "\n",
    "# The result of a^b \n",
    "result = a ** b \n",
    "print('The result of a^b is = ', result )"
   ]
  },
  {
   "cell_type": "code",
   "execution_count": null,
   "id": "6f63c354",
   "metadata": {},
   "outputs": [],
   "source": []
  }
 ],
 "metadata": {
  "kernelspec": {
   "display_name": "Python 3 (ipykernel)",
   "language": "python",
   "name": "python3"
  },
  "language_info": {
   "codemirror_mode": {
    "name": "ipython",
    "version": 3
   },
   "file_extension": ".py",
   "mimetype": "text/x-python",
   "name": "python",
   "nbconvert_exporter": "python",
   "pygments_lexer": "ipython3",
   "version": "3.9.12"
  }
 },
 "nbformat": 4,
 "nbformat_minor": 5
}
