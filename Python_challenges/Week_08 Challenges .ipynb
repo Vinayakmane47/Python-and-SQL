{
 "cells": [
  {
   "cell_type": "markdown",
   "id": "2991b1b2",
   "metadata": {},
   "source": [
    "# Week_08 Challenges : "
   ]
  },
  {
   "cell_type": "markdown",
   "id": "f56aa75b",
   "metadata": {},
   "source": [
    "### Q1.Write a program that accepts two integers and displays the result of dividing the first number by the second number. It should raise ZeroDivisionError if the denominator is zero."
   ]
  },
  {
   "cell_type": "code",
   "execution_count": 2,
   "id": "a521acb9",
   "metadata": {},
   "outputs": [
    {
     "name": "stdout",
     "output_type": "stream",
     "text": [
      "Enter first Number : 4\n",
      "Enter second Number : 0\n",
      "Zero Division Error ! ,please enter valid number \n"
     ]
    }
   ],
   "source": [
    "x = int(input('Enter first Number : '))\n",
    "y = int(input('Enter second Number : '))\n",
    "\n",
    "\n",
    "try: \n",
    "    z = x/y \n",
    "    print('Division of Two numbers is : ',z)\n",
    "    \n",
    "except ZeroDivisionError : \n",
    "    print('Zero Division Error ! ,please enter valid number ')"
   ]
  },
  {
   "cell_type": "markdown",
   "id": "4bbf8cfc",
   "metadata": {},
   "source": [
    "# --------------------------------------------------------------------------------------------------------------"
   ]
  },
  {
   "cell_type": "markdown",
   "id": "a2ca2c2c",
   "metadata": {},
   "source": [
    "### Q2.Implement the above program with the help of Assertion"
   ]
  },
  {
   "cell_type": "code",
   "execution_count": 7,
   "id": "5635dd7b",
   "metadata": {},
   "outputs": [
    {
     "name": "stdout",
     "output_type": "stream",
     "text": [
      "Enter first Number : 4\n",
      "Enter second Number : 0\n"
     ]
    },
    {
     "ename": "AssertionError",
     "evalue": "Denominator should not be zero ",
     "output_type": "error",
     "traceback": [
      "\u001b[1;31m---------------------------------------------------------------------------\u001b[0m",
      "\u001b[1;31mAssertionError\u001b[0m                            Traceback (most recent call last)",
      "Input \u001b[1;32mIn [7]\u001b[0m, in \u001b[0;36m<cell line: 4>\u001b[1;34m()\u001b[0m\n\u001b[0;32m      1\u001b[0m x \u001b[38;5;241m=\u001b[39m \u001b[38;5;28mint\u001b[39m(\u001b[38;5;28minput\u001b[39m(\u001b[38;5;124m'\u001b[39m\u001b[38;5;124mEnter first Number : \u001b[39m\u001b[38;5;124m'\u001b[39m))\n\u001b[0;32m      2\u001b[0m y \u001b[38;5;241m=\u001b[39m \u001b[38;5;28mint\u001b[39m(\u001b[38;5;28minput\u001b[39m(\u001b[38;5;124m'\u001b[39m\u001b[38;5;124mEnter second Number : \u001b[39m\u001b[38;5;124m'\u001b[39m))\n\u001b[1;32m----> 4\u001b[0m \u001b[38;5;28;01massert\u001b[39;00m y \u001b[38;5;241m!=\u001b[39m \u001b[38;5;241m0\u001b[39m , \u001b[38;5;124m'\u001b[39m\u001b[38;5;124mDenominator should not be zero \u001b[39m\u001b[38;5;124m'\u001b[39m\n\u001b[0;32m      6\u001b[0m z \u001b[38;5;241m=\u001b[39m x\u001b[38;5;241m/\u001b[39my \n\u001b[0;32m      7\u001b[0m \u001b[38;5;28mprint\u001b[39m(\u001b[38;5;124m'\u001b[39m\u001b[38;5;124mDivision of Two Numbers is : \u001b[39m\u001b[38;5;124m'\u001b[39m,z)\n",
      "\u001b[1;31mAssertionError\u001b[0m: Denominator should not be zero "
     ]
    }
   ],
   "source": [
    "x = int(input('Enter first Number : '))\n",
    "y = int(input('Enter second Number : '))\n",
    "\n",
    "assert y != 0 , 'Denominator should not be zero '\n",
    "\n",
    "z = x/y \n",
    "print('Division of Two Numbers is : ',z)\n",
    "\n"
   ]
  },
  {
   "cell_type": "markdown",
   "id": "527dca8a",
   "metadata": {},
   "source": [
    "# --------------------------------------------------------------------------------------------------------------"
   ]
  },
  {
   "cell_type": "markdown",
   "id": "d47a4680",
   "metadata": {},
   "source": [
    "### Q3.Write a program that accepts n positive integers as input and prints their square. If a negative number is entered, then raise ValueError exception and display a relevant error message and make an exit."
   ]
  },
  {
   "cell_type": "code",
   "execution_count": 22,
   "id": "4efe5a31",
   "metadata": {},
   "outputs": [
    {
     "name": "stdout",
     "output_type": "stream",
     "text": [
      "Enter an Integer : 7\n",
      "The square of 7  is 49\n"
     ]
    }
   ],
   "source": [
    "def square() : \n",
    "    n = int(input('Enter an Integer : '))\n",
    "    if n < 0 : \n",
    "         raise ValueError \n",
    "    \n",
    "    else : \n",
    "        z = n * n  \n",
    "        print('The square of',n,' is',z)\n",
    "    \n",
    "    \n",
    "square()\n",
    "   \n",
    "\n",
    "    \n",
    "    "
   ]
  },
  {
   "cell_type": "markdown",
   "id": "a1422a4d",
   "metadata": {},
   "source": [
    "# ---------------------------------------------------------------------------------------------------------------"
   ]
  },
  {
   "cell_type": "markdown",
   "id": "ace372c4",
   "metadata": {},
   "source": [
    "### Q4.Write a program that receives an integer as input and finds its factorial. If a non-integer input is entered, then report an error and accept the input again. Continue this process until correct input is entered."
   ]
  },
  {
   "cell_type": "code",
   "execution_count": 5,
   "id": "3bfb6ec7",
   "metadata": {},
   "outputs": [
    {
     "name": "stdout",
     "output_type": "stream",
     "text": [
      "Enter a value of integer : 4\n",
      "The Factorial of Entered Integer is :  24\n"
     ]
    }
   ],
   "source": [
    "\n",
    "def checkfact():\n",
    "    n = int(input('Enter a value of integer : '))\n",
    "\n",
    "    def factorial(n) : \n",
    "        if n <= 1 : \n",
    "            return 1  \n",
    "        else : \n",
    "            return n * factorial(n-1)\n",
    "    return factorial(n)\n",
    "         \n",
    "\n",
    "\n",
    "while True : \n",
    "    try : \n",
    "        print('The Factorial of Entered Integer is : ',checkfact())\n",
    "        break\n",
    "        \n",
    "    except ValueError : \n",
    "        print('ValueError has occured , please enter valid value of n ')\n",
    " \n",
    "    \n",
    "    \n",
    "\n",
    "        \n",
    " \n",
    "        \n",
    "    \n",
    "    \n",
    "       \n",
    "    \n",
    "    \n",
    "\n",
    "    \n",
    "\n",
    "    \n",
    "    \n",
    "    \n",
    "\n",
    "    "
   ]
  },
  {
   "cell_type": "code",
   "execution_count": null,
   "id": "2b167a16",
   "metadata": {},
   "outputs": [],
   "source": []
  },
  {
   "cell_type": "markdown",
   "id": "37e5ed2f",
   "metadata": {},
   "source": [
    "# --------------------------------------------------------------------------------------------------------------"
   ]
  },
  {
   "cell_type": "markdown",
   "id": "2f3fac88",
   "metadata": {},
   "source": [
    "### Q5.Create an iterator that returns numbers, starting with 1, and each sequence will increase by one (returning 1,2,3,4,5 etc.):"
   ]
  },
  {
   "cell_type": "code",
   "execution_count": 141,
   "id": "db53e0e3",
   "metadata": {},
   "outputs": [
    {
     "name": "stdout",
     "output_type": "stream",
     "text": [
      "Start of Iterator\n",
      "Enter an integer value :  10\n",
      "i = 1\n",
      "i = 2\n",
      "i = 3\n",
      "i = 4\n",
      "i = 5\n",
      "i = 6\n",
      "i = 7\n",
      "i = 8\n",
      "i = 9\n",
      "i = 10\n"
     ]
    }
   ],
   "source": [
    "class Sequence: \n",
    "    def __init__(self,l):\n",
    "        self.__limit = l\n",
    "        self.__val = 1\n",
    "        \n",
    "    def __iter__(self):\n",
    "        return self \n",
    "    \n",
    "    def __next__(self) : \n",
    "        if self.__val > self.__limit :\n",
    "            raise StopIteration \n",
    "        else : \n",
    "            return_val = self.__val \n",
    "            self.__val += 1 \n",
    "        return return_val\n",
    "            \n",
    "            \n",
    "            \n",
    "print('Start of Iterator')\n",
    "n = int(input('Enter an integer value :  '))\n",
    "\n",
    "for i in Sequence(n) : \n",
    "    print('i =',i)\n"
   ]
  },
  {
   "cell_type": "markdown",
   "id": "af85e71c",
   "metadata": {},
   "source": [
    "# --------------------------------------------------------------------------------------------------------------"
   ]
  },
  {
   "cell_type": "markdown",
   "id": "6c0b8a26",
   "metadata": {},
   "source": [
    "### Q6.Write a program that implements iterator class called Prime and which prints prime numbers up to n."
   ]
  },
  {
   "cell_type": "code",
   "execution_count": 7,
   "id": "57126234",
   "metadata": {},
   "outputs": [
    {
     "name": "stdout",
     "output_type": "stream",
     "text": [
      "Prime Number :  2\n",
      "Prime Number :  3\n",
      "Prime Number :  5\n",
      "Prime Number :  7\n",
      "Prime Number :  11\n",
      "Prime Number :  13\n",
      "Prime Number :  17\n",
      "Prime Number :  19\n"
     ]
    }
   ],
   "source": [
    "class Prime : \n",
    "    def __init__(self,l) :\n",
    "        self.__limit = l \n",
    "        self.__val =  2\n",
    "        \n",
    "    def __iter__(self) : \n",
    "        return self \n",
    "    \n",
    "    def __next__(self): \n",
    "        if self.__val > self.__limit : \n",
    "            raise StopIteration \n",
    "            \n",
    "        else : \n",
    "            return_val = self.__val\n",
    "            for i in range(2,self.__val): \n",
    "                if self.__val % i == 0: \n",
    "                    break \n",
    "            else : \n",
    "                print('Prime Number : ',self.__val)\n",
    "                return_val = self.__val\n",
    "            \n",
    "            self.__val += 1\n",
    "        \n",
    "                 \n",
    "          \n",
    "            \n",
    "for i in Prime(20) : \n",
    "    if i == int : \n",
    "        print(i)\n",
    "    \n",
    "        "
   ]
  },
  {
   "cell_type": "markdown",
   "id": "c80caa6a",
   "metadata": {},
   "source": [
    "# --------------------------------------------------------------------------------------------------------------"
   ]
  },
  {
   "cell_type": "markdown",
   "id": "7402bdf0",
   "metadata": {},
   "source": [
    "### Q7.Define a class, Circle, which takes two arguments when defined — a sequence and a number. The idea is that the object will then return elements the defined number of times. If the number is greater than the number of elements, then the sequence repeats as necessary."
   ]
  },
  {
   "cell_type": "code",
   "execution_count": 113,
   "id": "8f65266f",
   "metadata": {},
   "outputs": [
    {
     "name": "stdout",
     "output_type": "stream",
     "text": [
      "Enter a Number : 6\n",
      "The list is :  [5, 4, 2, 1, 3, 5]\n"
     ]
    }
   ],
   "source": [
    "class Circle : \n",
    "    \n",
    "    def __init__(self,val,*args) :\n",
    "        self.__val = val\n",
    "        \n",
    "        \n",
    "    def funct(self,*args):\n",
    "        l2 = list()\n",
    "        \n",
    "        if self.__val == len(args) : \n",
    "            print('The list is : ',args)\n",
    "            \n",
    "            \n",
    "        elif self.__val < len(args) : \n",
    "            for i in range(0,self.__val): \n",
    "                l2.append(args[i])\n",
    "            print('The list is : ',l2)\n",
    "                \n",
    "        else :\n",
    "            \n",
    "            for i in args : \n",
    "                l2.append(i)     \n",
    "            a = self.__val - len(args)\n",
    "            for i in range(0,a): \n",
    "                l2.append(args[i])\n",
    "            print('The list is : ',l2)\n",
    "         \n",
    "            \n",
    "\n",
    "\n",
    "n = int(input('Enter a Number : '))\n",
    "obj1 = Circle(n)           \n",
    "\n",
    "# calling a function \n",
    "obj1.funct(5,4,2,1,3,5,8,7)\n",
    "            \n",
    "    "
   ]
  },
  {
   "cell_type": "code",
   "execution_count": null,
   "id": "957d2b24",
   "metadata": {},
   "outputs": [],
   "source": []
  },
  {
   "cell_type": "markdown",
   "id": "b919f4cd",
   "metadata": {},
   "source": [
    "### Q8.Write a Python program to demonstrate working of iterators using an example type that iterates from 10 to given value"
   ]
  },
  {
   "cell_type": "code",
   "execution_count": 255,
   "id": "d6970fc6",
   "metadata": {},
   "outputs": [
    {
     "name": "stdout",
     "output_type": "stream",
     "text": [
      "Enter an integer value : 50\n",
      "Even Number from 10 to  50  are : \n",
      "10\n",
      "12\n",
      "14\n",
      "16\n",
      "18\n",
      "20\n",
      "22\n",
      "24\n",
      "26\n",
      "28\n",
      "30\n",
      "32\n",
      "34\n",
      "36\n",
      "38\n",
      "40\n",
      "42\n",
      "44\n",
      "46\n",
      "48\n",
      "50\n"
     ]
    }
   ],
   "source": [
    "class Even : \n",
    "    \n",
    "    def __init__(self,p) : \n",
    "        self.__limit = p\n",
    "        self.__val = 10 \n",
    "        \n",
    "    def __iter__(self) : \n",
    "        return self \n",
    "    \n",
    "    def __next__(self) : \n",
    "        if self.__val > self.__limit : \n",
    "            raise StopIteration \n",
    "            \n",
    "        else : \n",
    "            return_val = self.__val\n",
    "            self.__val += 2 \n",
    "        return return_val \n",
    "    \n",
    "n = int(input('Enter an integer value : '))\n",
    "\n",
    "    \n",
    "print('Even Number from 10 to ',n,' are : ')\n",
    "    \n",
    "for i in Even(n): \n",
    "    print(i)\n",
    "    "
   ]
  },
  {
   "cell_type": "markdown",
   "id": "7341fa3b",
   "metadata": {},
   "source": [
    "# ---------------------------------------------------------------------------------------------------------------"
   ]
  },
  {
   "cell_type": "markdown",
   "id": "2ac11c26",
   "metadata": {},
   "source": [
    "### Q9.Write a program to illustrate the concept of multiple decorators"
   ]
  },
  {
   "cell_type": "code",
   "execution_count": 275,
   "id": "d850003f",
   "metadata": {},
   "outputs": [
    {
     "name": "stdout",
     "output_type": "stream",
     "text": [
      "My Name :  Vinayak Mane\n"
     ]
    }
   ],
   "source": [
    "def outer(func) : \n",
    "    def inner() : \n",
    "        data = func()\n",
    "        return data.capitalize()\n",
    "    return inner\n",
    "\n",
    "def adding(func) : \n",
    "    def inner() : \n",
    "        data = func()\n",
    "        return data + ' ' + 'Mane'\n",
    "    return inner\n",
    "\n",
    "\n",
    "\n",
    "\n",
    "@adding\n",
    "@outer\n",
    "\n",
    "def my_func() : \n",
    "    return 'vinayak'\n",
    "\n",
    "print('My Name : ', my_func())\n"
   ]
  },
  {
   "cell_type": "markdown",
   "id": "87f3dfcf",
   "metadata": {},
   "source": [
    "# ---------------------------------------------------------------------------------------------------------------"
   ]
  },
  {
   "cell_type": "markdown",
   "id": "9febdeb9",
   "metadata": {},
   "source": [
    "### Q10.Write a decorator called timer that calculates the time required to execute a function. Its wrapper function called calculates should take all the parameters that are passed to the decorated function."
   ]
  },
  {
   "cell_type": "code",
   "execution_count": 294,
   "id": "0f13dc5d",
   "metadata": {},
   "outputs": [
    {
     "name": "stdout",
     "output_type": "stream",
     "text": [
      "Enter an integer : 10\n",
      "Prime Number is :  2\n",
      "Prime Number is :  3\n",
      "Prime Number is :  5\n",
      "Prime Number is :  7\n",
      "Total Run time is :             1.52431 secs \n"
     ]
    }
   ],
   "source": [
    "import time \n",
    "\n",
    "def timer(func) : \n",
    "    def calculate(*args): \n",
    "        start = time.perf_counter()\n",
    "        val = func(*args)\n",
    "        end = time.perf_counter() \n",
    "        runtime = end - start \n",
    "        print('Total Run time is :{0:20.5f} secs '.format(runtime))\n",
    "        return val \n",
    "    return calculate \n",
    "\n",
    "\n",
    "@timer \n",
    "# Calculating prime number upto 10 \n",
    "def My_func2():\n",
    "    n = int(input('Enter an integer : '))\n",
    "    for i in range(2,n):\n",
    "        for j in range(2,i) : \n",
    "            if i % j == 0: \n",
    "                break \n",
    "        else : \n",
    "            print('Prime Number is : ',i)\n",
    "            \n",
    "My_func2()"
   ]
  },
  {
   "cell_type": "code",
   "execution_count": null,
   "id": "dddefca7",
   "metadata": {},
   "outputs": [],
   "source": []
  },
  {
   "cell_type": "code",
   "execution_count": null,
   "id": "05256d05",
   "metadata": {},
   "outputs": [],
   "source": []
  },
  {
   "cell_type": "code",
   "execution_count": null,
   "id": "88b7c6f6",
   "metadata": {},
   "outputs": [],
   "source": []
  },
  {
   "cell_type": "code",
   "execution_count": null,
   "id": "2e7a8581",
   "metadata": {},
   "outputs": [],
   "source": []
  },
  {
   "cell_type": "code",
   "execution_count": null,
   "id": "b877f13d",
   "metadata": {},
   "outputs": [],
   "source": []
  },
  {
   "cell_type": "code",
   "execution_count": null,
   "id": "9bca5c26",
   "metadata": {},
   "outputs": [],
   "source": []
  },
  {
   "cell_type": "code",
   "execution_count": null,
   "id": "b2883c9c",
   "metadata": {},
   "outputs": [],
   "source": []
  },
  {
   "cell_type": "code",
   "execution_count": null,
   "id": "c3392f20",
   "metadata": {},
   "outputs": [],
   "source": []
  },
  {
   "cell_type": "code",
   "execution_count": null,
   "id": "f925f216",
   "metadata": {},
   "outputs": [],
   "source": []
  }
 ],
 "metadata": {
  "kernelspec": {
   "display_name": "Python 3 (ipykernel)",
   "language": "python",
   "name": "python3"
  },
  "language_info": {
   "codemirror_mode": {
    "name": "ipython",
    "version": 3
   },
   "file_extension": ".py",
   "mimetype": "text/x-python",
   "name": "python",
   "nbconvert_exporter": "python",
   "pygments_lexer": "ipython3",
   "version": "3.9.12"
  }
 },
 "nbformat": 4,
 "nbformat_minor": 5
}
