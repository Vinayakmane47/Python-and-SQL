{
 "cells": [
  {
   "cell_type": "markdown",
   "id": "161873bc",
   "metadata": {},
   "source": [
    "# Week_06 Challenge \n"
   ]
  },
  {
   "cell_type": "markdown",
   "id": "b1d669b2",
   "metadata": {},
   "source": [
    "### Q1.Write a program that read contents of the file ‘messages’ one character at a time and prints each character that is read."
   ]
  },
  {
   "cell_type": "code",
   "execution_count": 75,
   "id": "8b3446a0",
   "metadata": {},
   "outputs": [
    {
     "name": "stdout",
     "output_type": "stream",
     "text": [
      "Name : Vinayak Mane \n",
      " Course name : Data Science and Data Analytics \n",
      " Branch : Mechanical Engineering Name : Vinayak Mane \n",
      " Course name : Data Science and Data Analytics \n",
      " Branch : Mechanical Engineering  "
     ]
    }
   ],
   "source": [
    "file1 = open('messages.txt','r')\n",
    "\n",
    "lines = file1.readlines() \n",
    "\n",
    "for line in lines : \n",
    "    print(line,end = ' ')\n",
    "    \n",
    "file1.close()"
   ]
  },
  {
   "cell_type": "markdown",
   "id": "574acb89",
   "metadata": {},
   "source": [
    "# ---------------------------------------------------------------------------------------------------------------"
   ]
  },
  {
   "cell_type": "markdown",
   "id": "e0f8d365",
   "metadata": {},
   "source": [
    "### Q2.Write a Python program that searches for a file, obtains its size and reports the size in bytes/ KB/ MB as appropriate"
   ]
  },
  {
   "cell_type": "code",
   "execution_count": 76,
   "id": "e3ecce8d",
   "metadata": {},
   "outputs": [
    {
     "name": "stdout",
     "output_type": "stream",
     "text": [
      "Enter the filename :student_records\n",
      "The size of the file is :  (130, 'bytes')\n"
     ]
    }
   ],
   "source": [
    "# Searching for a file\n",
    "\n",
    "import os\n",
    "def convert(num) : \n",
    "    for x in ['bytes' , 'KB' ,'MB' ] : \n",
    "        if num < 1024.0 : \n",
    "            return (num,x) \n",
    "        num /= 1024 \n",
    "\n",
    "def file_size(file_path) : \n",
    "    if os.path.isfile(file_path) : \n",
    "        file_info = os.stat(file_path) \n",
    "        return convert(file_info.st_size) \n",
    "\n",
    "    \n",
    "\n",
    "filename = input('Enter the filename :' ) \n",
    "print('The size of the file is : ' , file_size(filename))"
   ]
  },
  {
   "cell_type": "markdown",
   "id": "ed5fd551",
   "metadata": {},
   "source": [
    "# ---------------------------------------------------------------------------------------------------------------"
   ]
  },
  {
   "cell_type": "markdown",
   "id": "20043da1",
   "metadata": {},
   "source": [
    "### Q3.Write a program to accept a filename from the user, create a file with that name(if it does not exist) and write some content into the file"
   ]
  },
  {
   "cell_type": "code",
   "execution_count": 77,
   "id": "3384ea3e",
   "metadata": {},
   "outputs": [
    {
     "name": "stdout",
     "output_type": "stream",
     "text": [
      "Enter file name : student_details.txt\n"
     ]
    }
   ],
   "source": [
    "file_name = input('Enter file name : ')\n",
    "\n",
    "f = open(file_name,'w')\n",
    "\n",
    "f.write('Name : Vinayak Mane \\n')\n",
    "\n",
    "f.write('Course name : Data Science and Data Analytics \\n')\n",
    "\n",
    "f.write('Branch : Mechanical Engineering ')\n",
    "f.close()\n",
    "\n"
   ]
  },
  {
   "cell_type": "markdown",
   "id": "27796a10",
   "metadata": {},
   "source": [
    "# ---------------------------------------------------------------------------------------------------------------"
   ]
  },
  {
   "cell_type": "markdown",
   "id": "846cfb32",
   "metadata": {},
   "source": [
    "### Q4. Write a program to read a file and display its contents along with line numbers before each line"
   ]
  },
  {
   "cell_type": "code",
   "execution_count": 78,
   "id": "a1ebc107",
   "metadata": {},
   "outputs": [
    {
     "name": "stdout",
     "output_type": "stream",
     "text": [
      "Name : Vinayak Mane \n",
      "\n",
      "Course name : Data Science and Data Analytics \n",
      "\n",
      "Branch : Mechanical Engineering \n"
     ]
    }
   ],
   "source": [
    "f = open('student_details.txt','r')\n",
    "\n",
    "lines = f.readlines()\n",
    "\n",
    "for line in lines : \n",
    "    print(line)\n",
    "f.close()"
   ]
  },
  {
   "cell_type": "markdown",
   "id": "8f347d5a",
   "metadata": {},
   "source": [
    "# --------------------------------------------------------------------------------------------------------------"
   ]
  },
  {
   "cell_type": "markdown",
   "id": "43f89ca5",
   "metadata": {},
   "source": [
    "### Q5. Write a program to copy the contents of one file into another"
   ]
  },
  {
   "cell_type": "code",
   "execution_count": 79,
   "id": "4cb8f13c",
   "metadata": {},
   "outputs": [
    {
     "name": "stdout",
     "output_type": "stream",
     "text": [
      "Enter first file :student_details.txt\n",
      "Enter second file : messages.txt\n"
     ]
    }
   ],
   "source": [
    "f1 = open(input('Enter first file :'),'r')\n",
    "f2 = open(input('Enter second file : '),'w')\n",
    "\n",
    "while True : \n",
    "    data = f1.read(1)\n",
    "    \n",
    "    if data == '': \n",
    "        break\n",
    "    f2.write(data)\n",
    "    \n",
    "f1.close()\n",
    "f2.close()    "
   ]
  },
  {
   "cell_type": "markdown",
   "id": "2303671e",
   "metadata": {},
   "source": [
    "# ---------------------------------------------------------------------------------------------------------------"
   ]
  },
  {
   "cell_type": "markdown",
   "id": "31550cd8",
   "metadata": {},
   "source": [
    "### Q6.Write a program to append the contents of one file into another"
   ]
  },
  {
   "cell_type": "code",
   "execution_count": 15,
   "id": "052d4db0",
   "metadata": {},
   "outputs": [
    {
     "name": "stdout",
     "output_type": "stream",
     "text": [
      "Enter first file :student_details.txt\n",
      "Enter second file : messages.txt\n"
     ]
    }
   ],
   "source": [
    "f1 = open(input('Enter first file :'),'r')\n",
    "f2 = open(input('Enter second file : '),'a')\n",
    "\n",
    "while True : \n",
    "    data = f1.read(1)\n",
    "    \n",
    "    if data == '': \n",
    "        break\n",
    "    f2.write(data)\n",
    "    \n",
    "f1.close()\n",
    "f2.close()    "
   ]
  },
  {
   "cell_type": "markdown",
   "id": "d6bf8b26",
   "metadata": {},
   "source": [
    "# ---------------------------------------------------------------------------------------------------------------"
   ]
  },
  {
   "cell_type": "markdown",
   "id": "89cc0221",
   "metadata": {},
   "source": [
    "### Q7.Suppose a file contains student records, with each record containing name and age of student. Write a program to read these records and display them in sorted order by name"
   ]
  },
  {
   "cell_type": "code",
   "execution_count": 80,
   "id": "7bde8843",
   "metadata": {},
   "outputs": [
    {
     "name": "stdout",
     "output_type": "stream",
     "text": [
      "akash  , Age : 30\n",
      "\n",
      "avinash , Age : 26\n",
      "\n",
      "johny   , Age : 27\n",
      "kamlesh , Age : 22\n",
      "\n",
      "rajesh  , Age : 28\n",
      "\n",
      "vinayak ,Age : 25\n",
      "\n",
      "xavier , Age : 23 \n",
      "\n"
     ]
    }
   ],
   "source": [
    "f = open('student_records' , 'r')\n",
    "\n",
    "lines = f.readlines()\n",
    "list1 = []\n",
    "for i in lines :\n",
    "    list1.append(i)\n",
    "\n",
    "list2 = sorted(list1)\n",
    "\n",
    "for j in list2 : \n",
    "    print(j)\n",
    "\n",
    "\n",
    "\n",
    "    \n",
    "\n",
    "\n",
    "    "
   ]
  },
  {
   "cell_type": "markdown",
   "id": "52ab5568",
   "metadata": {},
   "source": [
    "# ---------------------------------------------------------------------------------------------------------------"
   ]
  },
  {
   "cell_type": "markdown",
   "id": "db3b327a",
   "metadata": {},
   "source": [
    "###  Q8. Suppose there are three modules m1.py, m2.py and m3.py containing functions f1(), f2() and f3() respectively. Write a program to use these functions"
   ]
  },
  {
   "cell_type": "code",
   "execution_count": 44,
   "id": "6e527bce",
   "metadata": {},
   "outputs": [
    {
     "ename": "ModuleNotFoundError",
     "evalue": "No module named 'm1'",
     "output_type": "error",
     "traceback": [
      "\u001b[1;31m---------------------------------------------------------------------------\u001b[0m",
      "\u001b[1;31mModuleNotFoundError\u001b[0m                       Traceback (most recent call last)",
      "Input \u001b[1;32mIn [44]\u001b[0m, in \u001b[0;36m<cell line: 1>\u001b[1;34m()\u001b[0m\n\u001b[1;32m----> 1\u001b[0m \u001b[38;5;28;01mimport\u001b[39;00m \u001b[38;5;21;01mm1\u001b[39;00m\u001b[38;5;21;01m.\u001b[39;00m\u001b[38;5;21;01mpy\u001b[39;00m\n\u001b[0;32m      2\u001b[0m m1\u001b[38;5;241m.\u001b[39mf1()\n\u001b[0;32m      4\u001b[0m \u001b[38;5;28;01mimport\u001b[39;00m \u001b[38;5;21;01mm2\u001b[39;00m\u001b[38;5;21;01m.\u001b[39;00m\u001b[38;5;21;01mpy\u001b[39;00m\n",
      "\u001b[1;31mModuleNotFoundError\u001b[0m: No module named 'm1'"
     ]
    }
   ],
   "source": [
    "# first module \n",
    "import m1.py\n",
    "m1.f1()\n",
    "\n",
    "# Second module \n",
    "import m2.py\n",
    "m2.f2()\n",
    "\n",
    "# Third module \n",
    "\n",
    "import m3.py \n",
    "m3.f3()"
   ]
  },
  {
   "cell_type": "markdown",
   "id": "895cbbd1",
   "metadata": {},
   "source": [
    "# --------------------------------------------------------------------------------------------------------------"
   ]
  },
  {
   "cell_type": "markdown",
   "id": "ba0f8132",
   "metadata": {},
   "source": [
    "### Q9.Write a program containing functions fun1(), fun2() and fun3() and some statements. Add suitable code to the program such that you can use it as a module or a normal program"
   ]
  },
  {
   "cell_type": "code",
   "execution_count": 81,
   "id": "d8119631",
   "metadata": {},
   "outputs": [
    {
     "name": "stdout",
     "output_type": "stream",
     "text": [
      "Enter 13\n",
      "The number 13 is even number :  False\n",
      "The number 13 is odd number :  True\n",
      "13 is a prime number\n"
     ]
    }
   ],
   "source": [
    "import checkingnumbers \n",
    "\n",
    "x = int(input('Enter '))\n",
    "\n",
    "# CHECKING FOR EVEN NUMBER \n",
    "print('The number',x,'is even number : ', checkingnumbers.f1(x))\n",
    "\n",
    "# CHECKING FOR ODD NUMBER \n",
    "print('The number',x,'is odd number : ', checkingnumbers.f2(x))\n",
    "\n",
    "# CHECKING FOR PRIME NUMBER \n",
    "checkingnumbers.f3(x)\n"
   ]
  },
  {
   "cell_type": "markdown",
   "id": "177c1c91",
   "metadata": {},
   "source": [
    "# ---------------------------------------------------------------------------------------------------------------"
   ]
  },
  {
   "cell_type": "markdown",
   "id": "981ef9e3",
   "metadata": {},
   "source": [
    "### Q10.Suppose a module called mod.py contains functions f1(), f2() and f3(). Write three forms of import statements to use these functions in your program"
   ]
  },
  {
   "cell_type": "code",
   "execution_count": null,
   "id": "8bea0387",
   "metadata": {},
   "outputs": [],
   "source": [
    "# first form \n",
    "import mod \n",
    "mod.f1()\n",
    "\n",
    "# second form \n",
    "from mod import f1\n",
    "\n",
    "# third form \n",
    "import mod as f \n",
    "f.f1()\n",
    "\n"
   ]
  },
  {
   "cell_type": "code",
   "execution_count": null,
   "id": "8a8eedb5",
   "metadata": {},
   "outputs": [],
   "source": []
  },
  {
   "cell_type": "code",
   "execution_count": null,
   "id": "e8771394",
   "metadata": {},
   "outputs": [],
   "source": []
  },
  {
   "cell_type": "code",
   "execution_count": null,
   "id": "55668f37",
   "metadata": {},
   "outputs": [],
   "source": []
  },
  {
   "cell_type": "code",
   "execution_count": null,
   "id": "5f3abbe1",
   "metadata": {},
   "outputs": [],
   "source": []
  },
  {
   "cell_type": "code",
   "execution_count": null,
   "id": "13e1fe06",
   "metadata": {},
   "outputs": [],
   "source": []
  }
 ],
 "metadata": {
  "kernelspec": {
   "display_name": "Python 3 (ipykernel)",
   "language": "python",
   "name": "python3"
  },
  "language_info": {
   "codemirror_mode": {
    "name": "ipython",
    "version": 3
   },
   "file_extension": ".py",
   "mimetype": "text/x-python",
   "name": "python",
   "nbconvert_exporter": "python",
   "pygments_lexer": "ipython3",
   "version": "3.9.12"
  }
 },
 "nbformat": 4,
 "nbformat_minor": 5
}
