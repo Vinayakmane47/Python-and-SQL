{
 "cells": [
  {
   "cell_type": "markdown",
   "id": "c6cebd1e",
   "metadata": {},
   "source": [
    "# Week_07 Challenge : "
   ]
  },
  {
   "cell_type": "markdown",
   "id": "c0ef8230",
   "metadata": {},
   "source": [
    "### Q1.Create a class called number which contains an integer. It should contain various methods to set the value of the integer, return the integer value, print the integer value, check whether the integer is negative"
   ]
  },
  {
   "cell_type": "code",
   "execution_count": 25,
   "id": "bd1bdcc8",
   "metadata": {},
   "outputs": [
    {
     "name": "stdout",
     "output_type": "stream",
     "text": [
      "Enter value of integer : -9\n",
      "integer value is :  -9\n",
      "Integer value is negative \n"
     ]
    }
   ],
   "source": [
    "class Integer: \n",
    "    def __init__(self,n) : \n",
    "        self.__integer = n \n",
    "        \n",
    "    def display(self) : \n",
    "        print('integer value is : ',self.__integer)\n",
    "    def negative(self): \n",
    "        if n < 0 : \n",
    "            return 'Integer value is negative '\n",
    "        else : \n",
    "            return 'Integer is positive'\n",
    "\n",
    "n = int(input('Enter value of integer : '))\n",
    "obj1 = Integer(n)\n",
    "obj1.display()\n",
    "print(obj1.negative())\n"
   ]
  },
  {
   "cell_type": "markdown",
   "id": "a5ebbf45",
   "metadata": {},
   "source": [
    "# ---------------------------------------------------------------------------------------------------------------"
   ]
  },
  {
   "cell_type": "markdown",
   "id": "69d7e3f6",
   "metadata": {},
   "source": [
    "### Q2.Create a class that can calculate the perimeter/ circumference and area of a regular shape. The class should also have a provision to accept the data relevant to the shape."
   ]
  },
  {
   "cell_type": "code",
   "execution_count": 49,
   "id": "d27a0974",
   "metadata": {},
   "outputs": [
    {
     "name": "stdout",
     "output_type": "stream",
     "text": [
      "Enter the radius of circle : 50\n",
      "The Area of circle is :  7850.0\n",
      "The Circumference of circle is :  314.0\n"
     ]
    }
   ],
   "source": [
    "class Geometry : \n",
    "    \n",
    "    def __init__(self,r) : \n",
    "        self.__radius = r \n",
    "        \n",
    "    def circle_area(self) :  \n",
    "        a_c =  3.14 * self.__radius **2\n",
    "        return a_c\n",
    "    def circle_circumference(self) : \n",
    "        c_c = 2 * 3.14 * self.__radius\n",
    "        return c_c\n",
    "\n",
    "    \n",
    "n = int(input('Enter the radius of circle : '))\n",
    "obj1 = Geometry(n)        \n",
    "\n",
    "print('The Area of circle is : ',obj1.circle_area())\n",
    "print('The Circumference of circle is : ',obj1.circle_circumference())\n"
   ]
  },
  {
   "cell_type": "markdown",
   "id": "1214e35e",
   "metadata": {},
   "source": [
    "# ---------------------------------------------------------------------------------------------------------------"
   ]
  },
  {
   "cell_type": "markdown",
   "id": "f69082f1",
   "metadata": {},
   "source": [
    "### Q3.Create a class called student which contains the data members called rollno, sname and branch. The class should contain methods to initialize the data members and to set and display data members. Finally, the class should contain the __del__ method to release the memory at the time of object destruction. Test your class with at least two objects of the student class.\n"
   ]
  },
  {
   "cell_type": "code",
   "execution_count": 98,
   "id": "b654047c",
   "metadata": {},
   "outputs": [
    {
     "name": "stdout",
     "output_type": "stream",
     "text": [
      "Roll NO. :  12345\n",
      "Name :  Vinayak\n",
      "Branch :  Mechanical\n",
      "------------------------------------------------------------------------------------------------------------------------\n",
      "Roll NO. :  98745\n",
      "Name :  Harsh\n",
      "Branch :  Computer\n",
      "------------------------------------------------------------------------------------------------------------------------\n",
      "Object is destroyed : Vinayak\n",
      "Object is destroyed : Harsh\n"
     ]
    }
   ],
   "source": [
    "class Student : \n",
    "    def __init__(self,r,n,b): \n",
    "        self.__rollno = r\n",
    "        self.__name = n\n",
    "        self.__branch = b\n",
    "        \n",
    "    def set_data(self,r,n,b) :\n",
    "        self.__rollno = r\n",
    "        self.__name = n \n",
    "        self.__branch = b \n",
    "    def display(self) : \n",
    "        print('Roll NO. : ',self.__rollno)\n",
    "        print('Name : ' ,self.__name)\n",
    "        print('Branch : ',self.__branch)\n",
    "        \n",
    "    def __del__(self) : \n",
    "        print('Object is destroyed :',self.__name)\n",
    "\n",
    "        \n",
    "        \n",
    "st1 = Student(12345,'Vinayak','Mechanical')\n",
    "st1.display()\n",
    "print('-' *120)\n",
    "\n",
    "st2 = Student(98745,'Harsh','Computer')\n",
    "st2.display()\n",
    "print('-' *120)\n",
    "del st1\n",
    "del st2\n",
    "\n",
    "        "
   ]
  },
  {
   "cell_type": "markdown",
   "id": "95fb3106",
   "metadata": {},
   "source": [
    "# ---------------------------------------------------------------------------------------------------------------"
   ]
  },
  {
   "cell_type": "markdown",
   "id": "0c9b527c",
   "metadata": {},
   "source": [
    "### Q4.Modify the student class defined in Q. No. 1 in so that it now includes a class variable to count the number of student objects created from this class and also add a class function in order to display the value of the class variable. The modified class should be named as student1 class."
   ]
  },
  {
   "cell_type": "code",
   "execution_count": 103,
   "id": "7dd99606",
   "metadata": {},
   "outputs": [
    {
     "name": "stdout",
     "output_type": "stream",
     "text": [
      "Roll NO. :  12345\n",
      "Name :  Vinayak\n",
      "Branch :  Mechanical\n",
      "------------------------------------------------------------------------------------------------------------------------\n",
      "Roll NO. :  98745\n",
      "Name :  Harsh\n",
      "Branch :  Computer\n",
      "------------------------------------------------------------------------------------------------------------------------\n",
      "No of students :  2\n",
      "------------------------------------------------------------------------------------------------------------------------\n",
      "Object is destroyed : Vinayak\n",
      "Object is destroyed : Harsh\n"
     ]
    }
   ],
   "source": [
    "class Student1 : \n",
    "    no_of_students = 0\n",
    "    def __init__(self,r,n,b): \n",
    "        self.__rollno = r\n",
    "        self.__name = n\n",
    "        self.__branch = b\n",
    "        Student1.no_of_students += 1\n",
    "            \n",
    "        \n",
    "    def set_data(self,r,n,b) :\n",
    "        self.__rollno = r\n",
    "        self.__name = n \n",
    "        self.__branch = b \n",
    "    def display(self) : \n",
    "        print('Roll NO. : ',self.__rollno)\n",
    "        print('Name : ' ,self.__name)\n",
    "        print('Branch : ',self.__branch)\n",
    "    def display2() : \n",
    "        print('No of students : ',Student1.no_of_students)\n",
    "        \n",
    "    def __del__(self) : \n",
    "        print('Object is destroyed :',self.__name)\n",
    "        \n",
    "        \n",
    "        \n",
    "st1 = Student1(12345,'Vinayak','Mechanical')\n",
    "st1.display()\n",
    "print('-' *120)\n",
    "\n",
    "st2 = Student1(98745,'Harsh','Computer')\n",
    "st2.display()\n",
    "print('-' *120)\n",
    "Student1.display2()\n",
    "print('-' *120)\n",
    "\n",
    "del st1\n",
    "del st2\n",
    "\n",
    "\n",
    "\n"
   ]
  },
  {
   "cell_type": "markdown",
   "id": "5b86bf8b",
   "metadata": {},
   "source": [
    "# ---------------------------------------------------------------------------------------------------------------"
   ]
  },
  {
   "cell_type": "markdown",
   "id": "756dd4b7",
   "metadata": {},
   "source": [
    "### Q5.Apply the vars() and dir() global function on student and student1 classes"
   ]
  },
  {
   "cell_type": "code",
   "execution_count": 104,
   "id": "3c7a7b7d",
   "metadata": {},
   "outputs": [
    {
     "data": {
      "text/plain": [
       "mappingproxy({'__module__': '__main__',\n",
       "              '__init__': <function __main__.Student.__init__(self, r, n, b)>,\n",
       "              'set_data': <function __main__.Student.set_data(self, r, n, b)>,\n",
       "              'display': <function __main__.Student.display(self)>,\n",
       "              '__del__': <function __main__.Student.__del__(self)>,\n",
       "              '__dict__': <attribute '__dict__' of 'Student' objects>,\n",
       "              '__weakref__': <attribute '__weakref__' of 'Student' objects>,\n",
       "              '__doc__': None})"
      ]
     },
     "execution_count": 104,
     "metadata": {},
     "output_type": "execute_result"
    }
   ],
   "source": [
    "vars(Student)"
   ]
  },
  {
   "cell_type": "code",
   "execution_count": 105,
   "id": "d628df48",
   "metadata": {},
   "outputs": [
    {
     "data": {
      "text/plain": [
       "mappingproxy({'__module__': '__main__',\n",
       "              'no_of_students': 2,\n",
       "              '__init__': <function __main__.Student1.__init__(self, r, n, b)>,\n",
       "              'set_data': <function __main__.Student1.set_data(self, r, n, b)>,\n",
       "              'display': <function __main__.Student1.display(self)>,\n",
       "              'display2': <function __main__.Student1.display2()>,\n",
       "              '__del__': <function __main__.Student1.__del__(self)>,\n",
       "              '__dict__': <attribute '__dict__' of 'Student1' objects>,\n",
       "              '__weakref__': <attribute '__weakref__' of 'Student1' objects>,\n",
       "              '__doc__': None})"
      ]
     },
     "execution_count": 105,
     "metadata": {},
     "output_type": "execute_result"
    }
   ],
   "source": [
    "vars(Student1)"
   ]
  },
  {
   "cell_type": "code",
   "execution_count": 107,
   "id": "51ae6e39",
   "metadata": {},
   "outputs": [
    {
     "data": {
      "text/plain": [
       "['__class__',\n",
       " '__del__',\n",
       " '__delattr__',\n",
       " '__dict__',\n",
       " '__dir__',\n",
       " '__doc__',\n",
       " '__eq__',\n",
       " '__format__',\n",
       " '__ge__',\n",
       " '__getattribute__',\n",
       " '__gt__',\n",
       " '__hash__',\n",
       " '__init__',\n",
       " '__init_subclass__',\n",
       " '__le__',\n",
       " '__lt__',\n",
       " '__module__',\n",
       " '__ne__',\n",
       " '__new__',\n",
       " '__reduce__',\n",
       " '__reduce_ex__',\n",
       " '__repr__',\n",
       " '__setattr__',\n",
       " '__sizeof__',\n",
       " '__str__',\n",
       " '__subclasshook__',\n",
       " '__weakref__',\n",
       " 'display',\n",
       " 'set_data']"
      ]
     },
     "execution_count": 107,
     "metadata": {},
     "output_type": "execute_result"
    }
   ],
   "source": [
    "dir(Student)"
   ]
  },
  {
   "cell_type": "code",
   "execution_count": 109,
   "id": "a588ba46",
   "metadata": {},
   "outputs": [
    {
     "data": {
      "text/plain": [
       "['__class__',\n",
       " '__del__',\n",
       " '__delattr__',\n",
       " '__dict__',\n",
       " '__dir__',\n",
       " '__doc__',\n",
       " '__eq__',\n",
       " '__format__',\n",
       " '__ge__',\n",
       " '__getattribute__',\n",
       " '__gt__',\n",
       " '__hash__',\n",
       " '__init__',\n",
       " '__init_subclass__',\n",
       " '__le__',\n",
       " '__lt__',\n",
       " '__module__',\n",
       " '__ne__',\n",
       " '__new__',\n",
       " '__reduce__',\n",
       " '__reduce_ex__',\n",
       " '__repr__',\n",
       " '__setattr__',\n",
       " '__sizeof__',\n",
       " '__str__',\n",
       " '__subclasshook__',\n",
       " '__weakref__',\n",
       " 'display',\n",
       " 'display2',\n",
       " 'no_of_students',\n",
       " 'set_data']"
      ]
     },
     "execution_count": 109,
     "metadata": {},
     "output_type": "execute_result"
    }
   ],
   "source": [
    "dir(Student1)"
   ]
  },
  {
   "cell_type": "markdown",
   "id": "3c042670",
   "metadata": {},
   "source": [
    "# ---------------------------------------------------------------------------------------------------------------"
   ]
  },
  {
   "cell_type": "markdown",
   "id": "f8948c14",
   "metadata": {},
   "source": [
    "### Q6.Create a class called Date. It should contain data members day, month and year. It should also contain functions to set and display date, as well as function to initialize date objects. Overload the == operator to check if two dates are equal"
   ]
  },
  {
   "cell_type": "code",
   "execution_count": 177,
   "id": "6150c9c9",
   "metadata": {},
   "outputs": [
    {
     "name": "stdout",
     "output_type": "stream",
     "text": [
      "Date :  4\n",
      "Month :  July\n",
      "Year :  1999\n",
      "------------------------------------------------------------------------------------------------------------------------\n",
      "Date :  4\n",
      "Month :  March\n",
      "Year :  2012\n",
      "------------------------------------------------------------------------------------------------------------------------\n",
      "both dates are equal \n",
      "both dates are equal \n"
     ]
    }
   ],
   "source": [
    "class Date : \n",
    "    def __init__(self,d,m,y) : \n",
    "        self.__date = d \n",
    "        self.__month = m \n",
    "        self.__year = y \n",
    "        \n",
    "    def set_data(self,d,m,y) : \n",
    "        self.__date = d \n",
    "        self.__month = m \n",
    "        self.__year = y \n",
    "        \n",
    "    def display_data(self): \n",
    "        print('Date : ',self.__date)\n",
    "        print('Month : ',self.__month)\n",
    "        print('Year : ',self.__year)\n",
    "        \n",
    "    def __eq__(self,other) : \n",
    "        if self.__date == other.__date: \n",
    "            print('both dates are equal ')\n",
    "        else : \n",
    "            print('Both dates are Not equal')\n",
    "\n",
    "date1 = Date(4,'July',1999)\n",
    "date2 = Date(4,'March',2012)\n",
    "date1.display_data()\n",
    "print('-' *120)\n",
    "date2.display_data()\n",
    "print('-' *120)\n",
    "date1 == date2\n"
   ]
  },
  {
   "cell_type": "markdown",
   "id": "10d4be60",
   "metadata": {},
   "source": [
    "# -----------------------------------------------------------------------------------------------------------"
   ]
  },
  {
   "cell_type": "markdown",
   "id": "0f50ecde",
   "metadata": {},
   "source": [
    "### Q7.Create a class called weather that has a list containing weather parameters. Overload the in operator that checks whether an item is present in the list or not."
   ]
  },
  {
   "cell_type": "code",
   "execution_count": 108,
   "id": "cd353b22",
   "metadata": {},
   "outputs": [
    {
     "data": {
      "text/plain": [
       "False"
      ]
     },
     "execution_count": 108,
     "metadata": {},
     "output_type": "execute_result"
    }
   ],
   "source": [
    "class Weather :\n",
    "         \n",
    "    def __contains__(self,p) :\n",
    "        self.parameter = p\n",
    "        l1 = ['humidity','temp','wind','precipitation'] \n",
    "        if self.parameter in l1 : \n",
    "            return True \n",
    "        \n",
    "        else : \n",
    "            return False \n",
    "        \n",
    "        \n",
    "                           \n",
    "            \n",
    "city1 = Weather()\n",
    "city2 = Weather()\n",
    "\n",
    "\n",
    "# invoking the in statement\n",
    "'cool' in Weather()\n",
    "\n",
    "\n",
    "\n",
    "\n"
   ]
  },
  {
   "cell_type": "markdown",
   "id": "ea28d6f1",
   "metadata": {},
   "source": [
    "# -------------------------------------------------------------------------------------------------------------"
   ]
  },
  {
   "cell_type": "markdown",
   "id": "9ce5c5b3",
   "metadata": {},
   "source": [
    "### Q8.Create a class called complex containing real and imaginary parts and then use it to check whether two objects are of the same type, whether their attributes are same and whether they are pointing to the same object"
   ]
  },
  {
   "cell_type": "code",
   "execution_count": 85,
   "id": "0c08b5e2",
   "metadata": {},
   "outputs": [
    {
     "data": {
      "text/plain": [
       "'types of  objects are not equal'"
      ]
     },
     "execution_count": 85,
     "metadata": {},
     "output_type": "execute_result"
    }
   ],
   "source": [
    "class Complex : \n",
    "    def __init__(self,r,i) : \n",
    "        self.real = r \n",
    "        self.imaginary = i \n",
    "        \n",
    "    def checktype(self,other) :\n",
    "        if type(self.real) == type(other.real) and  type(self.imaginary) == type(other.imaginary):\n",
    "            return 'types of  objects are equal'\n",
    "        else : \n",
    "            return 'types of  objects are not equal'\n",
    "        \n",
    "       \n",
    "        \n",
    "        \n",
    "    def checkattribute(self,other) : \n",
    "        if self.real == other.real and self.imaginary == other.imaginary:\n",
    "            return 'Attributes of  objects are equal'\n",
    "        else : \n",
    "            return 'Attributes of  objects are  not equal'\n",
    "        \n",
    "        \n",
    "        \n",
    "obj1 = Complex(3,4j)\n",
    "obj2 = Complex(3j,2j)\n",
    "\n",
    "Complex.checktype(obj1,obj2)\n",
    "\n",
    "#Complex.checkattribute(obj1,obj2)\n",
    "    "
   ]
  },
  {
   "cell_type": "code",
   "execution_count": null,
   "id": "65804b87",
   "metadata": {},
   "outputs": [],
   "source": []
  },
  {
   "cell_type": "markdown",
   "id": "dc2d529c",
   "metadata": {},
   "source": [
    "### Q9.Create a class called department with the attributes deptname and deptid. Modify the student class defined in Q.No. 3 such that it contains an object of department class. Name the new modified student class as student2."
   ]
  },
  {
   "cell_type": "code",
   "execution_count": 84,
   "id": "8d6d1785",
   "metadata": {},
   "outputs": [
    {
     "name": "stdout",
     "output_type": "stream",
     "text": [
      "Roll NO. :  12345\n",
      "Name :  Vinayak\n",
      "Branch :  Mechanical\n",
      "Department Name :  Mechanical Engineering\n",
      "Department ID :  15ME037\n",
      "------------------------------------------------------------------------------------------------------------------------\n",
      "Roll NO. :  98745\n",
      "Name :  Harsh\n",
      "Branch :  Computer\n",
      "Department Name :  Computer Engineering\n",
      "Department ID :  17CE025\n"
     ]
    }
   ],
   "source": [
    "class Department: \n",
    "    def __init__(self,dn,i) : \n",
    "        self.deptname = dn \n",
    "        self.deptid = i\n",
    "        \n",
    "class Student2(Department) : \n",
    "    def __init__(self,r,n,b,dn,i): \n",
    "        super().__init__(dn,i)\n",
    "        self.__rollno = r\n",
    "        self.__name = n\n",
    "        self.__branch = b\n",
    "        \n",
    "    def set_data(self,r,n,b,dn,i) :\n",
    "        self.__rollno = r\n",
    "        self.__name = n \n",
    "        self.__branch = b\n",
    "        self.deptname = dn \n",
    "        self.deptid = i\n",
    "        \n",
    "    def display(self) : \n",
    "        print('Roll NO. : ',self.__rollno)\n",
    "        print('Name : ' ,self.__name)\n",
    "        print('Branch : ',self.__branch)\n",
    "        print('Department Name : ',self.deptname)\n",
    "        print('Department ID : ', self.deptid)\n",
    "        \n",
    "\n",
    "st1 = Student2(12345,'Vinayak','Mechanical','Mechanical Engineering','15ME037')\n",
    "st1.display()\n",
    "print('-' *120)\n",
    "\n",
    "st2 = Student2(98745,'Harsh','Computer','Computer Engineering','17CE025')\n",
    "st2.display()        \n",
    "        \n",
    "        \n",
    " \n",
    "    \n",
    "    \n",
    "        "
   ]
  },
  {
   "cell_type": "markdown",
   "id": "2bca9e88",
   "metadata": {},
   "source": [
    "# --------------------------------------------------------------------------------------------------------------"
   ]
  },
  {
   "cell_type": "markdown",
   "id": "18b5216d",
   "metadata": {},
   "source": [
    "### Q10. Create a class called Person. From this class, inherit another class called student. Assume suitable data members and member functions for these two classes. In both the classes, define the __str__ function and demonstrate method overriding."
   ]
  },
  {
   "cell_type": "code",
   "execution_count": 83,
   "id": "c92bbc55",
   "metadata": {},
   "outputs": [
    {
     "name": "stdout",
     "output_type": "stream",
     "text": [
      "Name  :  Vinayak\n",
      "City :  Pune\n",
      "Age :  22\n",
      "College :  COEP\n",
      "Branch :  Mechanical\n",
      "Collge ID :  15ME037\n",
      "Average package : 3 LPA \n",
      "------------------------------------------------------------------------------------------------------------------------\n",
      "Name  :  Rahul\n",
      "City :  Mumbai\n",
      "Age :  23\n",
      "College :  SPCE\n",
      "Branch :  Computer science\n",
      "Collge ID :  15CS874\n",
      "Average Package is : 10 LPA\n",
      "------------------------------------------------------------------------------------------------------------------------\n",
      "Name  :  Ramu\n",
      "City :  Shivapur\n",
      "Age :  32\n",
      "------------------------------------------------------------------------------------------------------------------------\n",
      "No of Students :  2\n",
      "------------------------------------------------------------------------------------------------------------------------\n",
      "Inside child class\n",
      "------------------------------------------------------------------------------------------------------------------------\n",
      "Inside parent class\n"
     ]
    },
    {
     "data": {
      "text/plain": [
       "'32'"
      ]
     },
     "execution_count": 83,
     "metadata": {},
     "output_type": "execute_result"
    }
   ],
   "source": [
    "class Person : \n",
    "    def __init__(self,name,city,age) : \n",
    "        self.name = name \n",
    "        self.city = city\n",
    "        self.age = age\n",
    "    def __str__(self) : \n",
    "        print('Inside parent class')\n",
    "        return str(self.age)\n",
    "    \n",
    "    def display(self) : \n",
    "        print('Name  : ',self.name)\n",
    "        print('City : ' ,self.city)\n",
    "        print('Age : ',self.age)\n",
    "        \n",
    "class Student3(Person) : \n",
    "    no_of_students = 0\n",
    "    def __init__(self,name,city,age,college,branch,ID): \n",
    "        super().__init__(name,city,age)\n",
    "        self.__college = college \n",
    "        self.__branch = branch \n",
    "        self.__ID = ID \n",
    "        Student3.no_of_students += 1 \n",
    "    def Average_package(self):\n",
    "        if self.__branch == 'Mechanical': \n",
    "            print('Average package : 3 LPA ') \n",
    "        elif self.__branch == 'Computer science': \n",
    "            print('Average Package is : 10 LPA')\n",
    "        elif self.__branch == 'Data Science ': \n",
    "            print('Average package is : 15 LPA')\n",
    "            \n",
    "    def __str__(self) :\n",
    "        print('Inside child class')\n",
    "        return str(self.age)\n",
    "    \n",
    "    def display(self) : \n",
    "        print('Name  : ',self.name)\n",
    "        print('City : ' ,self.city)\n",
    "        print('Age : ',self.age)\n",
    "        print('College : ',self.__college)\n",
    "        print('Branch : ', self.__branch)\n",
    "        print('Collge ID : ', self.__ID)\n",
    "        \n",
    "    \n",
    "            \n",
    "\n",
    "        \n",
    "st1 = Student3('Vinayak','Pune',22,'COEP','Mechanical','15ME037')\n",
    "st1.display()\n",
    "st1.Average_package()\n",
    "print('-' *120)\n",
    "\n",
    "st2 = Student3('Rahul','Mumbai',23,'SPCE','Computer science','15CS874')\n",
    "st2.display()\n",
    "st2.Average_package()\n",
    "print('-' *120)\n",
    "st3 = Person('Ramu','Shivapur',32)\n",
    "st3.display()\n",
    "\n",
    "print('-' *120)\n",
    "print('No of Students : ', Student3.no_of_students)\n",
    "\n",
    "print('-' *120)\n",
    "str(st2)\n",
    "\n",
    "print('-' *120)\n",
    "str(st3)\n",
    "\n",
    "\n",
    "        "
   ]
  },
  {
   "cell_type": "code",
   "execution_count": null,
   "id": "8e35994e",
   "metadata": {},
   "outputs": [],
   "source": []
  },
  {
   "cell_type": "code",
   "execution_count": null,
   "id": "1efc7236",
   "metadata": {},
   "outputs": [],
   "source": []
  },
  {
   "cell_type": "code",
   "execution_count": null,
   "id": "a795974d",
   "metadata": {},
   "outputs": [],
   "source": []
  },
  {
   "cell_type": "code",
   "execution_count": null,
   "id": "63dcb410",
   "metadata": {},
   "outputs": [],
   "source": []
  },
  {
   "cell_type": "code",
   "execution_count": null,
   "id": "53d90e73",
   "metadata": {},
   "outputs": [],
   "source": []
  },
  {
   "cell_type": "code",
   "execution_count": null,
   "id": "1b9d616e",
   "metadata": {},
   "outputs": [],
   "source": []
  },
  {
   "cell_type": "code",
   "execution_count": null,
   "id": "d8100403",
   "metadata": {},
   "outputs": [],
   "source": []
  },
  {
   "cell_type": "code",
   "execution_count": null,
   "id": "54000cf5",
   "metadata": {},
   "outputs": [],
   "source": []
  },
  {
   "cell_type": "code",
   "execution_count": null,
   "id": "c899872c",
   "metadata": {},
   "outputs": [],
   "source": []
  },
  {
   "cell_type": "code",
   "execution_count": null,
   "id": "e18ef7f1",
   "metadata": {},
   "outputs": [],
   "source": []
  },
  {
   "cell_type": "code",
   "execution_count": null,
   "id": "4ff65236",
   "metadata": {},
   "outputs": [],
   "source": []
  },
  {
   "cell_type": "code",
   "execution_count": null,
   "id": "20c52de2",
   "metadata": {},
   "outputs": [],
   "source": []
  },
  {
   "cell_type": "code",
   "execution_count": null,
   "id": "83375ca4",
   "metadata": {},
   "outputs": [],
   "source": []
  }
 ],
 "metadata": {
  "kernelspec": {
   "display_name": "Python 3 (ipykernel)",
   "language": "python",
   "name": "python3"
  },
  "language_info": {
   "codemirror_mode": {
    "name": "ipython",
    "version": 3
   },
   "file_extension": ".py",
   "mimetype": "text/x-python",
   "name": "python",
   "nbconvert_exporter": "python",
   "pygments_lexer": "ipython3",
   "version": "3.9.12"
  }
 },
 "nbformat": 4,
 "nbformat_minor": 5
}
