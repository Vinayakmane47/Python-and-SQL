{
 "cells": [
  {
   "cell_type": "markdown",
   "id": "67e6dd3e",
   "metadata": {},
   "source": [
    "# Week_04 Challenge "
   ]
  },
  {
   "cell_type": "markdown",
   "id": "a6aeb66d",
   "metadata": {},
   "source": [
    "### 1. A set contains names which begin either with A or with B. Write a program to separate the names into two sets, one containing names beginning with A and the other containing names beginning with B"
   ]
  },
  {
   "cell_type": "code",
   "execution_count": 11,
   "id": "b112890a",
   "metadata": {},
   "outputs": [
    {
     "name": "stdout",
     "output_type": "stream",
     "text": [
      "set containing names starting from A :  {'Anirudha', 'Akash', 'Ashutosh', 'Avinash', 'Ayush', 'Arnab'}\n",
      "set containing names starting from B :  {'Baburao', 'Byomkesh', 'Babu', 'Bhuvan', 'Bala', 'Bheem'}\n"
     ]
    }
   ],
   "source": [
    "\n",
    "# defining main set containing all names starting from A and B \n",
    "s1 = {'Akash','Avinash','Ayush','Ashutosh','Anirudha','Arnab','Babu','Baburao','Bala','Bheem','Bhuvan','Vinayak','Rahul','Byomkesh'}\n",
    "\n",
    "# Creating an empty set \n",
    "s2 = set()\n",
    "\n",
    "# For loop logic for names tarting with A \n",
    "for i in s1 :\n",
    "    if i[0] == 'A':\n",
    "        s2.add(i)\n",
    "\n",
    "print('set containing names starting from A : ',s2)\n",
    "\n",
    "# creating an empty set \n",
    "s3 = set()\n",
    "\n",
    "# For loop logic for names starting with B \n",
    "for j in s1 : \n",
    "    if j[0] =='B':\n",
    "        s3.add(j)\n",
    "    \n",
    "print('set containing names starting from B : ' ,s3)"
   ]
  },
  {
   "cell_type": "markdown",
   "id": "c00a09ee",
   "metadata": {},
   "source": [
    "# ---------------------------------------------------------------------------------------------------------------"
   ]
  },
  {
   "cell_type": "markdown",
   "id": "25f4aadf",
   "metadata": {},
   "source": [
    "### Q2. Create a list of tuples. Each tuple should contain an item and its price in float. Write a program to print each item and its price in a proper format"
   ]
  },
  {
   "cell_type": "code",
   "execution_count": 33,
   "id": "0c063df1",
   "metadata": {},
   "outputs": [
    {
     "name": "stdout",
     "output_type": "stream",
     "text": [
      "Apple   :  20.25 rupees\n",
      "Banana   :  15.32 rupees\n",
      "Pear   :  20.32 rupees\n",
      "water melon    :  30.25 rupees\n",
      "grapes   :  42.03 rupees\n"
     ]
    }
   ],
   "source": [
    "t1 = [('Apple',20.25) ,('Banana',15.32), ('Pear',20.32) , ('water melon ', 30.25) , ('grapes', 42.03)]\n",
    "\n",
    "for i in range(len(t1)) :\n",
    "    print(t1[i][0],'  :  ',t1[i][1] ,'rupees')\n"
   ]
  },
  {
   "cell_type": "markdown",
   "id": "dff089dc",
   "metadata": {},
   "source": [
    "# ---------------------------------------------------------------------------------------------------------------"
   ]
  },
  {
   "cell_type": "markdown",
   "id": "a572c185",
   "metadata": {},
   "source": [
    "### Q3. Write a program that reads integers from the user and stores them in a list. Your program should continue reading values until the user enters 0. Then it should display all of the values entered by the user (except for the 0) in order from smallest to largest, with one value appearing on each line. Use either the sort method or the sorted function to sort the list."
   ]
  },
  {
   "cell_type": "code",
   "execution_count": 54,
   "id": "138bdf95",
   "metadata": {},
   "outputs": [
    {
     "name": "stdout",
     "output_type": "stream",
     "text": [
      "Enter an integer value : \n",
      " 2\n",
      "Enter an integer value : \n",
      " 4\n",
      "Enter an integer value : \n",
      " 5\n",
      "Enter an integer value : \n",
      " 6\n",
      "Enter an integer value : \n",
      " 8\n",
      "Enter an integer value : \n",
      " 7\n",
      "Enter an integer value : \n",
      " 0\n",
      "Ascending order of integer : \n",
      "2\n",
      "4\n",
      "5\n",
      "6\n",
      "7\n",
      "8\n"
     ]
    }
   ],
   "source": [
    "l1 = list()\n",
    "\n",
    "n = 1 \n",
    "\n",
    "while n > 0 : \n",
    "    n = int(input('Enter an integer value : \\n '))\n",
    "    l1.append(n)\n",
    "\n",
    "l1.sort()\n",
    "\n",
    "print('Ascending order of integer : ')\n",
    "\n",
    "for i in l1 :\n",
    "    if i > 0 :\n",
    "        print(i)\n",
    "    "
   ]
  },
  {
   "cell_type": "markdown",
   "id": "2d132be7",
   "metadata": {},
   "source": [
    "# ---------------------------------------------------------------------------------------------------------------"
   ]
  },
  {
   "cell_type": "markdown",
   "id": "98197c2d",
   "metadata": {},
   "source": [
    "### Q4. Write a program to read a list of numbers from the user and remove the two largest and two smallest values from it. Display the list with the values removed, followed by the original list. Your program should generate an appropriate error message if the user enters less than 5 values."
   ]
  },
  {
   "cell_type": "code",
   "execution_count": 95,
   "id": "7a5cdb33",
   "metadata": {},
   "outputs": [
    {
     "name": "stdout",
     "output_type": "stream",
     "text": [
      "Enter the no. of elements in list  : 10\n",
      "Enter the value of integer : 12\n",
      "Enter the value of integer : 45\n",
      "Enter the value of integer : 78\n",
      "Enter the value of integer : 96\n",
      "Enter the value of integer : 52\n",
      "Enter the value of integer : 42\n",
      "Enter the value of integer : 85\n",
      "Enter the value of integer : 74\n",
      "Enter the value of integer : 56\n",
      "Enter the value of integer : 35\n",
      "original list :  [12, 45, 78, 96, 52, 42, 85, 74, 56, 35]\n",
      "list after removing values :  [45, 78, 52, 42, 74, 56]\n"
     ]
    }
   ],
   "source": [
    "\n",
    "# creating a empty list \n",
    "l1 = list()\n",
    "\n",
    "# specifying no. of elements in list \n",
    "n = int(input('Enter the no. of elements in list  : '))\n",
    "\n",
    "# if loop logic \n",
    "if n >= 5 :\n",
    "    for i in range(n) : \n",
    "        num = int(input('Enter the value of integer : '))\n",
    "        l1.append(num)\n",
    "\n",
    "else : \n",
    "    print('Error ! , please enter values of elements greater than 5 ')\n",
    "    \n",
    "    \n",
    "\n",
    "print('original list : ',l1)\n",
    "\n",
    "# Removing two greatest values from list \n",
    "for i in range(2):\n",
    "    l1.remove(max(l1))\n",
    "\n",
    "# removing two smallest values from list \n",
    "for i in range(2):\n",
    "    l1.remove(min(l1))\n",
    "    \n",
    "    \n",
    "# print final result \n",
    "print('list after removing values : ',l1)\n",
    "\n"
   ]
  },
  {
   "cell_type": "markdown",
   "id": "e55abe34",
   "metadata": {},
   "source": [
    "# ---------------------------------------------------------------------------------------------------------------\n"
   ]
  },
  {
   "cell_type": "markdown",
   "id": "f5870146",
   "metadata": {},
   "source": [
    "### Q5. In this exercise, you will create a program that reads words from the user until the user enters a blank line. After the user enters a blank line your program should display each word entered by the user exactly once."
   ]
  },
  {
   "cell_type": "code",
   "execution_count": 109,
   "id": "b835c770",
   "metadata": {},
   "outputs": [
    {
     "name": "stdout",
     "output_type": "stream",
     "text": [
      "Enter a word here : Vinayak\n",
      "Vinayak\n",
      "Enter a word here : Vilas\n",
      "Vilas\n",
      "Enter a word here : Mane \n",
      "Mane \n",
      "Enter a word here : -\n",
      "-\n",
      "Vinayak\n",
      "Vilas\n",
      "Mane \n"
     ]
    }
   ],
   "source": [
    "# creating an empty list \n",
    "l1 = []\n",
    "# initiateing n to be 1 \n",
    "n = 1\n",
    "\n",
    "# while loop logic \n",
    "while n > 0 : \n",
    "    str1 = input('Enter a word here : ')\n",
    "    print(str1)\n",
    "    l1.append(str1)\n",
    "    if str1[0] =='-' : \n",
    "        break\n",
    "\n",
    "# removing last added item     \n",
    "l1.pop()\n",
    "\n",
    "\n",
    "\n",
    "# printing each word \n",
    "\n",
    "for i in range(len(l1)) : \n",
    "    print(l1[i])\n",
    "\n",
    "\n",
    "\n",
    "\n"
   ]
  },
  {
   "cell_type": "markdown",
   "id": "1987b9b5",
   "metadata": {},
   "source": [
    "# ---------------------------------------------------------------------------------------------------------------"
   ]
  },
  {
   "cell_type": "markdown",
   "id": "1b35f657",
   "metadata": {},
   "source": [
    "### Q6. Write a program that reads numbers from the user until a 0 is entered. Your program should display the average of all of the values entered by the user. Then the program should display all of the below average values, followed by all of the average values (if any), followed by all of the above average values. An appropriate label should be displayed before each list of values"
   ]
  },
  {
   "cell_type": "code",
   "execution_count": 126,
   "id": "bec7eeea",
   "metadata": {},
   "outputs": [
    {
     "name": "stdout",
     "output_type": "stream",
     "text": [
      "Enter a value for average : 45\n",
      "Enter a value for average : 63\n",
      "Enter a value for average : 32\n",
      "Enter a value for average : 10\n",
      "Enter a value for average : 25\n",
      "Enter a value for average : 85\n",
      "Enter a value for average : 95\n",
      "Enter a value for average : 46\n",
      "Enter a value for average : 51\n",
      "Enter a value for average : 0\n",
      "[45, 63, 32, 10, 25, 85, 95, 46, 51]\n",
      "Below Average Numbers :  [45, 32, 10, 25, 46]\n",
      "Average is :  50.22222222222222\n",
      "Above Average Numbers :  [63, 85, 95, 51]\n"
     ]
    }
   ],
   "source": [
    "\n",
    "# Creating an empty list\n",
    "l1 = []\n",
    "\n",
    "n = 1 \n",
    "sum = 0 \n",
    "# While logic for average \n",
    "while n > 0 : \n",
    "    num = int(input('Enter a value for average : '))\n",
    "    if num == 0 : \n",
    "        break\n",
    "    sum += num\n",
    "    l1.append(num)\n",
    "    \n",
    "    \n",
    "a = len(l1) \n",
    "print(l1)\n",
    "Average = sum/a\n",
    "\n",
    "#  printing below Average values \n",
    "l3 = [ ]\n",
    "for i in range(len(l1)) : \n",
    "    if l1[i] < Average : \n",
    "        l3.append(l1[i]) \n",
    "print('Below Average Numbers : ',l3)\n",
    "\n",
    "\n",
    "print('Average is : ',Average)\n",
    "\n",
    "\n",
    "#  printing Above Average values \n",
    "l2 = [ ]\n",
    "for i in range(len(l1)) : \n",
    "    if l1[i] > Average : \n",
    "        l2.append(l1[i]) \n",
    "print('Above Average Numbers : ', l2)\n",
    "\n",
    "\n"
   ]
  },
  {
   "cell_type": "markdown",
   "id": "f52e14af",
   "metadata": {},
   "source": [
    "# ---------------------------------------------------------------------------------------------------------------"
   ]
  },
  {
   "cell_type": "markdown",
   "id": "46f15ba0",
   "metadata": {},
   "source": [
    "## Q7. Create a program that determines and displays the number of unique characters in a string entered by the user. For example, Hello World! has 9 unique characters while zzz has only one unique character. Use a dictionary to solve this problem."
   ]
  },
  {
   "cell_type": "code",
   "execution_count": 144,
   "id": "a3a311e0",
   "metadata": {
    "scrolled": true
   },
   "outputs": [
    {
     "name": "stdout",
     "output_type": "stream",
     "text": [
      "Enter a word : Hello World! \n",
      "Uiniqe characters of entered work are :  9\n"
     ]
    }
   ],
   "source": [
    "\n",
    "# Enter a word \n",
    "\n",
    "str1 = input('Enter a word : ')\n",
    "\n",
    "dict1 = dict.fromkeys(str1) \n",
    "print('Uiniqe characters of entered work are : ',len(dict1))"
   ]
  },
  {
   "cell_type": "markdown",
   "id": "4529c5fd",
   "metadata": {},
   "source": [
    "# ---------------------------------------------------------------------------------------------------------------"
   ]
  },
  {
   "cell_type": "markdown",
   "id": "9be0e647",
   "metadata": {},
   "source": [
    "### Q8. Two words are anagrams if they contain all of the same letters, but in a different order. For example, “evil” and “live” are anagrams because each contains one e, one i, one l, and one v. Create a program that reads two strings from the user, determines whether or not they are anagrams, and reports the result."
   ]
  },
  {
   "cell_type": "code",
   "execution_count": 164,
   "id": "4adf6376",
   "metadata": {},
   "outputs": [
    {
     "name": "stdout",
     "output_type": "stream",
     "text": [
      "Enter first word : heart\n",
      "['h', 'e', 'a', 'r', 't']\n",
      "Enter second word : earth\n",
      "['e', 'a', 'r', 't', 'h']\n",
      "['h', 'e', 'a', 'r', 't']\n",
      "The words heart and  earth are anagrams\n"
     ]
    }
   ],
   "source": [
    "# enter the first word\n",
    "str1 = input('Enter first word : ')\n",
    "set1 = list(str1)\n",
    "print(set1)\n",
    "str2 = input('Enter second word : ')\n",
    "set2 = list(str2)\n",
    "print(set2)\n",
    "\n",
    "set3 = []\n",
    "for i in range(len(set1)) : \n",
    "    for j in range(len(set2)) : \n",
    "        if set1[i] == set2[j]: \n",
    "            set3.append(set1[i])\n",
    "            break\n",
    "            print(i,'is identical')\n",
    "print(set3)\n",
    "if len(set3) == len(set1) or len(set3) == len(set2): \n",
    "    print('The words',str1,  'and ', str2, 'are anagrams')"
   ]
  },
  {
   "cell_type": "markdown",
   "id": "30933241",
   "metadata": {},
   "source": [
    "# --------------------------------------------------------------------------------------------------------------"
   ]
  },
  {
   "cell_type": "markdown",
   "id": "a3e8f205",
   "metadata": {},
   "source": [
    "### Q9. An integer, n, is said to be perfect when the sum of all of the proper divisors of n is equal to n. For example, 28 is a perfect number because its proper divisors are 1, 2, 4, 7 and 14, and 1 + 2 + 4 + 7 + 14 = 28. Write a program that determines whether or not a positive integer is perfect. Your program will accept a number from the user. If that number is a perfect number then your program will display true. Otherwise it will display false"
   ]
  },
  {
   "cell_type": "code",
   "execution_count": 183,
   "id": "7c9d024a",
   "metadata": {},
   "outputs": [
    {
     "name": "stdout",
     "output_type": "stream",
     "text": [
      "Enter a number : 496\n",
      "Perfect Number :  True\n"
     ]
    }
   ],
   "source": [
    "# Enter a number \n",
    "\n",
    "n = int(input('Enter a number : '))\n",
    "\n",
    "# creating an empty list\n",
    "list1 = []\n",
    "\n",
    "# for loop logic for ading numbers in list\n",
    "for i in range(1,n) : \n",
    "    if n % i == 0 : \n",
    "        list1.append(i)\n",
    "        \n",
    "# calculate sum of all numbers in list\n",
    "sum = 0        \n",
    "for i in list1 : \n",
    "    sum += i\n",
    "# checking the sum and entered number  and printing if number is perfect      \n",
    "if sum == n : \n",
    "    print('Perfect Number : ',True)\n",
    "else : \n",
    "    print('Perfect Number : ',False)\n",
    "        "
   ]
  },
  {
   "cell_type": "markdown",
   "id": "925d68cb",
   "metadata": {},
   "source": [
    "# ---------------------------------------------------------------------------------------------------------------"
   ]
  },
  {
   "cell_type": "markdown",
   "id": "6fb82f55",
   "metadata": {},
   "source": [
    "### Q10. Write a program that finds all of the keys in a dictionary that map to a specific value. The program will take the value to search for as its input. It will display a (possibly empty) list of keys from the dictionary that map to the provided value."
   ]
  },
  {
   "cell_type": "code",
   "execution_count": null,
   "id": "8add859d",
   "metadata": {},
   "outputs": [],
   "source": []
  },
  {
   "cell_type": "code",
   "execution_count": null,
   "id": "d363715c",
   "metadata": {},
   "outputs": [],
   "source": []
  },
  {
   "cell_type": "code",
   "execution_count": null,
   "id": "dd0b1d71",
   "metadata": {},
   "outputs": [],
   "source": []
  },
  {
   "cell_type": "code",
   "execution_count": 199,
   "id": "9b74e3e9",
   "metadata": {},
   "outputs": [
    {
     "name": "stdout",
     "output_type": "stream",
     "text": [
      "Enter the values here : banana\n",
      "Key for banana is :  Two\n",
      "Enter the values here : papaya\n",
      "Key for papaya is :  Six \n",
      "Enter the values here : pear\n",
      "Key for pear is :  Three\n",
      "Enter the values here : watermelon\n",
      "Key for watermelon is :  Four\n",
      "Enter the values here : apple\n",
      "Key for apple is :  one\n",
      "Enter the values here : ananas\n",
      "Key for ananas is :  Seven \n",
      "Enter the values here : chikoo\n",
      "Key for chikoo is :  Five\n",
      "Enter the values here : grapes\n",
      "Key for grapes is :  Eight\n"
     ]
    }
   ],
   "source": [
    "# Creating a dictionary \n",
    "\n",
    "dict1 = {'one': 'apple' ,'Two' : 'banana' ,'Three': 'pear' ,'Four': 'watermelon' ,'Five' : 'chikoo' ,'Six ' : 'papaya' ,'Seven ': 'ananas' , 'Eight': 'grapes'}\n",
    "\n",
    "# for loop logic to find keys from values \n",
    "for i in dict1 : \n",
    "    values = input('Enter the values here : ')\n",
    "    for j in dict1 : \n",
    "        if values == dict1[j] :\n",
    "            print('Key for',dict1[j], 'is : ',j)\n",
    "            break\n",
    "        \n",
    "print('Programme completed ')"
   ]
  },
  {
   "cell_type": "code",
   "execution_count": null,
   "id": "f6df155d",
   "metadata": {},
   "outputs": [],
   "source": []
  },
  {
   "cell_type": "code",
   "execution_count": null,
   "id": "836a659a",
   "metadata": {},
   "outputs": [],
   "source": []
  },
  {
   "cell_type": "code",
   "execution_count": null,
   "id": "406ce686",
   "metadata": {},
   "outputs": [],
   "source": []
  },
  {
   "cell_type": "code",
   "execution_count": null,
   "id": "76df3106",
   "metadata": {},
   "outputs": [],
   "source": []
  },
  {
   "cell_type": "code",
   "execution_count": null,
   "id": "7173bd7e",
   "metadata": {},
   "outputs": [],
   "source": []
  },
  {
   "cell_type": "code",
   "execution_count": null,
   "id": "16bc573e",
   "metadata": {},
   "outputs": [],
   "source": []
  },
  {
   "cell_type": "code",
   "execution_count": null,
   "id": "dccceacc",
   "metadata": {},
   "outputs": [],
   "source": []
  },
  {
   "cell_type": "code",
   "execution_count": null,
   "id": "9ae7d117",
   "metadata": {},
   "outputs": [],
   "source": []
  },
  {
   "cell_type": "code",
   "execution_count": null,
   "id": "255f9e71",
   "metadata": {},
   "outputs": [],
   "source": []
  },
  {
   "cell_type": "code",
   "execution_count": null,
   "id": "f25fb58f",
   "metadata": {},
   "outputs": [],
   "source": []
  }
 ],
 "metadata": {
  "kernelspec": {
   "display_name": "Python 3 (ipykernel)",
   "language": "python",
   "name": "python3"
  },
  "language_info": {
   "codemirror_mode": {
    "name": "ipython",
    "version": 3
   },
   "file_extension": ".py",
   "mimetype": "text/x-python",
   "name": "python",
   "nbconvert_exporter": "python",
   "pygments_lexer": "ipython3",
   "version": "3.9.12"
  }
 },
 "nbformat": 4,
 "nbformat_minor": 5
}
