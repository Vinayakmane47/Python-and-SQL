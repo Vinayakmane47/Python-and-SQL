{
 "cells": [
  {
   "cell_type": "markdown",
   "id": "587e1322",
   "metadata": {},
   "source": [
    "# Week_12 Challenge "
   ]
  },
  {
   "cell_type": "markdown",
   "id": "642e31dd",
   "metadata": {},
   "source": [
    "### Q1. Create a database called temp_db. Open a cursor to this newly created database."
   ]
  },
  {
   "cell_type": "code",
   "execution_count": 67,
   "id": "fae28408",
   "metadata": {},
   "outputs": [],
   "source": [
    "import sqlite3 "
   ]
  },
  {
   "cell_type": "code",
   "execution_count": 68,
   "id": "14d6b70c",
   "metadata": {},
   "outputs": [],
   "source": [
    "# creating a database connection \n",
    "con = sqlite3.connect(\"temp.db\")\n",
    "# Opening cursor \n",
    "cur = con.cursor()\n",
    "con.close()"
   ]
  },
  {
   "cell_type": "markdown",
   "id": "ed6388bb",
   "metadata": {},
   "source": [
    "# ---------------------------------------------------------------------------------------------------------------"
   ]
  },
  {
   "cell_type": "markdown",
   "id": "8e52d16a",
   "metadata": {},
   "source": [
    "### Q2. In the database temp_db created in Q.No.1, create a table called emp with the attributes empno, ename, salary and deptno\\"
   ]
  },
  {
   "cell_type": "code",
   "execution_count": 69,
   "id": "2249a7be",
   "metadata": {},
   "outputs": [],
   "source": [
    "# creating table attributes \n",
    "\n",
    "con = sqlite3.connect('temp.db')\n",
    "cur = con.cursor()\n",
    "cur.execute(\"CREATE TABLE IF NOT EXISTS emp (empno INT , ename TEXT , salary INT , deptno INT)\")\n",
    "con.close()"
   ]
  },
  {
   "cell_type": "markdown",
   "id": "062f730b",
   "metadata": {},
   "source": [
    "# ---------------------------------------------------------------------------------------------------------------"
   ]
  },
  {
   "cell_type": "markdown",
   "id": "debfa9a5",
   "metadata": {},
   "source": [
    "### Q3.In the emp table created in Q.No. 2, insert any five records."
   ]
  },
  {
   "cell_type": "code",
   "execution_count": 70,
   "id": "161d2412",
   "metadata": {},
   "outputs": [],
   "source": [
    "# inserting records into table( here we can only give 4 values because we have created table using 4 value previously)\n",
    "def insert(r,n,s,d) : \n",
    "    con = sqlite3.connect('temp.db')\n",
    "    cur = con.cursor()\n",
    "    cur.execute(\"INSERT INTO emp values (?,?,?,?)\",(r,n,s,d))\n",
    "    con.commit()\n",
    "    con.close()\n",
    "\n",
    "# inserting records \n",
    "\n",
    "insert(101,'Vinayak',25000,30)\n",
    "insert(102,'Ramesh',22000,3) # \n",
    "insert(104,'Ganesh',27000,2)\n",
    "insert(106,'Kamlesh',28000,10) #\n",
    "insert(107,'Mangesh',28000,10)  # \n"
   ]
  },
  {
   "cell_type": "markdown",
   "id": "d30e47be",
   "metadata": {},
   "source": [
    "# ---------------------------------------------------------------------------------------------------------------"
   ]
  },
  {
   "cell_type": "markdown",
   "id": "35daa3a5",
   "metadata": {},
   "source": [
    "### Q4. From the emp table, display all the records."
   ]
  },
  {
   "cell_type": "code",
   "execution_count": 71,
   "id": "67730944",
   "metadata": {},
   "outputs": [
    {
     "data": {
      "text/plain": [
       "[(101, 'Vinayak', 25000, 30),\n",
       " (102, 'Ramesh', 22000, 3),\n",
       " (104, 'Ganesh', 27000, 2),\n",
       " (106, 'Kamlesh', 28000, 10),\n",
       " (107, 'Mangesh', 28000, 10)]"
      ]
     },
     "execution_count": 71,
     "metadata": {},
     "output_type": "execute_result"
    }
   ],
   "source": [
    "def view() : \n",
    "    con = sqlite3.connect(\"temp.db\")\n",
    "    cur = con.cursor()\n",
    "    cur.execute(\"SELECT * FROM emp\")\n",
    "    data = cur.fetchall()\n",
    "    con.commit()\n",
    "    con.close()\n",
    "    return data\n",
    "view()"
   ]
  },
  {
   "cell_type": "markdown",
   "id": "ca65b90d",
   "metadata": {},
   "source": [
    "# ---------------------------------------------------------------------------------------------------------------"
   ]
  },
  {
   "cell_type": "markdown",
   "id": "0fcdc155",
   "metadata": {},
   "source": [
    "### Q5.From the emp table, display the records of only those employees whose salary is greater than 15000 and who belong to deptno 10"
   ]
  },
  {
   "cell_type": "code",
   "execution_count": 72,
   "id": "a75378bc",
   "metadata": {},
   "outputs": [
    {
     "name": "stdout",
     "output_type": "stream",
     "text": [
      "[(106, 'Kamlesh', 28000, 10), (107, 'Mangesh', 28000, 10)]\n"
     ]
    }
   ],
   "source": [
    "con = sqlite3.connect(\"temp.db\")\n",
    "cur = con.cursor()\n",
    "cur.execute('SELECT * FROM emp where salary > 1500 and deptno = 10 ')\n",
    "data = cur.fetchall()\n",
    "con.close()\n",
    "print(data)"
   ]
  },
  {
   "cell_type": "markdown",
   "id": "7df8bc77",
   "metadata": {},
   "source": [
    "# --------------------------------------------------------------------------------------------------------------"
   ]
  },
  {
   "cell_type": "markdown",
   "id": "78926cd1",
   "metadata": {},
   "source": [
    "### Q6.From the emp table, display the records of only those employees whose salary lies between 20000 and 25000 and who do not belong to the deptno 10"
   ]
  },
  {
   "cell_type": "code",
   "execution_count": 73,
   "id": "3e23172d",
   "metadata": {},
   "outputs": [
    {
     "name": "stdout",
     "output_type": "stream",
     "text": [
      "[(102, 'Ramesh', 22000, 3)]\n"
     ]
    }
   ],
   "source": [
    "con = sqlite3.connect('temp.db')\n",
    "cur = con.cursor()\n",
    "cur.execute('SELECT *FROM emp where salary > 20000 and salary < 25000 and deptno != 10')\n",
    "data = cur.fetchall()\n",
    "con.close()\n",
    "\n",
    "print(data)"
   ]
  },
  {
   "cell_type": "markdown",
   "id": "c5c67715",
   "metadata": {},
   "source": [
    "# -------------------------------------------------------------------------------------------------------------"
   ]
  },
  {
   "cell_type": "markdown",
   "id": "5023f4ca",
   "metadata": {},
   "source": [
    "### Q7. From the emp table, display the records of only those employees whose name begins with M."
   ]
  },
  {
   "cell_type": "code",
   "execution_count": 74,
   "id": "2f0cfa5b",
   "metadata": {},
   "outputs": [
    {
     "name": "stdout",
     "output_type": "stream",
     "text": [
      "[('Mangesh', 'M')]\n"
     ]
    }
   ],
   "source": [
    "con = sqlite3.connect('temp.db')\n",
    "cur = con.cursor()\n",
    "cur.execute(\"SELECT ename, substr(ename,1,1)   FROM emp where substr(ename,1,1) = 'M' \")\n",
    "data = cur.fetchall()\n",
    "con.close()\n",
    "print(data)"
   ]
  },
  {
   "cell_type": "markdown",
   "id": "7bec15a6",
   "metadata": {},
   "source": [
    "# ---------------------------------------------------------------------------------------------------------------"
   ]
  },
  {
   "cell_type": "markdown",
   "id": "2f3c652f",
   "metadata": {},
   "source": [
    "### Q8. In the emp table, delete the records of those employees who belong to deptno 30"
   ]
  },
  {
   "cell_type": "code",
   "execution_count": 75,
   "id": "49a5a2b4",
   "metadata": {},
   "outputs": [
    {
     "data": {
      "text/plain": [
       "[(102, 'Ramesh', 22000, 3),\n",
       " (104, 'Ganesh', 27000, 2),\n",
       " (106, 'Kamlesh', 28000, 10),\n",
       " (107, 'Mangesh', 28000, 10)]"
      ]
     },
     "execution_count": 75,
     "metadata": {},
     "output_type": "execute_result"
    }
   ],
   "source": [
    "# Here intentionally i didnt made delete function because function is not mentioned in question \n",
    "con = sqlite3.connect('temp.db')\n",
    "cur = con.cursor()\n",
    "cur.execute('DELETE FROM emp where deptno = 30 ')\n",
    "con.commit()\n",
    "con.close()\n",
    "\n",
    "view()"
   ]
  },
  {
   "cell_type": "markdown",
   "id": "ca5ef7ce",
   "metadata": {},
   "source": [
    "# ---------------------------------------------------------------------------------------------------------------"
   ]
  },
  {
   "cell_type": "markdown",
   "id": "8a7a961e",
   "metadata": {},
   "source": [
    "### Q9. In the emp table, update the salary of an employee by 10 % by accepting the empno from the user."
   ]
  },
  {
   "cell_type": "code",
   "execution_count": 76,
   "id": "787e24b7",
   "metadata": {},
   "outputs": [
    {
     "data": {
      "text/plain": [
       "[(102, 'Ramesh', 22000, 3),\n",
       " (104, 'Ganesh', 27000, 2),\n",
       " (106, 'Kamlesh', 30800.000000000004, 10),\n",
       " (107, 'Mangesh', 28000, 10)]"
      ]
     },
     "execution_count": 76,
     "metadata": {},
     "output_type": "execute_result"
    }
   ],
   "source": [
    "def update(en) : \n",
    "    con = sqlite3.connect('temp.db')\n",
    "    cur = con.cursor()\n",
    "    cur.execute('UPDATE emp SET salary = 1.1 * salary where empno = ? ',(en,))\n",
    "    con.commit()\n",
    "    con.close()\n",
    "    \n",
    "\n",
    "\n",
    "update(106)\n",
    "view()"
   ]
  },
  {
   "cell_type": "markdown",
   "id": "1dcfa662",
   "metadata": {},
   "source": [
    "# ---------------------------------------------------------------------------------------------------------------"
   ]
  },
  {
   "cell_type": "markdown",
   "id": "b9c7920f",
   "metadata": {},
   "source": [
    "### Q10. Delete the emp table."
   ]
  },
  {
   "cell_type": "code",
   "execution_count": 77,
   "id": "92886072",
   "metadata": {},
   "outputs": [
    {
     "ename": "OperationalError",
     "evalue": "no such table: emp",
     "output_type": "error",
     "traceback": [
      "\u001b[1;31m---------------------------------------------------------------------------\u001b[0m",
      "\u001b[1;31mOperationalError\u001b[0m                          Traceback (most recent call last)",
      "Input \u001b[1;32mIn [77]\u001b[0m, in \u001b[0;36m<cell line: 6>\u001b[1;34m()\u001b[0m\n\u001b[0;32m      3\u001b[0m cur\u001b[38;5;241m.\u001b[39mexecute(\u001b[38;5;124m'\u001b[39m\u001b[38;5;124mDROP TABLE emp\u001b[39m\u001b[38;5;124m'\u001b[39m)\n\u001b[0;32m      4\u001b[0m con\u001b[38;5;241m.\u001b[39mclose()\n\u001b[1;32m----> 6\u001b[0m \u001b[43mview\u001b[49m\u001b[43m(\u001b[49m\u001b[43m)\u001b[49m\n",
      "Input \u001b[1;32mIn [71]\u001b[0m, in \u001b[0;36mview\u001b[1;34m()\u001b[0m\n\u001b[0;32m      2\u001b[0m con \u001b[38;5;241m=\u001b[39m sqlite3\u001b[38;5;241m.\u001b[39mconnect(\u001b[38;5;124m\"\u001b[39m\u001b[38;5;124mtemp.db\u001b[39m\u001b[38;5;124m\"\u001b[39m)\n\u001b[0;32m      3\u001b[0m cur \u001b[38;5;241m=\u001b[39m con\u001b[38;5;241m.\u001b[39mcursor()\n\u001b[1;32m----> 4\u001b[0m \u001b[43mcur\u001b[49m\u001b[38;5;241;43m.\u001b[39;49m\u001b[43mexecute\u001b[49m\u001b[43m(\u001b[49m\u001b[38;5;124;43m\"\u001b[39;49m\u001b[38;5;124;43mSELECT * FROM emp\u001b[39;49m\u001b[38;5;124;43m\"\u001b[39;49m\u001b[43m)\u001b[49m\n\u001b[0;32m      5\u001b[0m data \u001b[38;5;241m=\u001b[39m cur\u001b[38;5;241m.\u001b[39mfetchall()\n\u001b[0;32m      6\u001b[0m con\u001b[38;5;241m.\u001b[39mcommit()\n",
      "\u001b[1;31mOperationalError\u001b[0m: no such table: emp"
     ]
    }
   ],
   "source": [
    "con = sqlite3.connect('temp.db')\n",
    "cur = con.cursor()\n",
    "cur.execute('DROP TABLE emp')\n",
    "con.close()\n",
    "\n",
    "view()\n"
   ]
  },
  {
   "cell_type": "code",
   "execution_count": null,
   "id": "7deb2ce9",
   "metadata": {},
   "outputs": [],
   "source": []
  },
  {
   "cell_type": "code",
   "execution_count": null,
   "id": "e33224fc",
   "metadata": {},
   "outputs": [],
   "source": []
  },
  {
   "cell_type": "code",
   "execution_count": 49,
   "id": "d35db1e5",
   "metadata": {},
   "outputs": [],
   "source": []
  },
  {
   "cell_type": "code",
   "execution_count": 22,
   "id": "c3b4e091",
   "metadata": {},
   "outputs": [],
   "source": []
  },
  {
   "cell_type": "code",
   "execution_count": 53,
   "id": "1b4b6e2a",
   "metadata": {},
   "outputs": [],
   "source": []
  },
  {
   "cell_type": "code",
   "execution_count": null,
   "id": "4a7f3abc",
   "metadata": {},
   "outputs": [],
   "source": []
  }
 ],
 "metadata": {
  "kernelspec": {
   "display_name": "Python 3 (ipykernel)",
   "language": "python",
   "name": "python3"
  },
  "language_info": {
   "codemirror_mode": {
    "name": "ipython",
    "version": 3
   },
   "file_extension": ".py",
   "mimetype": "text/x-python",
   "name": "python",
   "nbconvert_exporter": "python",
   "pygments_lexer": "ipython3",
   "version": "3.9.12"
  }
 },
 "nbformat": 4,
 "nbformat_minor": 5
}
