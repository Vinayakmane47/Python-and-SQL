{
 "cells": [
  {
   "cell_type": "markdown",
   "id": "538f1266",
   "metadata": {},
   "source": [
    "# Week 11 Challenge \n"
   ]
  },
  {
   "cell_type": "markdown",
   "id": "3dcc359f",
   "metadata": {},
   "source": [
    "### Q1.Create a simple tkinter application to display a welcome message in a window using the label widget."
   ]
  },
  {
   "cell_type": "code",
   "execution_count": 78,
   "id": "0c3285d6",
   "metadata": {},
   "outputs": [],
   "source": [
    "from tkinter import * \n",
    "\n",
    "window = Tk()\n",
    "\n",
    "label = Label(window, text = 'Welcome !', width = 20)\n",
    "label.grid(row=0, column = 0)\n",
    "window.mainloop()"
   ]
  },
  {
   "cell_type": "markdown",
   "id": "556f11c7",
   "metadata": {},
   "source": [
    "# -------------------------------------------------------------------------------------------------------------"
   ]
  },
  {
   "cell_type": "markdown",
   "id": "e2b0be3b",
   "metadata": {},
   "source": [
    "### Q2.Create tkinter application to accept user name in a text widget. Then display the user name with a welcome message in a label widget"
   ]
  },
  {
   "cell_type": "code",
   "execution_count": 109,
   "id": "93cf0a4e",
   "metadata": {},
   "outputs": [],
   "source": [
    "\n",
    "window = Tk()\n",
    "\n",
    "def text1() : \n",
    "    selection = 'Welcome ' + str(var1.get()) \n",
    "    label.config(text=selection)\n",
    "    \n",
    "    \n",
    "var1 = StringVar()\n",
    "t1 = Entry(window , textvariable = var1  )\n",
    "t1.grid(row=0, column=1)\n",
    "label = Label(window)\n",
    "label.grid(row=2)\n",
    "l1 = Label(window, text = 'Enter user name : ')\n",
    "l1.grid(row=0,column =0)\n",
    "b1 = Button(window, text = 'print' , command =text1)\n",
    "b1.grid(row=1, column=1)\n",
    "\n",
    "window.mainloop()"
   ]
  },
  {
   "cell_type": "markdown",
   "id": "39bedd50",
   "metadata": {},
   "source": [
    "# --------------------------------------------------------------------------------------------------------------"
   ]
  },
  {
   "cell_type": "markdown",
   "id": "ae914a6a",
   "metadata": {},
   "source": [
    "### Q3. Modify the tkinter application developed in Q.No. 2 so that it uses a grid layout"
   ]
  },
  {
   "cell_type": "code",
   "execution_count": null,
   "id": "6a51b62f",
   "metadata": {},
   "outputs": [],
   "source": [
    "\n",
    "window = Tk()\n",
    "\n",
    "def text1() : \n",
    "    selection = 'Welcome ' + str(var1.get()) \n",
    "    label.config(text=selection)\n",
    "    \n",
    "    \n",
    "var1 = StringVar()\n",
    "t1 = Entry(window , textvariable = var1  )\n",
    "t1.grid(row=0, column=1)\n",
    "label = Label(window)\n",
    "label.grid(row=2)\n",
    "l1 = Label(window, text = 'Enter user name : ')\n",
    "l1.grid(row=0,column =0)\n",
    "b1 = Button(window, text = 'print' , command =text1)\n",
    "b1.grid(row=1, column=1)\n",
    "\n",
    "window.mainloop()"
   ]
  },
  {
   "cell_type": "markdown",
   "id": "2db52493",
   "metadata": {},
   "source": [
    "# ---------------------------------------------------------------------------------------------------------------"
   ]
  },
  {
   "cell_type": "markdown",
   "id": "eea723eb",
   "metadata": {},
   "source": [
    "### Q4. Create a tkinter application to accept radius of a circle and display the area."
   ]
  },
  {
   "cell_type": "code",
   "execution_count": 62,
   "id": "4ae8c5fe",
   "metadata": {},
   "outputs": [],
   "source": [
    "window = Tk() \n",
    "\n",
    "def area() : \n",
    "    selection = 'Area  is  ' + str((float(var2.get()**2) * 3.14))\n",
    "    label.config(text = selection)\n",
    "    \n",
    "\n",
    "var2 = IntVar()   \n",
    "l1 = Label(window,text= 'Enter Radius : ')\n",
    "l1.grid(row=0, column=0)\n",
    "t1 = Entry(window, textvariable = var2)\n",
    "t1.grid(row=0, column = 1)\n",
    "label = Label(window)\n",
    "label.grid(row=2,column=1)\n",
    "b1 = Button(window, text = 'Calculate', command = area)\n",
    "b1.grid(row=1, column =1)\n",
    "window.mainloop()"
   ]
  },
  {
   "cell_type": "code",
   "execution_count": 65,
   "id": "dd961515",
   "metadata": {},
   "outputs": [
    {
     "name": "stdout",
     "output_type": "stream",
     "text": [
      "Programme finished\n",
      "Programme finished\n"
     ]
    }
   ],
   "source": [
    "window = Tk()\n",
    "\n",
    "def area() : \n",
    "    selection = float((var2.get()**2) * 3.14)\n",
    "    t1.delete('1.0',END)\n",
    "    t1.insert(END,selection)\n",
    "    print('Programme finished')\n",
    "    \n",
    "    \n",
    "var2 = IntVar()\n",
    "\n",
    "e1 = Entry(window,textvariable = var2)\n",
    "e1.grid(row=0, column =1 )\n",
    "l1 = Label(window, text = 'Radius : ')\n",
    "l1.grid(row=0, column =0 ,  sticky = W, pady = 2)\n",
    "\n",
    "t1 = Text(window, height = 1, width=15)\n",
    "t1.grid(row=1, column = 1)\n",
    "l2 = Label(window, text='Area : ')\n",
    "l2.grid(row = 1, column =0,  sticky = W, pady = 2)\n",
    "b1 = Button(window, text = 'Convert',command = area )\n",
    "b1.grid(row=2, column = 1, sticky = W, pady = 2)\n",
    "\n",
    "window.mainloop()"
   ]
  },
  {
   "cell_type": "markdown",
   "id": "9ecb23da",
   "metadata": {},
   "source": [
    "# --------------------------------------------------------------------------------------------------------------"
   ]
  },
  {
   "cell_type": "markdown",
   "id": "748d73af",
   "metadata": {},
   "source": [
    "### Q5.Create a tkinter application to accept temperature in Celsius and convert and display the temperature in Fahrenheit."
   ]
  },
  {
   "cell_type": "code",
   "execution_count": 66,
   "id": "e92a349e",
   "metadata": {},
   "outputs": [
    {
     "name": "stdout",
     "output_type": "stream",
     "text": [
      "Programme finished\n",
      "Programme finished\n",
      "Programme finished\n",
      "Programme finished\n"
     ]
    }
   ],
   "source": [
    "window = Tk()\n",
    "\n",
    "def conversion() : \n",
    "    text1 = float(var3.get()*1.8 + 32)\n",
    "    t1.delete('1.0',END)\n",
    "    t1.insert(END,text1)\n",
    "    print('Programme finished')\n",
    "    \n",
    "    \n",
    "var3 = IntVar()\n",
    "\n",
    "e1 = Entry(window,textvariable = var3)\n",
    "e1.grid(row=0, column =1 )\n",
    "l1 = Label(window, text = 'Celcius : ')\n",
    "l1.grid(row=0, column =0 ,  sticky = W, pady = 2)\n",
    "\n",
    "t1 = Text(window, height = 1, width=15)\n",
    "t1.grid(row=1, column = 1)\n",
    "l2 = Label(window, text='Fahrenheit : ')\n",
    "l2.grid(row = 1, column =0,  sticky = W, pady = 2)\n",
    "b1 = Button(window, text = 'Convert',command = conversion )\n",
    "b1.grid(row=2, column = 1, sticky = W, pady = 2)\n",
    "\n",
    "window.mainloop()"
   ]
  },
  {
   "cell_type": "markdown",
   "id": "b31dc9ab",
   "metadata": {},
   "source": [
    "# --------------------------------------------------------------------------------------------------------------"
   ]
  },
  {
   "cell_type": "markdown",
   "id": "4ec038c0",
   "metadata": {},
   "source": [
    "### Q6.Create a tkinter application to accept distance in kilometers and convert and display distance in miles"
   ]
  },
  {
   "cell_type": "code",
   "execution_count": 69,
   "id": "b12747df",
   "metadata": {},
   "outputs": [
    {
     "name": "stdout",
     "output_type": "stream",
     "text": [
      "Programme finished\n"
     ]
    }
   ],
   "source": [
    "window = Tk()\n",
    "\n",
    "def miles_conv() : \n",
    "    text2 = float(var4.get()*0.62137)\n",
    "    t1.delete('1.0',END)\n",
    "    t1.insert(END,text2)\n",
    "    print('Programme finished')\n",
    "    \n",
    "    \n",
    "var4 = IntVar()\n",
    "\n",
    "e1 = Entry(window,textvariable = var4)\n",
    "e1.grid(row=0, column =1 )\n",
    "l1 = Label(window, text = 'Kilometers : ')\n",
    "l1.grid(row=0, column =0 ,  sticky = W, pady = 2)\n",
    "\n",
    "t1 = Text(window, height = 1, width=15)\n",
    "t1.grid(row=1, column = 1)\n",
    "l2 = Label(window, text='Miles : ')\n",
    "l2.grid(row = 1, column =0,  sticky = W, pady = 2)\n",
    "b1 = Button(window, text = 'Convert',command = miles_conv )\n",
    "b1.grid(row=2, column = 1, sticky = W, pady = 2)\n",
    "\n",
    "window.mainloop()"
   ]
  },
  {
   "cell_type": "markdown",
   "id": "5b2fb6b6",
   "metadata": {},
   "source": [
    "# -------------------------------------------------------------------------------------------------------------"
   ]
  },
  {
   "cell_type": "markdown",
   "id": "f2720fa9",
   "metadata": {},
   "source": [
    "### Q.7 Create a tkinter application to display a menu with three items. A separate message should be display when each of the three menu items is clicked"
   ]
  },
  {
   "cell_type": "code",
   "execution_count": 71,
   "id": "3f84bd10",
   "metadata": {},
   "outputs": [
    {
     "name": "stdout",
     "output_type": "stream",
     "text": [
      "Hello and welcome to Tkinter\n"
     ]
    }
   ],
   "source": [
    "window = Tk()\n",
    "\n",
    "\n",
    "def hello(): \n",
    "    print('Hello and welcome to Tkinter')\n",
    "def save() : \n",
    "    print('please save your file')\n",
    "    \n",
    "def delete_1(): \n",
    "    print('Your File is deleted ')\n",
    "    \n",
    "\n",
    "bar = Menu(window)\n",
    "ribbon = Menu(bar)\n",
    "\n",
    "ribbon.add_command(label = 'Open' , command = hello)\n",
    "ribbon.add_separator()\n",
    "ribbon.add_command(label = 'Save as', command = save)\n",
    "ribbon.add_separator()\n",
    "ribbon.add_command(label = 'Delete', command = delete_1)\n",
    "ribbon.add_separator()\n",
    "\n",
    "bar.add_cascade(label = 'File', menu = ribbon)\n",
    "window.config(menu= bar)\n",
    "\n",
    "window.mainloop()"
   ]
  },
  {
   "cell_type": "markdown",
   "id": "555ec681",
   "metadata": {},
   "source": [
    "# ---------------------------------------------------------------------------------------------------------------"
   ]
  },
  {
   "cell_type": "markdown",
   "id": "e95ad77e",
   "metadata": {},
   "source": [
    "### Q8. Create a tkinter application to display a radio button group with three items. A separate message should be display when each of the three radio buttons items is clicked."
   ]
  },
  {
   "cell_type": "code",
   "execution_count": 75,
   "id": "c353f8ac",
   "metadata": {},
   "outputs": [
    {
     "name": "stdout",
     "output_type": "stream",
     "text": [
      "Hello and welcome to Tkinter\n",
      "Good Morning \n",
      "What is your good name ? \n"
     ]
    }
   ],
   "source": [
    "window = Tk()\n",
    "\n",
    "def hello1(): \n",
    "    print('Hello world ! ')\n",
    "def wishes() : \n",
    "    print('Good Morning ')\n",
    "def question() : \n",
    "    print('What is your good name ? ')\n",
    "    \n",
    "\n",
    "var5 = IntVar() \n",
    "\n",
    "    \n",
    "R1 = Radiobutton(window, text = 'Option 1' ,variable = var5, value = 1,  command = hello)\n",
    "R1.pack()\n",
    "R2 = Radiobutton(window, text = 'Option 2 ' ,variable = var5, value = 2 , command = wishes)\n",
    "R2.pack()\n",
    "R3 = Radiobutton(window, text = 'Option 3 ' , variable = var5, value = 3 ,   command = question)\n",
    "R3.pack()\n",
    "\n",
    "window.mainloop()"
   ]
  },
  {
   "cell_type": "markdown",
   "id": "ff4fd267",
   "metadata": {},
   "source": [
    "# ---------------------------------------------------------------------------------------------------------------"
   ]
  },
  {
   "cell_type": "markdown",
   "id": "f127a1a0",
   "metadata": {},
   "source": [
    "### Q9.Create a tkinter application to display three check boxes. A separate message should be display when each of the three check boxes items is selected"
   ]
  },
  {
   "cell_type": "code",
   "execution_count": 94,
   "id": "b2f1a607",
   "metadata": {},
   "outputs": [
    {
     "name": "stdout",
     "output_type": "stream",
     "text": [
      "Hello \n",
      "Welcome to week11 challenge \n",
      "Good Bye \n"
     ]
    }
   ],
   "source": [
    "window = Tk() \n",
    "\n",
    "\n",
    "def hello() :\n",
    "    if (CheckVar1.get() == 1) : \n",
    "        print('Hello ')\n",
    "def welcome() : \n",
    "    if (CheckVar2.get() == 1) :\n",
    "        print('Welcome to week11 challenge ')\n",
    "    \n",
    "def bye() :\n",
    "    if (CheckVar3.get() == 1) : \n",
    "        print('Good Bye ')\n",
    "\n",
    "        \n",
    "        \n",
    "CheckVar1 = IntVar()\n",
    "CheckVar2 = IntVar()\n",
    "CheckVar3 = IntVar()\n",
    "\n",
    "C1 = Checkbutton(window, text = 'Hello' , variable = CheckVar1, onvalue = 1, offvalue = 0, height = 2 , width = 10, command = hello)\n",
    "C2 = Checkbutton(window ,text = 'Welcome ', variable = CheckVar2, onvalue =1 , offvalue = 0, height =2 , width = 10 , command = welcome)\n",
    "C3 = Checkbutton(window, text = 'Bye', variable = CheckVar3, onvalue = 1, offvalue = 0, height = 2, width =10 , command = bye)\n",
    "\n",
    "C1.pack()\n",
    "C2.pack()\n",
    "C3.pack()\n",
    "\n",
    "window.mainloop()"
   ]
  },
  {
   "cell_type": "markdown",
   "id": "cf18e152",
   "metadata": {},
   "source": [
    "# ---------------------------------------------------------------------------------------------------------------"
   ]
  },
  {
   "cell_type": "markdown",
   "id": "66f87dfa",
   "metadata": {},
   "source": [
    "### Q10. Create a tkinter application which contains a list box with five items. Whenever an item in the list box is selected, the item’s text should be displayed"
   ]
  },
  {
   "cell_type": "code",
   "execution_count": 104,
   "id": "d3e23f40",
   "metadata": {},
   "outputs": [],
   "source": [
    "window = Tk()\n",
    "\n",
    "def listbox1() : \n",
    "    print(l1.get(ACTIVE))\n",
    "    \n",
    "    \n",
    "    \n",
    "l1 = Listbox(window, height = 5) \n",
    "l1.grid(row=0, column = 0)\n",
    "\n",
    "my_list = ['python', 'CFD', 'Robotics', 'AI','FEA']\n",
    "\n",
    "for i in my_list : \n",
    "    l1.insert(END,i)\n",
    "    \n",
    "b1 = Button(window , text = 'Show', width = 10 , bg = 'Violet' , command = listbox1)\n",
    "b1.grid(row=0, column = 1)\n",
    "window.mainloop()\n",
    "    "
   ]
  },
  {
   "cell_type": "code",
   "execution_count": null,
   "id": "88fc3ab1",
   "metadata": {},
   "outputs": [],
   "source": []
  },
  {
   "cell_type": "code",
   "execution_count": null,
   "id": "96aa8799",
   "metadata": {},
   "outputs": [],
   "source": []
  },
  {
   "cell_type": "code",
   "execution_count": null,
   "id": "e0ab7e60",
   "metadata": {},
   "outputs": [],
   "source": []
  },
  {
   "cell_type": "code",
   "execution_count": null,
   "id": "3340ab46",
   "metadata": {},
   "outputs": [],
   "source": []
  },
  {
   "cell_type": "code",
   "execution_count": null,
   "id": "6def5238",
   "metadata": {},
   "outputs": [],
   "source": []
  },
  {
   "cell_type": "code",
   "execution_count": null,
   "id": "e759cc73",
   "metadata": {},
   "outputs": [],
   "source": []
  },
  {
   "cell_type": "code",
   "execution_count": null,
   "id": "b06836ed",
   "metadata": {},
   "outputs": [],
   "source": []
  },
  {
   "cell_type": "code",
   "execution_count": null,
   "id": "5967171e",
   "metadata": {},
   "outputs": [],
   "source": []
  },
  {
   "cell_type": "code",
   "execution_count": null,
   "id": "c9147869",
   "metadata": {},
   "outputs": [],
   "source": []
  }
 ],
 "metadata": {
  "kernelspec": {
   "display_name": "Python 3 (ipykernel)",
   "language": "python",
   "name": "python3"
  },
  "language_info": {
   "codemirror_mode": {
    "name": "ipython",
    "version": 3
   },
   "file_extension": ".py",
   "mimetype": "text/x-python",
   "name": "python",
   "nbconvert_exporter": "python",
   "pygments_lexer": "ipython3",
   "version": "3.9.12"
  }
 },
 "nbformat": 4,
 "nbformat_minor": 5
}
