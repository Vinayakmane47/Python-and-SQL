{
 "cells": [
  {
   "cell_type": "markdown",
   "id": "824a646a",
   "metadata": {},
   "source": [
    "# Week_05 Challenge : "
   ]
  },
  {
   "cell_type": "markdown",
   "id": "1d3c2f7d",
   "metadata": {},
   "source": [
    "### Q1.Write a function that takes the lengths of the two shorter sides of a right triangle as its parameters. Return the hypotenuse of the triangle, computed using Pythagorean theorem, as the function’s result."
   ]
  },
  {
   "cell_type": "code",
   "execution_count": 8,
   "id": "084c2998",
   "metadata": {},
   "outputs": [
    {
     "name": "stdout",
     "output_type": "stream",
     "text": [
      "Length of hypotenuse is :  10.0\n"
     ]
    }
   ],
   "source": [
    "\n",
    "import math \n",
    "def hypo(side1,side2) : \n",
    "    hypo1 = side1**2 + side2**2 \n",
    "    hypo2 = math.sqrt(hypo1)\n",
    "    print('Length of hypotenuse is : ' ,hypo2)\n",
    "    \n",
    "hypo(6,8)\n",
    "\n",
    "    \n",
    "\n",
    "    \n"
   ]
  },
  {
   "cell_type": "markdown",
   "id": "013bf7bb",
   "metadata": {},
   "source": [
    "# ---------------------------------------------------------------------------------------------------------------"
   ]
  },
  {
   "cell_type": "markdown",
   "id": "3eef3fc8",
   "metadata": {},
   "source": [
    "### Q.2 An online retailer provides express shipping for many of its items at a rate of $10.95 for the first item, and $2.95 for each subsequent item. Write a function that takes the number of items in the order as its only parameter. Return the shipping charge for the order as the function’s result. Include a main program that reads the number of items purchased from the user and displays the shipping charge."
   ]
  },
  {
   "cell_type": "code",
   "execution_count": 24,
   "id": "30f55993",
   "metadata": {},
   "outputs": [
    {
     "name": "stdout",
     "output_type": "stream",
     "text": [
      "1 : shipping charge is 10.95\n",
      "2 : shipping charge is 2.95\n",
      "3 : shipping charge is 2.95\n",
      "4 : shipping charge is 2.95\n",
      "5 : shipping charge is 2.95\n"
     ]
    }
   ],
   "source": [
    "\n",
    "# creating a function \n",
    "def shipping(*args): \n",
    "  \n",
    "    for i in args :\n",
    "        if i == args[0] : \n",
    "            print(args[0], ': shipping charge is 10.95')\n",
    "        else : \n",
    "            print(i,': shipping charge is 2.95')\n",
    "\n",
    "# Calling a function \n",
    "shipping(1,2,3,4,5)"
   ]
  },
  {
   "cell_type": "markdown",
   "id": "9872726e",
   "metadata": {},
   "source": [
    "# ---------------------------------------------------------------------------------------------------------------"
   ]
  },
  {
   "cell_type": "markdown",
   "id": "14923643",
   "metadata": {},
   "source": [
    "### Q.3Write a function that takes three numbers as parameters, and returns the median value of those parameters as its result. Include a main program that reads three values from the user and displays their median"
   ]
  },
  {
   "cell_type": "code",
   "execution_count": 28,
   "id": "521b8bdb",
   "metadata": {},
   "outputs": [
    {
     "name": "stdout",
     "output_type": "stream",
     "text": [
      "The median is :  63\n"
     ]
    }
   ],
   "source": [
    "\n",
    "# creating a function for calculating a median \n",
    "def median(a,b,c) : \n",
    "    if a > b : \n",
    "        if a > c and b > c : \n",
    "            print('The median is : ',b)\n",
    "            \n",
    "        else : \n",
    "            print('The median is : ',c )\n",
    "            \n",
    "    elif  b > c :\n",
    "        print('The median is : ',c)\n",
    "    else : \n",
    "        print('The median is : ',b)\n",
    "        \n",
    "median(10,85,63)\n",
    "            \n",
    "       \n",
    "            \n",
    "       \n",
    "            \n",
    "       "
   ]
  },
  {
   "cell_type": "markdown",
   "id": "e84b8e23",
   "metadata": {},
   "source": [
    "# ---------------------------------------------------------------------------------------------------------------"
   ]
  },
  {
   "cell_type": "markdown",
   "id": "23a4b9f0",
   "metadata": {},
   "source": [
    "### Q4. Write a function that determines whether or not three lengths can form a triangle. The function will take 3 parameters and return a Boolean result. In addition, write a program that reads 3 lengths from the user and demonstrates the behavior of this function. In general, if any one length is greater than or equal to the sum of the other two then the lengths cannot be used to form a triangle. Otherwise they can form a triangle."
   ]
  },
  {
   "cell_type": "code",
   "execution_count": 2,
   "id": "4380cb26",
   "metadata": {},
   "outputs": [
    {
     "name": "stdout",
     "output_type": "stream",
     "text": [
      "The lengths ,4,5,6, can form a traingle\n",
      "----------------------------------------------------------------------------------------------------------------------\n",
      "Enter first length : 4\n",
      "Enter second length : 5\n",
      "Enter third length : 6\n",
      "The lengths ,4,5,6, can form a traingle\n"
     ]
    }
   ],
   "source": [
    "def triangle(a,b,c) : \n",
    "    if a >= b + c : \n",
    "        print('The lengths ',a, b,c, ' cannot form a traingle',sep = ',') \n",
    "        \n",
    "    elif b >= a + c : \n",
    "        print('The lengths ',a,b,c, ' cannot form a traingle',sep=',')\n",
    "        \n",
    "    elif c >= a + b : \n",
    "        print('The lengths ',a,b,c, ' cannot form a traingle',sep=',')\n",
    "        \n",
    "    else : \n",
    "        print('The lengths ',a,b,c, ' can form a traingle',sep = ',')\n",
    "        \n",
    "triangle(4,5,6)\n",
    "\n",
    "print('----------------------------------------------------------------------------------------------------------------------')\n",
    "\n",
    "\n",
    "# programme \n",
    "l1 = int(input('Enter first length : '))\n",
    "l2 = int(input('Enter second length : '))\n",
    "l3 = int(input('Enter third length : '))\n",
    "\n",
    "if l1 >= l2 + l3 : \n",
    "    print('The lengths ',l1, l2,l3, ' cannot form a traingle',sep = ',') \n",
    "        \n",
    "elif l2 >= l1 + l3 : \n",
    "    print('The lengths ',l1,l2,l3, ' cannot form a traingle',sep=',')\n",
    "        \n",
    "elif l3 >= l1 + l2 : \n",
    "    print('The lengths ',l1,l2,l3, ' cannot form a traingle',sep=',')\n",
    "        \n",
    "else : \n",
    "    print('The lengths ',l1,l2,l3, ' can form a traingle',sep = ',')\n",
    "\n",
    "        \n",
    "        "
   ]
  },
  {
   "cell_type": "markdown",
   "id": "06fa46be",
   "metadata": {},
   "source": [
    "# ---------------------------------------------------------------------------------------------------------------"
   ]
  },
  {
   "cell_type": "markdown",
   "id": "05acc22a",
   "metadata": {},
   "source": [
    "### Q5.In this exercise you will write a function named isInteger that determines whether or not the characters in a string represent a valid integer. When determining if a string represents an integer you should ignore any leading or trailing white space. Once this white space is ignored, a string represents an integer if its length is at least 1 and it only contains digits, or if its first character is either + or - and the first character is followed by one or more characters, all of which are digits. Write a main program that reads a string from the user and reports whether or not it represents an integer."
   ]
  },
  {
   "cell_type": "code",
   "execution_count": 165,
   "id": "1b294e7a",
   "metadata": {},
   "outputs": [
    {
     "name": "stdout",
     "output_type": "stream",
     "text": [
      "Enter your string :   -7654\n",
      "The string    -7654  is an integer : True\n"
     ]
    }
   ],
   "source": [
    "\n",
    "\n",
    "def isinteger(str1) : \n",
    "    str1.strip()\n",
    "    \n",
    "    for i in range(len(str1)) :\n",
    "        if str1[i].isalpha():\n",
    "            return False\n",
    "    else : \n",
    "        return True\n",
    "        \n",
    "    \n",
    "         \n",
    "str1 = input('Enter your string : ')    \n",
    "print('The string ',str1,' is an integer :',isinteger(str1))\n"
   ]
  },
  {
   "cell_type": "markdown",
   "id": "45f4a7d4",
   "metadata": {},
   "source": [
    "# ---------------------------------------------------------------------------------------------------------------"
   ]
  },
  {
   "cell_type": "markdown",
   "id": "3fce6c3d",
   "metadata": {},
   "source": [
    "### Q.6In this exercise you will create a function named nextPrime that finds and returns the first prime number larger than some integer, n. The value of n will be passed to the function as its only parameter. Include a main program that reads an integer from the user and displays the first prime number larger than the entered valu"
   ]
  },
  {
   "cell_type": "code",
   "execution_count": 104,
   "id": "e26aaafc",
   "metadata": {},
   "outputs": [
    {
     "name": "stdout",
     "output_type": "stream",
     "text": [
      "Next prime number after number 9 is : 11\n",
      "----------------------------------------------------------------------------------------------------------------------\n",
      "Enter value of integer : 98\n",
      "Next prime number after number 98 is : 101\n"
     ]
    }
   ],
   "source": [
    "\n",
    "\n",
    "# Function \n",
    "def nextPrime(n) : \n",
    "    \n",
    "    n = n + 1 \n",
    "    prime = n\n",
    "\n",
    "    while True : \n",
    "\n",
    "        for i in range(2, prime):  \n",
    "            if prime % i == 0 :\n",
    "                break\n",
    "            \n",
    "        else : \n",
    "            print('Next prime number after number',n-1, 'is :',prime)\n",
    "            break\n",
    "        prime += 1\n",
    "            \n",
    "            \n",
    "            \n",
    "# Calling a function \n",
    "\n",
    "nextPrime(9)\n",
    "\n",
    "print('----------------------------------------------------------------------------------------------------------------------')\n",
    "# Main programme \n",
    "\n",
    "\n",
    "n = int(input('Enter value of integer : '))    \n",
    "n = n + 1 \n",
    "prime = n\n",
    "\n",
    "while True : \n",
    "\n",
    "    for i in range(2, prime):  \n",
    "        if prime % i == 0 :\n",
    "            break\n",
    "            \n",
    "    else : \n",
    "        print('Next prime number after number',n-1, 'is :',prime)\n",
    "        break\n",
    "    prime += 1\n",
    "            \n",
    "\n",
    "\n",
    "    \n",
    "    \n",
    "   \n",
    "    \n",
    "\n",
    "   \n",
    "\n",
    "    "
   ]
  },
  {
   "cell_type": "markdown",
   "id": "5496a309",
   "metadata": {},
   "source": [
    "# ---------------------------------------------------------------------------------------------------------------"
   ]
  },
  {
   "cell_type": "markdown",
   "id": "29f2a93d",
   "metadata": {},
   "source": [
    "### Q7.In this exercise you will write a function that determines whether or not a password is good. We will define a good password to be a one that is at least 8 characters long and contains at least one uppercase letter, at least one lowercase letter, and at least one number. Your function should return true if the password passed to it as its only parameter is good. Otherwise it should return false. Include a main program that reads a password from the user and reports whether or not it is good"
   ]
  },
  {
   "cell_type": "code",
   "execution_count": 25,
   "id": "9c6e402b",
   "metadata": {},
   "outputs": [
    {
     "name": "stdout",
     "output_type": "stream",
     "text": [
      "Password is good :  True\n",
      "----------------------------------------------------------------------------------------------------------------------\n",
      "Enter the password : vhdfuytfskjW123\n",
      "True\n"
     ]
    }
   ],
   "source": [
    "\n",
    "# Defining a function : \n",
    "\n",
    "def password1(str1):\n",
    " \n",
    "    list1 = []\n",
    "\n",
    "    if len(str1) >= 8 : \n",
    "        for i in str1 : \n",
    "            if i.isupper(): \n",
    "                list1.append('1')\n",
    "                break\n",
    "            \n",
    "        for i in str1 : \n",
    "            if i.islower():\n",
    "                list1.append('2')\n",
    "                break\n",
    "            \n",
    "        for i in str1 : \n",
    "            if i.isnumeric():\n",
    "                list1.append('3')\n",
    "                break\n",
    "            \n",
    "            \n",
    "        if len(list1) >=  3: \n",
    "            print('Password is good : ',True)\n",
    "        \n",
    "\n",
    "        else : \n",
    "            if len(list1) < 3: \n",
    "                print('Password is good : ',False)\n",
    "            \n",
    "    else : \n",
    "        print('Passwor is good : ',False)\n",
    "        \n",
    "        \n",
    "# Calling a Function         \n",
    "password1('Vinayakmane12345')\n",
    "\n",
    "print('----------------------------------------------------------------------------------------------------------------------')\n",
    "\n",
    "# Main programme \n",
    "\n",
    "\n",
    "str1 = input('Enter the password : ')\n",
    " \n",
    "list1 = []\n",
    "\n",
    "if len(str1) >= 8 : \n",
    "    for i in str1 : \n",
    "        if i.isupper(): \n",
    "            list1.append('1')\n",
    "            break\n",
    "            \n",
    "    for i in str1 : \n",
    "        if i.islower():\n",
    "            list1.append('2')\n",
    "            break\n",
    "            \n",
    "    for i in str1 : \n",
    "        if i.isnumeric():\n",
    "            list1.append('3')\n",
    "            break\n",
    "            \n",
    "            \n",
    "    if len(list1) >=  3: \n",
    "        print(True)\n",
    "        \n",
    "\n",
    "    else : \n",
    "        if len(list1) < 3: \n",
    "            print(False)\n",
    "            \n",
    "else : \n",
    "    print(False)\n",
    "\n",
    "\n",
    "                  \n",
    "        "
   ]
  },
  {
   "cell_type": "code",
   "execution_count": null,
   "id": "61e51d45",
   "metadata": {},
   "outputs": [],
   "source": []
  },
  {
   "cell_type": "code",
   "execution_count": null,
   "id": "a12aac7d",
   "metadata": {},
   "outputs": [],
   "source": []
  },
  {
   "cell_type": "markdown",
   "id": "0905065f",
   "metadata": {},
   "source": [
    "### Q8.Write a program that reads values from the user until a blank line is entered. Display the total of all of the values entered by the user (or 0.0 if the first value entered is a blank line). Complete this task using recursion. Your program may not use any loops. The body of your recursive function will need to read one value from the user, and then determine whether or not to make a recursive call. Your function does not need to take any parameters, but it will need to return a numeric result"
   ]
  },
  {
   "cell_type": "code",
   "execution_count": 96,
   "id": "f5f4d077",
   "metadata": {},
   "outputs": [
    {
     "name": "stdout",
     "output_type": "stream",
     "text": [
      "Enter a number : 5\n",
      "Enter number : 6\n",
      "Enter number : 7\n",
      "Enter number : 8\n",
      "Enter number : -\n",
      "programme stopped :\n",
      "-------------------------------------------------------------------------------------------------------------\n",
      "The sum of all numbers entered is :  21\n"
     ]
    }
   ],
   "source": [
    "\n",
    "def sum(n) : \n",
    "    n = input('Enter number : ')\n",
    "    if n == '-':\n",
    "        print('programme stopped :')\n",
    "        print('-------------------------------------------------------------------------------------------------------------')\n",
    "        return 0\n",
    "    else:\n",
    "        n = int(n)\n",
    "        return n + sum(n)\n",
    "\n",
    "# set value of n initially to be 1 \n",
    "\n",
    "print('The sum of all numbers entered is : ',sum(1))\n",
    "    \n",
    "    "
   ]
  },
  {
   "cell_type": "code",
   "execution_count": null,
   "id": "6a36383b",
   "metadata": {},
   "outputs": [],
   "source": [
    "\n"
   ]
  },
  {
   "cell_type": "code",
   "execution_count": null,
   "id": "d02e72fb",
   "metadata": {},
   "outputs": [],
   "source": []
  },
  {
   "cell_type": "code",
   "execution_count": null,
   "id": "5e490e70",
   "metadata": {},
   "outputs": [],
   "source": []
  },
  {
   "cell_type": "markdown",
   "id": "4b234939",
   "metadata": {},
   "source": [
    "### Q9. In this exercise you will write a recursive function that determines whether or not a string is a palindrome. The empty string is a palindrome, as is any string containing only one character. Any longer string is a palindrome if its first and last characters match, and if the string formed by removing the first and last characters is also a palindrome. Write a main program that reads a string from the user. Use your recursive function to determine whether or not the string is a palindrome. Then display an appropriate message for the user."
   ]
  },
  {
   "cell_type": "code",
   "execution_count": 3,
   "id": "ae95a71b",
   "metadata": {},
   "outputs": [
    {
     "name": "stdout",
     "output_type": "stream",
     "text": [
      "Enter a word : lol\n",
      "The word lol is Palindrome :  True\n"
     ]
    }
   ],
   "source": [
    "def palindrome(str1) : \n",
    "    if len(str1) == 1 :\n",
    "        return True\n",
    "    if str1[0] != str1[-1]: \n",
    "        return False \n",
    "    return palindrome(str1[1:-1])\n",
    "\n",
    "\n",
    "\n",
    "word = input('Enter a word : ')   \n",
    "print('The word',word, 'is Palindrome : ', palindrome(word))  "
   ]
  },
  {
   "cell_type": "markdown",
   "id": "15d642a6",
   "metadata": {},
   "source": [
    "# --------------------------------------------------------------------------------------------------------------"
   ]
  },
  {
   "cell_type": "markdown",
   "id": "94199cf0",
   "metadata": {},
   "source": [
    "### Q10. Write a function that takes a list of strings as its only parameter. Your function should return a string that contains all of the items in the list formatted in the manner described previously as its only result. While the examples shown previously only include lists containing four elements or less, your function should behave correctly for lists of any length. Include a main program that reads several items from the user, formats them by calling your function, and then displays the result returned by the function. Consider the following four lists:\n",
    "\n",
    "     1. apples\n",
    "\n",
    "     2.apples and oranges\n",
    "\n",
    "    3.apples, oranges and bananas\n",
    "\n",
    "    4.apples, oranges, bananas and lemons"
   ]
  },
  {
   "cell_type": "code",
   "execution_count": 97,
   "id": "91c5f0ae",
   "metadata": {},
   "outputs": [
    {
     "name": "stdout",
     "output_type": "stream",
     "text": [
      "apple, banana, pear, grapes, ice, samosa and kachori\n"
     ]
    }
   ],
   "source": [
    "\n",
    "# Defining a function \n",
    "def listing(list1):\n",
    "\n",
    "    \n",
    "    s = list1[0:-1]\n",
    "    listtostr = ', '.join(map(str, s))\n",
    "    \n",
    "    print(listtostr,'and',list1[-1])\n",
    "\n",
    "list2 = ['apple','banana','pear','grapes' ,'ice','samosa','kachori'] \n",
    "\n",
    "# Calling a function\n",
    "listing(list2)\n",
    "    "
   ]
  },
  {
   "cell_type": "code",
   "execution_count": null,
   "id": "5bf37ad3",
   "metadata": {},
   "outputs": [],
   "source": []
  },
  {
   "cell_type": "code",
   "execution_count": null,
   "id": "269a2f3b",
   "metadata": {},
   "outputs": [],
   "source": []
  },
  {
   "cell_type": "code",
   "execution_count": null,
   "id": "a0e3354d",
   "metadata": {},
   "outputs": [],
   "source": []
  },
  {
   "cell_type": "code",
   "execution_count": null,
   "id": "663062c1",
   "metadata": {},
   "outputs": [],
   "source": []
  },
  {
   "cell_type": "code",
   "execution_count": null,
   "id": "286f0840",
   "metadata": {},
   "outputs": [],
   "source": []
  },
  {
   "cell_type": "code",
   "execution_count": null,
   "id": "82abe153",
   "metadata": {},
   "outputs": [],
   "source": []
  },
  {
   "cell_type": "code",
   "execution_count": null,
   "id": "0f143ca7",
   "metadata": {},
   "outputs": [],
   "source": []
  },
  {
   "cell_type": "code",
   "execution_count": null,
   "id": "600f4121",
   "metadata": {},
   "outputs": [],
   "source": []
  }
 ],
 "metadata": {
  "kernelspec": {
   "display_name": "Python 3 (ipykernel)",
   "language": "python",
   "name": "python3"
  },
  "language_info": {
   "codemirror_mode": {
    "name": "ipython",
    "version": 3
   },
   "file_extension": ".py",
   "mimetype": "text/x-python",
   "name": "python",
   "nbconvert_exporter": "python",
   "pygments_lexer": "ipython3",
   "version": "3.9.12"
  }
 },
 "nbformat": 4,
 "nbformat_minor": 5
}
